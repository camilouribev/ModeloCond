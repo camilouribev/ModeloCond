{
 "cells": [
  {
   "cell_type": "markdown",
   "metadata": {},
   "source": [
    "# Modelo de condensación en película adaptado para la condensación de gases de pirólisis "
   ]
  },
  {
   "cell_type": "markdown",
   "metadata": {},
   "source": [
    "\n",
    "<p style='text-align: justify;'> Este modelo se basa en el de Herranz et al (1998),el cual tiene en cuenta la presencia de gases no condensables, modificado para convección forzada.  Se tienen en cuenta las resistencias de calor tanto de la película de líquido como de la mezcla de gases, para calcular el flux de calor de la mezcla de gases a la superficie, similar al método Colburn-Hougen  </p>\n",
    "\n",
    "\n",
    "<p style='text-align: justify;'> Inicialmente, determinamos las temperaturas para la superficie de condensación y para los gases. También calculamos las propiedades  de la mezcla gaseosa y del condensado a las condiciones de presión y temperatura deseadas, mediante la librería de cálculo de propiedades termodinámicas <a href=\"https://pypi.org/project/thermo/\"> <strong><i>Thermo</i></strong></a>  para python. Para ello seleccionamos un conjunto de compuestos representativos que reflejen la fracción de los gases que se desea condensar. En este caso, como componentes de la muestra gaseosa correspondiente a la fracción liviana  del bioaceite seleccionamos:\n",
    " </p>\n",
    "\n",
    "- Nitrógeno (Gas para la atmósfera de pirólisis)\n",
    "- Agua\n",
    "- Ácido acético\n",
    "- Etanol\n",
    "- Acetaldehido\n",
    "- Ácido propiónico\n",
    "- Butanona\n",
    "- Acetol\n",
    "\n",
    "Se asume que el bioaceite condensador tiene estos compuestos por partes iguales.\n"
   ]
  },
  {
   "cell_type": "code",
   "execution_count": 1,
   "metadata": {},
   "outputs": [],
   "source": [
    "from thermo.chemical import Mixture, Chemical\n",
    "import statistics\n",
    "import numpy as np\n",
    "import math\n",
    "from IPython.display import Image\n",
    "from difusion import difusion\n",
    "\n",
    "T_w=273.15+0 # Temperatura de pared en [K]\n",
    "T_g=399 # Temperatura de los gases [K]\n",
    "T_i=273.15+0.05# Temperatura estimada de la interfase en [K] \n",
    "\n",
    "T_propiedades= T_w+(0.25*(T_i-T_w))\n",
    "P=101325 # Presión de operación en pascales\n",
    "\n",
    "\n",
    "d_ti= 0.07792 # diametro interno del tubo 3\" [m]\n",
    "Z=2.5 # Longitud del tubo[m]\n",
    "#n= 0.03 # separación entre placas [m]\n",
    "\n",
    "Frac_n2=0.567 #fracción másica de nitrógeno en los gases de pirólisis\n",
    "frac_w_g = (1-Frac_n2)*0.2 # Se asume que 20% del bioaceite es agua.\n",
    "frac_w_c = 0.2 #\n",
    "frac_comp=(1-Frac_n2-frac_w_g)/6 # Fracción másica de los compuestos en los gases de pirólisis (teniendo en cuenta el N2)\n",
    "frac_non=(1-0.2)/6 # Fracción másica de los compuestos en el condensado (se asumen partes iguales)"
   ]
  },
  {
   "cell_type": "code",
   "execution_count": 2,
   "metadata": {
    "scrolled": true
   },
   "outputs": [
    {
     "name": "stdout",
     "output_type": "stream",
     "text": [
      "Densidad condensado: 926.2715 kg/m³\n",
      "Densidad gas: 1.1583 kg/m³\n",
      "Densidad interfase: 1.4533 kg/m³\n",
      "Calor de vaporizacion promedio: 890521.3606 J/kg\n",
      "Viscosidad gases: 1.075e-05 kg/ms\n",
      "Viscosidad condensado: 0.00121141 kg/ms\n",
      "Cp gases: 1219.8934 J/kg/K\n",
      "Cp condensado: 2259.4722 J/kg/K\n",
      "Temperatura de ebullición promedio : 293.95 K\n",
      "Conductividad térmica del condensado: 0.1801 W/mK\n",
      "Conductividad térmica del gas: 0.024 W/mK\n",
      "Prandtl gas: 0.89\n",
      "Prandtl líquido: 12.41\n",
      "Peso molar gases pirolisis:30.93 mol/kg\n",
      "Peso molar Nitrógeno:35.7 mol/kg\n",
      "T salida: 283.95 K\n"
     ]
    }
   ],
   "source": [
    "\n",
    "#Composición de los gases de pirólisis\n",
    "comp = {'Nitrogen': Frac_n2,\n",
    "        'water': frac_w_g,\n",
    "        'acetic acid': frac_comp,\n",
    "        'ethanol': frac_comp,\n",
    "        'acetaldehyde': frac_comp,\n",
    "        'propionic acid': frac_comp,\n",
    "        'butanone': frac_comp,\n",
    "        'acetol':frac_comp }\n",
    "\n",
    "#Composición del condensado\n",
    "compcond = {'water': frac_w_c,\n",
    "            'acetic acid': frac_non,\n",
    "            'ethanol': frac_non,\n",
    "            'acetaldehyde': frac_non,\n",
    "            'propionic acid': frac_non,\n",
    "            'butanone': frac_non,\n",
    "            'acetol': frac_non}\n",
    "\n",
    "# Declaración de las mezclas para cálculo de propiedades. \n",
    "condensado= Mixture(ws=compcond, T=T_propiedades, P=P)# Mezcla del condensado\n",
    "mezcla_grashof=Mixture(ws=comp, T=T_i, P=P) # Mezcla de gases de pirólisis para calcular grashof en interfase\n",
    "\n",
    "#Verifica el mínimo punto de ebullición, condicionando la salida de los gases a ser 10 °C menor\n",
    "T_boil=min([x for x in condensado.Tbs if x is not None]) \n",
    "T_sal=T_boil-10\n",
    "\n",
    "\n",
    "gases = Mixture(ws=comp, T=(T_g+T_sal)/2, P=P)# Mezcla para el cálculo de propiedades de los gases\n",
    "\n",
    "# Los ciclos for son para descartar valores NA en algunas propiedades para algunos compuestos\n",
    "den_gases= gases.rhog# densidad de la mezcla gaseosa [Kg/m³]\n",
    "den_int=mezcla_grashof.rhog # densidad en la interfase\n",
    "den_cond= condensado.rhol# densidad de la mezcla líquida [kg/m³]\n",
    "k_gas= gases.kg #conductividad térmica [W/m K]\n",
    "k_cond= condensado.kl \n",
    "visc_gases= statistics.mean([x for x in gases.mugs if x is not None])  # Viscosidad [kg/ms]\n",
    "visc_cond= statistics.mean([x for x in condensado.muls if x is not None])\n",
    "cp_gases=gases.Cpg # Capacidad calorífica [J/kg/K]\n",
    "cp_cond=condensado.Cpl\n",
    "Pr_gas=statistics.mean([x for x in gases.Prgs if x is not None]) # Número de Prandtl\n",
    "Pr_cond=statistics.mean([x for x in condensado.Prls if x is not None])\n",
    "\n",
    "h_fg_prom=statistics.mean([x for x in condensado.Hvaps if x is not None]) # Hvaps es entalpía de evaporación en [J/kg]\n",
    "\n",
    "C_con=mezcla_grashof.rhogm/den_int# concentración molar en la interfase [mol/Kg]\n",
    "C_con_bulk=gases.rhogm/gases.rhog #concentración molar en el bulk [mol/kg]\n",
    "\n",
    "# Concentración molar del nitrógeno en los gases [mol/kg]\n",
    "C_con_N2=Chemical('Nitrogen', T=(T_propiedades)).rhogm/Chemical('Nitrogen', T=T_propiedades).rho\n",
    "C_con_N2_bulk=Chemical('Nitrogen', T=(T_g-T_sal/2)).rhogm/Chemical('Nitrogen', T=(T_g-T_sal/2)).rho #mol/kg\n",
    "\n",
    "print(\"Densidad condensado: {} kg/m³\".format(round(den_cond,4)),\n",
    "      \"Densidad gas: {} kg/m³\".format(round(den_gases,4)),\n",
    "      \"Densidad interfase: {} kg/m³\".format(round(den_int,4)),\n",
    "      \"Calor de vaporizacion promedio: {} J/kg\".format(round(h_fg_prom,4)),\n",
    "      \"Viscosidad gases: {} kg/ms\".format(round(visc_gases,8)),\n",
    "      \"Viscosidad condensado: {} kg/ms\".format(round(visc_cond,8)),\n",
    "      \"Cp gases: {} J/kg/K\".format(round(cp_gases,4)),\n",
    "      \"Cp condensado: {} J/kg/K\".format(round(cp_cond,4)),\n",
    "      \"Temperatura de ebullición promedio : {} K\".format(T_boil),\n",
    "      \"Conductividad térmica del condensado: {} W/mK\".format(round(k_cond,4)),\n",
    "      \"Conductividad térmica del gas: {} W/mK\".format(round(k_gas,4)),\n",
    "      \"Prandtl gas: {}\".format(round(Pr_gas,2)),   \n",
    "      \"Prandtl líquido: {}\".format(round(Pr_cond,2)),  \n",
    "      \"Peso molar gases pirolisis:{} mol/kg\".format(round(C_con,2)),\n",
    "      \"Peso molar Nitrógeno:{} mol/kg\".format(round(C_con_N2,2)),\n",
    "      \"T salida: {} K\".format(round(T_sal,2)),\n",
    "      sep='\\n')\n"
   ]
  },
  {
   "cell_type": "markdown",
   "metadata": {},
   "source": [
    "### Parámetros de diseño\n",
    "\n",
    "Para el cálculo del intercambiador se asumirá un intercambiador cilíndrico, para el cual se estima un área transversal que se requiere en los cálculos de velocidades y turbulencia. \n",
    "\n",
    "Como parámetros de diseño se tienen los valores del reactor de lecho fluidizado ubicado en el laboratorio de ciencias de la energía:\n",
    "\n",
    "- Temperatura de entrada de los gases al condensador: 550 °C\n",
    "- Temperatura de salida de los gases del condensador: 10 °C por debajo del compuesto con menor temperatura de ebullición (aprox 150 °C)\n",
    "- Flujo de $N_2$: 80 LPM\n",
    "- Alimentación de biomasa: 2 Kg/h\n",
    "\n",
    "Como aproximación se asume que el 50% wt de la biomasa se convierte en bioaceite, y que un 10% se convierte en char. El resto son gases permanentes. Con esta información se hace el cálculo de la carga térmica y de la fracción másica de no condensables.\n"
   ]
  },
  {
   "cell_type": "code",
   "execution_count": 3,
   "metadata": {},
   "outputs": [
    {
     "name": "stdout",
     "output_type": "stream",
     "text": [
      "Reynolds de la mezcla gaseosa: 3165.73\n",
      "Reynolds del líquido: 0.09\n",
      "Longitud característica: 0.08\n",
      "Carga térmica total: 0.525 kW\n",
      "Carga térmica por tubo: 0.525 kW\n",
      "Velocidad de gases en el intercambiador: 0.37 m/s\n",
      "Grashof mezcla gaseosa: 230.39397\n",
      "Flujo gases hora: 6.35406 m³/h\n",
      "Masa condensado: 0.8 kg/h\n",
      "Masa total: 7497.15979 g/h \n",
      "Masa N2: 0.001526989 kg/s \n"
     ]
    }
   ],
   "source": [
    "A_i=((d_ti/2)**2)*math.pi # área del ducto por donde pasan los gases [m²]\n",
    "Lc = d_ti # Longitud característica del tubo\n",
    "\n",
    "g = 9.81 # aceleración gravitacional [m/s²]\n",
    "\n",
    "#Flujo de gases\n",
    "\n",
    "Flujo_N2=(80/1000)/60 # Flujo de diseño del reactor [m³/s]\n",
    "den_N2= Chemical('nitrogen', T=298.15).rho # Densidad del N2 a las condiciones promedio [Kg/m3]\n",
    "\n",
    "Cp_N2= Chemical('nitrogen', T=(T_g+T_sal)/2).Cp #Capacidad calorifica del N2 [J/KgK]\n",
    "\n",
    "mas_N2=Flujo_N2*den_N2 #Flujo másico de N2 [Kg/s]\n",
    "masa_total = ((mas_N2*3600) + 2)*1000  # Masa que entra al reactor [g/h] \n",
    "\n",
    "qs_N2=mas_N2*Cp_N2*(T_g-T_sal) #Calor a extraer del nitrógeno [J/s]\n",
    "\n",
    "\n",
    "# Carga Térmica Gases Pirólisis\n",
    "\n",
    "m_biomasa=2/3600# Biomasa que entra al reactor [Kg/s]\n",
    "m_cond=m_biomasa*0.5*0.8 # Masa del condensado, se calcula para 50% de yield de bioaceite [Kg/s]\n",
    "                         # Se asume el 80 % de condensado en masa para esta etapa\n",
    "vol_gasesp= m_biomasa*0.9/den_gases # Volumen de gases de pirólisis, asumiendo 10% de formación de char [m³/s]\n",
    "vpm3h=vol_gasesp*3600+Flujo_N2*3600 # Volumen de gases en [m³/h]\n",
    "\n",
    "fraccion_masicaNc=mas_N2/(m_biomasa+mas_N2) # Fracción másica de no condensables \n",
    "conc_b=m_cond/(vol_gasesp+Flujo_N2) # Concentración de gases condensables en los gases de pirólisis [Kg/m³]\n",
    " \n",
    "qs_biomasa=m_biomasa*cp_cond*(T_g-T_sal) # Calor sensible que se debe remover de la biomasa [W]\n",
    "qvap_biomasa=m_cond*h_fg_prom # Calor latente que se debe remover de la biomasa [W]\n",
    "\n",
    "Q_req=(qs_N2+qs_biomasa+qvap_biomasa)# Calor que se debe remover por cada tubo [W]\n",
    "\n",
    "\n",
    "vel_gas=((vol_gasesp+Flujo_N2))/A_i# velocidad del gas en los tubos [m/s]\n",
    "\n",
    "\n",
    "re_l=(m_cond*4)/(math.pi*Z*visc_cond) # Reynolds de la película de condensado Tomado de Cengel (10-8)\n",
    "                                           # Dividido por el número de tubos\n",
    "#re_g=(vel_gas*den_gases*Lc)/visc_gases # Reynolds de la corriente gaseosa\n",
    "\n",
    "re_g = 4*((masa_total/1000)/3600)/(visc_gases*Lc*math.pi)\n",
    "\n",
    "Gr=(g*(1/T_propiedades)*(T_g-T_w)*(Lc**3))/(visc_gases/den_gases)# Numero de grashof\n",
    "\n",
    "\n",
    "moles_cond=m_cond*C_con # Flujo molar de condensado en la interfase?[mol/s]\n",
    "moles_N2=mas_N2*C_con_N2 # Flujo molar de N2 [mol/s]\n",
    "moles_cond_bulk=m_cond*C_con_bulk # Flujo molar de condensado en el bulk [mol/s]\n",
    "moles_N2_bulk=mas_N2*C_con_N2_bulk # Flujo molar de condensado en el bulk [mol/s]\n",
    "\n",
    "\n",
    "\n",
    "    \n",
    "print(\"Reynolds de la mezcla gaseosa: {}\".format(round(re_g,2)),\n",
    "      \"Reynolds del líquido: {}\".format(round(re_l,2)),\n",
    "      \"Longitud característica: {}\".format(round(Lc,2)),\n",
    "\n",
    "      \"Carga térmica total: {} kW\".format(round(Q_req/1000,3)),\n",
    "      \"Carga térmica por tubo: {} kW\".format(round(Q_req/1000,3)),\n",
    "      \"Velocidad de gases en el intercambiador: {} m/s\".format(round(vel_gas,3)),\n",
    "     \n",
    "     \"Grashof mezcla gaseosa: {}\".format(round(Gr,5)),\n",
    "     \"Flujo gases hora: {} m³/h\".format(round(vpm3h,5)),\n",
    "     \"Masa condensado: {} kg/h\".format(round(m_cond*3600,5)),\n",
    "      \"Masa total: {} g/h \".format(round(masa_total,5)),\n",
    "      \"Masa N2: {} kg/s \".format(round(mas_N2,9)), \n",
    "      sep='\\n')\n",
    "\n"
   ]
  },
  {
   "cell_type": "code",
   "execution_count": 4,
   "metadata": {},
   "outputs": [
    {
     "name": "stdout",
     "output_type": "stream",
     "text": [
      "q sensible biomasa: 0.144 kW\n",
      "q sensible N2: 0.183 kW\n",
      "q latente biomasa : 0.198 kW\n",
      "Cp N2 : 1040.801 J/KgK\n",
      "Den N2 : 1.145 kg/m3\n",
      "T sal : 283.95 K\n"
     ]
    }
   ],
   "source": [
    "print(\"q sensible biomasa: {} kW\".format(round(qs_biomasa/1000,3)),\n",
    "      \"q sensible N2: {} kW\".format(round(qs_N2/1000,3)),\n",
    "      \"q latente biomasa : {} kW\".format(round(qvap_biomasa/1000,3)),\n",
    "      \"Cp N2 : {} J/KgK\".format(round(Cp_N2,3)),\n",
    "      \"Den N2 : {} kg/m3\".format(round(den_N2,3)),\n",
    "      \"T sal : {} K\".format(round(T_sal,3)),\n",
    "     sep='\\n')"
   ]
  },
  {
   "cell_type": "markdown",
   "metadata": {},
   "source": [
    "Este modelo aplica la analogía de la transferencia de calor y masa, asumiendo que el flux de calor que llega de la mezcla de gases es igual que el que se transporta a través de la película líquida. \n",
    "\n",
    "<img src=\"data:image/png;base64,iVBORw0KGgoAAAANSUhEUgAAAS4AAAD0CAIAAAHd92x/AAAACXBIWXMAAA7EAAAOxAGVKw4bAAC1MklEQVR4Ae1dB6AURbadeZGclYyIKCgYUBSMgAlzzjmtec27rmENu+Y17a7ZNecsmAMG1uyac1YUUJCcX5p/qk7PefdV9QwPBEW/LdY7de+5p251dXWanp6yurq6bDabyWRyuZwFrMoIAhdZAGhBVGCkBV4KBoFligTAUlJS8sMP33bs0DlXUgoqLArIZXLZjEtOljxsQIu9gaUMdXS0rKysuroa7b381gdr9u+dyZbCiGrPnn2/+OKDKVOmLLXUUmCiSSVBoYUoy9B3SK+99tqlpaXAaw/oB1GAUtelbG1JXXl5+dJLLz127NiuXbuyAbu6XB5+XKxRWMAGul5iCXw0+jJZsWjv+eefHzJkiHEtJEyaLBTdulVzuTbYYIPa2lqsElkWDiSbD1YmFkoQoMSm8q/77pcd3meeeWajjTaytACLLEACSlncWNqFDFgI3n3yzo2XP1VhaI9kWQBIVogsFpBPToNJQgfTcWU2u8aWeyk7Stx777077bQTmSjryd4kskDARDXpJZBNP0k52hRB23HHHUmmqKKSEPjy/bbAm5P1UbSXIELYaWeffPnVjQauUVdaUp4Ne0YWRR3XLwKsopRlfr3MZjfccMNRo55p06zJxx++c/6ll11zxeVjxozp27evtNi/BeilbV+JJMCnjK0UnEGrroLylhuuR7n88suLqfDYIhcAF3LcikWCKAngI1CZ59eHkS87q+wlomAXgUYype9WLEyY4HIT2FLqlLNV4iA2lSaO2/ug8sILLyiL+v6lbbH1Xt8aqliUMTAFBTzLFbCwVdckKrOy2WZ5k0gBQACYNZlceSZ73XXXHXjggSBkMzNLy1o//smM4Su0CPiFqkkvD9lzz1tvvbUQiXYczgBK6nKZ0szuu++ekLMtkQeW4rHW65rE8vXXX/u/xQquFu7WmzZtSmoOeWD9+yEoFmx8xbZYJ5RP/4ZhN+771D4lZSV1Ne7ExYG6usnN2refMzn3ww/o5fTtdm376mh2l0OAVphlklx+4JItFj65CZJqPv39n92PcmhMBLQHuZJOneBCe7YNqbE960p6CRPCyCNwDeTbY1jgRS/Vto2lugsv0ku5LXByCIMpv27VMC04cSFACTKxTQt8GoPA+YxlvCGyAcqpGWuEK8iATYqTTBIlQq0kBn/c4kRIkJeARjAkZ5OAl8GkiTO/zcfR69uzKvfddx+PndaoNgScgF9kSeYls8t76/8WsoPx3Xff1fMWBCVNKoUgtpAdtKOPPjogN7La2EmCyZjflHBS6fZ8WKqrap9855ujTvpb9cwpY14Zsdk6/UY8++aAYdt8+NIT8OIM1GbcYCxRad++vRdxBXksE200ksOuzV0yKBJM4C0GLvvXti3feOoGVHmWO2ipWe/W1GgKOUW/qPlkix0xYkTeZf/mhvRYRnXuXVVFe8Ao37j7X8yDzVz3wGio0yuyBW7F0s0sgC1gVQRVKWqlZaG6dJgWjeTUNwkrTCj32WOXm267i82ohKuurjqD41Z+nyIX5WRnld5U7FYs3FhwvffWG2+utkr/q6+/FcMGy/1vvf3GyCdOP+nYysrK6ty8W28fsf+eu1Dlp5RuV6DTiAFrrI6WmuJU1eeBi7/qkrpmzXC+kCutLT9w790AuCZsyeYLWWxy5CTz0jqEsXmgDVa5rcr1U0CxJjs0bVaZTaYJEsQJLU6jf0pjjG2w+cCkbgFMnjW1OusmIha40B5BXFKL9vni+t06qSi5xgHKq+ty2WTwaL/pppv2228/ccQsYoFLSzKWSC01OxjrKiqwa/P+ZETRnqqMYknRRuJivYRQ1p3oJAcvAIhyt0ejXI7J42qeLAuzYUlOsbFMOpjLPfXEw22X7jJwtQFofNy4cbw1snh6iZT9RBz58DN/Pv3Ulz/8bGDf3hUVFUiW+bK0PYgt6b2EtdAwYIXB9e9/X4yye4d2YOIeENdtalRhHdc0vckOT9nBSgzgl3oqY+D97LPP+vTpAy8wSsfwY0kLqwGmkXzXJNuQtR5gX1jqth0RCHC/S0a5ZKkPJzLh5Lgttqq2urwk2XSVnQO+ByAAk01vjx49aHSxVVXKQLEgB5itM8r1sro2M/qV/2687gZ01JdoDNdZXHK43Cl55Y131h64Go454mBr6th3/R8+eo7HNdmLABfcrLxso3XWL0JyLrfnywxefRWkgB6oEwDffzQaxmTyzkfFuZN80eVGkDOQxskWxpZktOewX+2NCSfHNamULXZyeXEmBEuu1u19YH/tf6/1v/uBZmeemm3Rou7772Hh9ZdSDzRBwFI/luLR6r3JVooRxMLm0Ude6aGKA9mgi86jBBqzgTY8Fc+nlxwiNomjNLrIZo466ij2I8km3wNlTy+bDDhuH0sVZURGHFzPzGabN3f3aWmRbqoOvIFUsV66tv2GoiSSNjCmtXUlpe4oQxd1E69PIcBMi3y3BwjcTIpabjbmdcWEK1fKjWuhmrQdtxgNuMWnl/+brCJUy9Jml2hWJ8bJvPTKYYGO4Mo9tObrtoG8rVF/izXpuphM+lAL7dnhCN1F60U3n/zGtuM6PR94ZUyuetqdF5++x4mX3vTEu/17L9WnW6fHXv145w1W/MvF99wz8p4vnrtv4Ea73H3uHl2XX/mjN/7bf+ge+NyFTXOzAGairsmamhrMOe6stboAcA7L3fr9L38DGiJ3//Ml+AfsLiAydTut35dy5x67E3W2Gtj54dfHrjxsD1S1SBMWYNckjj5KRDyAbQetuc1aAwHoBRuAJe6lcs+qQNhxsff42xOpILsVJC7jPjN2+JWCs1jX0fxuvH7CxPw0CzQKbn1p/MVlc+sVqySQdz2HNVszrybz+acfX3DeOZuut/puBxxeVtaMZFyiYy0GUayed/65fznxpMmzvmpV2Z0chnBMwNEqh51YAF6SRaMrMFoaMBfqW3HZ3U5dlUGDBr366qtQpCh2apWlmX59V7rxxlvzFtAdH1ek973+vz/utOvu++134Rmnwov1cvXVV//hD3/4859OBGYPJY4QYYFCRuUTAMuny5aUteIKd/t0LKxjqvC6VRbY0Se4rcWREeLi3J0guhB46KGHAuPSbJ999sEY0u65ib4sTiEfaEGAVQ0CZQewi6VZ7DZXLdYhYyHg7tPW5tyd/YbL3nvvzXmObjf0/GK1Bp1coCyyddleq/WrDaezG1h0D7tsgHjjWaAmFhW5wZxETlysOiwpVdyUys0ZvtlWUya4zypIIGCJzRUXKrhw4KiCENBsiPXSbi0KtEbRBGzrMjIkudJCBSseC4El0ShLfbWkcoMtNx1x402BSwQeedFJu48N9EUWCNQK8UUToEKqTnLKDCrWhFaGpdIoC6tYJY7tFrXiFEBjCSsxHjlhJ2VnWxRkPJkUop0ciQRG2slXqdZpsSEN9q5w0MdS8QChxRH9Uu9Cd5MNAQ7GomFssQ888MD222+fpyfrwmqKb41UoMsSrJ1YpaVZvLBz0h9a3Dhk3See3bt3x97mzNP+MmHazPP/efl2Gw19/MnnVl51tY/fe/OKK6744x//qJmJhDh6zExYQBnLIhDEimmlLFn2nzCS3CDrcj179vRyudPPPA9nmMCjnn62rq72w3feAOWII46A5cYbb9x///3t2oVRVQFrBFbVEqydWKWlWbywhxB/l0BJ+GYg6yYo1iVQMA/33XdfuDCev8jBs8HmyhSDEU+tug5xMZsfmZYvjL5deuml+DAOFix+pbhCWKC4K6YF/JgAS4PNFU+dIQYdwKJggtDiOeRZF7G1UBDlscceO2/ePHyuI2XRBEQOOJZAV2wJYi0h2VzR3arqqunZkg6S/2lgek2uVVmDNYVtFZ/kLrfcclYYqZxy8XXnHH/Q2O8ndl4an2Amu2jL+enYdZJDXFFegccka/w1VOqgN2gMDL/gIwX8lcvhXK5nm/Kpc2unzK17+f4rt9n9yB/m1vgPHtzt6WWXXVbrmIH7b7PBOcdnmrd0j7NgA7Jqyi0wyq52CSzNYtdJtgrruuut9+KLLwIoD8nJkgSj7heFkwkbevz1tBpUsay9w2ET5x0GIzAChw8fnoR7ryPncsst1xslFm+r3+XSQg4VKBLQWKWL5IAAnQZnPHTDKlEGo5QlySY/aevve+e3CDC/fv7rp056Go/KTHh/Ql2tGx+nk8l0HdiFAJyqUc9O33jT1qOfKx+05sTKli7asfAcbpMO1dNAWJSdhJwXr++GLIE9tUqjXO5eSWn2jWvf7L9Lv7LKstcufx33pCHN2yDdbtzuscce23zzzdGj8mFDOuSq68aOm7RUj/ZVMx3HL2o9BvDLSLIt6YoJsDQ4hGDlcbHBsKRWE6aZRbBgimIHs8Mt2yME1W3+szUAG6bOrFl48M1xnCb4nTu1mzIOFnqd0fcWVVkEfESDZBw/v5BmyfTA0mBOojG2hzIf63IFliVRIcHR3SI5YBCsxcS6m6o777yzHhMhmYRENmooVdBosmVXst1UHXecpIOZBVTJhcG+J9hnUt014vMLwqVJP0p70kMyjALEnlw//soQdgpaGsl0FdJpMJIxVXKhOruH+6/uhmWjRhIZ4Gy+tq62vCS56arsBZgASiyOb1actyVG2mlRyR4yyhJgcZ1c+CXfvcYrlJWUff7558EpQePDF475Uw8h/hIyaVrr0o4tfKzSi+qbb77Zq1cv2rniF/tIKqEYMHfZU6v2OEmm5afibbbZRvYYsBWugrhF8UUToCsmwNJgc+V6VVhjAG6/ivbhW6+uNGCQqgLPPfvMkKHDWEWTPEfHjPtx2syvvx0/EN/E8Qtaf+vDz1bvt8JTzzy/6UZDaVwkZX0nuWfnESxeH3Fj+DzIPTdW38fMaUfu+uwrY/beevDs6pml5eVX3f/yyGvO3ezAUx54YdpDb43875N3PXbbP/sOOeZ/L9+6TMtsbU1u9PtjO3fphMcO19v1mM03GPrgQ/dlKprsvc8Bx++8YfdVhrX84eVTL77+Lwfu/sabo6656Oydd9xhZusVHrnnVhjxKXScTxFLcjJw8cUX4/b5Xnvt9e9//xu9PeaYY9TPYHhZRddeeuyJJi2bVdRVY72QfM8LXwG4jnPfm8lsfchpaPvSU7dDmTtma9gnvHcrCNgr42tbO6y7glOrq3vpzkuw3/zrYduABs6xdbWO7/euu+2+K/RPujbZEFYdvJG/m51ySkA+S4RrgaX+jMdamSUtIKGqEkZ5U40gyK5AiQfAMmOXLNKxfIvJpAUYgBYEpvSQDLcNYjTABB2l/8iDYYonMzZ6uzOTafkk23JBOZZvMTWDtlCtn41qFVZ0vbauOltajhxr66pGvfT28A0Gc6KCBq/kuHZlTGJrajFfSvNfIRRfTQiQz1JGAhhlYStFSoWwLcWi6s7m8HGFfRYIbBjrMiUDBw26/9Ybps+Zs856gz4ZP7FvZ/eVQy41VbVlFcnHVRSl/V//+hfu32ywyVb333Nvxw7N6bKEvED93wXlWL7FVAzaQtVtpegeP0idNGlS69atcXMNRvz/9IgH23XoiM/Xv/rk4+V698GNAgwphBCG0X1zwo9T5s7bsHsXjC06hts2WFO4M/SHw454cdSj83JTM5nm0MFS35sI0ZvKCYyWGWMKK0QAdreVoo7bZ7ix3a5du/XXXx9V9CFbWtahY2d4y3OZPn3d0wD4eIqRcMKOC8Wc3++hyofgIYJn/h2zpKQy15Y6YP6yi9tKmcF2221HHGXmOgyOmPVVoHw4CBhMbAv4FEAK9czCvVxQjuVbzBZoUWuo1u9pAp9IxUDDLZCbN3TQ1YVRK9bSwvvqe7igGu4IYgYQ4ahyj4UxXFC1xcf/ST2sTesJBhDnRgv99ZRF3tWF7+Exu+/2/ZTpn772is0Jw4iFz0BY+y+IF76Hl95yz5SZU1NTx2XE008/PWzYMH6qk8r52YwpZ23BLGLVlkxu8oxJ2Uz91xiCjPEtfe54ArWAFsuKEARaZowZpRAB2BdmDBGPTXH0fXdutMs+SsgCEHCxcv311x9wwAG2Mcv52XD98dA2iQ7EVWsE/n5O9p6b7xhy2p/ItF5Y0DF+0gh74LLKwPQ2nmP5FqemAULKVsr8bB4cBzsawHvss4f/AlVyYLBeNXbLLbfsueeeVirGsXhxjuVbzKggDVRTtlJY7RplVSWE8t6EBpcxuoakgKet9DUC54gWyeY16xmUZR1ey4wxabQDKxaBKT2sb6QoQr/me1xHS7Nnz8bZvFVi83GXLGcR4oWZh0zOle77CMmMFWByrKIzd955Jw6PNuNUZmC0fGB6i5e2XYUjZOHHUCoE2jBcFYPrO44GDjnkEJyO47KD+QVRP0M1ZU/TINf8Nk2jdbmNFP/5BdnjDQrHHXv0Py44f/LMmvYtW912+w177nNgiffPnDmzVatWNlYdo7GIK5Vpo2yssADCF34MceMGl5Xo28orr/zuu+/iPt/+Bx56/LHH/OuKq+8cOXKfffeCa968qssvvxzfGsVIKtefGSz8PMTkwKqaM3fOhRdeiI2wrm7OF599ss022/73pVduvPiC3bbZsqqmGqdveJ8FnmXG6XihMzhuvSwLdd5yCmHGBjqoLvwYQhHxTZs03XTTTdGBkpImO+y4M3aw8+bNfWTUC/i+V3mpuyZ+4403OA8LZb+47SnzEE3a7VhVGQXo4mrzB0V3+MjfvXeYLozwV199hec1YIkXqlnN4hzLt5hRgQ6qKVsprMxMMajSyHiUSJpeuoCLhMD12muv4bk5RTEWpWRtOL1si5itFCkVQh3FopoyhnIrDIBGuQDc4u3+L7lJSYst8fooVGmxVFpiu1oU2TJjTJp0BGBfmHnI9aS25wvAxxIP4HwDFwkhpYfIxkqzakt69QFbwIfXkonRPQC7ahMR31asIBHSVI2VbaywAALr56HfH7rZhTwsg1WVasx9kuGISd5FQui6+eabcSJuaWoraBF2ughQspUiJZnSAaAFIfVjiNW8gLt196CNkigOsPrwnfCYg1Sg0XCjiVk/yeJ6yB4ffdyRl1z4T5f0AjTYYHtmIlA7/6zTd9vnwO7duukoj9WHwyZcdgzxUSII+2y51o0PvVJbU/Pl1+OW793jJ/UmLbh+DNtkakpKy/A9VJtEWoixpXQQ3xCf9JdTz8BX3i+78q69dxj01iffD1nffQaOTqKHQSchcNN9D2GdfvPqXYN3uXHS2KeM+qKBydECw3b6hVdiAEv8xzLIw8qzKqOqGO7A6KLK26+w5kb4e+JJF930+Jr33HQxOZgCHFKFYH65L0m6bSiX6zrk7Vc3Ni7bfrKV0VuoZECggGr9niZ/DHdMO4wgoapSXsfx14cUVQiqH736FG5+T/vxJRwiMEp0ofzmm2+WWWYZMSFFWfxdrmc317BZKEsDQsgsVJKWV0vWCIwIrN9KbcOmoaKw4VCTCh1skNi1sAEligHEV9zxqH9RxUXvrO/hwmgX2SdheP1XGqysegtjgvFh84SJJUt1sLRFi1N6qLFmS6yqhNGMttvVMFca6/z35e/c4a6ua3X99OFPN790M03oXE3deuut5/j4ZKqkZNr6G2c7dGj14F2TOnbFyYM7tvr7Ah1mTsk2byZZACwQVwKpmDRygJkSA1N6SHYjSidoaVetefWgIwYN2G+1Xe/bBRvqun9ax6WeP0JcPfCaQ986xLU9a/bk5Vdu8of9m//9tLqamvbffYXhdp1wx9cFfWDGtp+OU3romjILq7aUk0TxD3ntYOCPRnw8+uzR+z297/VDbui0mnufhMs7m+m8emd4MT9LW7ZoN/5LXDvCNev4v9R9/mXLEXcn+jDl93iSZXMJwTcZY8sBtrEpPSR7vqXLusGqSHRX3LZvn61XwBju9+y+Tds01RhSkAcMl4H//nWLS/8BHHDm2/QCERby6sm1gbzyS9wkPJWt6r9sgip6Eh8SYadSqoI1WmaMyaQ9EKw/HkoOPDvKrKoEjV6V1E0NgUteAHDGjx/fqVMnkWlkqQQIGEgMvmXGWCFUViyqP2UrDVJKqSozf9/RrZq77777Z/54OGUrZVrKV1lyzcHONYQ5yDMuEGRkVBCS8P2ktXdxQLZMxqqkLKtsukhJGtWAFYuQhR9D7AolpLTmB7K4NTw/ziL2p/SQq0rtBGsOdnaMA4cqCDIyKgjRinDD7hfSGAsv+TJKRBZxYmUbKwzAWASm7GngU07iWSO9Ll0gHhOLhogDkYEDB1opYcuBMVjoLV4yJNBBdeHH0E1Cr8oVZqW5Lm2pjEGjnZZUjlxxlOVbrBCmARct6T20uYLHqi2TYP7JE/I199eSA7XgTeaWaRUkIqNlxpg0tSUAe8oYSnRxALTNC6vFIZ6qmdJDjr7YdmPg6HMNue3AnJHY1RaEWJdkCSwzdskCBcuMsVUDBoEWBKb0MEiIVVsmwbiRlLyizh/paPWlJQdqGECcsoprmTISBIGWGeMgxMam9DBoqXAVu9FkVRXmhB7bduhbPPWf0EN3uFjgpH5VPUTv8gdDQHR26qyqts0rvLl+u0WXJs2Y275lk2BlfPnBW0t1Xrp5G3fRSFfV7MkVTdtazSBk4aopY8h5LLlgWsPOnNAlTuikzGbfmVB9yk79n37142b4cBRfi54wbZftNn7tpdfHTRiTbdXj7VF3rrbRbt9/9W6nZVfBywEvP/XQz9/8+LgLzj764nsPXrts2/2OyZZWteu+Vq/BW4/9+C18yoFpPnduVdOmTTLt+2YmfXzrk2/vtelqb3w5YfVllwpS0jqiHU0zJaYa9lAkuLkw3pa040VFpf4SWA3A/vhrn9z5/McvfvbjD1NmLLNUqzW3P27bgbdf85eDXx95dbZZ+78de8DWg1edO2ua+5wmk6lo1nzobn985MoTvv3iwxkTxrXp3uWPO2857uO35379PNJ449tp37zz6keTawYOGnb4yedde+1V30+cuPbmh3z5+n02Gdu6sABScj1kr/BWj5deegnvAGMHGlH6u0d5HvaPQ5dtjtr+G67obe0xUJedsFsmsxv2n2xilcEbn3rhtbgNheqFD7wKGq6J33/u5uEHneN+rKEke+2TW8LYpOcQlKt3a7Vat00OP+HULbfc6oLjtsW78GD87JV7UC7Qklw9/fOf/0RY//79+YUJZCAVYlvSNfr++zASQ4851pLpggVr0e1q/eKxm2yO6Y9sCfYb/Cob7uf53usc+f8hkslcccHfcHQxOommFJxmfhEWgMedeaOuq1JgLC47s7AqI8GZxx3vv6qe3K6Rl3E2JHAZYQctM3AFXsuMMWODtlB17ysMrLaHxCjVWJwEvYGdmtYVt2JzUkMKFJ8ukAWIUYLDJkQOaKjKEjRBu/fn9535bsZM0liyRQWqqhwYDoJ1Eccc0mS3VYVQMK4yCvZkX8OcVDKAVWECv91jK07e4YzZgvnoftolN3fSzOntWyyNPZD7Pk20sUtHraTr52eW5SdNu5f+Yp+GFJJpJI5AoKm28gou/YAcWIozJUhgpQphq1+IY+2WLywCgS3BcftTezoMkz1BhhcDzphk5HG/Oje7d+/lHx31308/+HCbrd2bI8pKMocecvjZl11z983/WnOLPXu1b54ta+KG2g8JRRpsbnDhK6HJ0wAQSOYZmaw6ayYzbdo0vLIYn9d98cUX/3v97S232uC/o9/cfItN+UUsZI5sQbNdsPl7jaRHtFsvYxXOKjVVUsGWimKgqsoBFmLrIo45EBGfraiqEFriqlpJ7tZwdd92221YX1jdOBz/8MMPnTsnp454Ox0e2qaW8+YqTzv11E8/+KB335W/H/st1uLc2tqjjzp67BdfPfn0C7vtf1SmrgZS5f4t5xoYPC+86fDhmLjH/u3MHp27HXfwQX0HDp74zVd9ll8OylOnTkUrXbp0wbPT6ioAfi7q6Wee3mmHXe668+b33nnyrPNvOv/sP+Etl+5I5Q9sduPgWihkifkBU9WYSeVUfUWJI4sAXBYH1UIu2QmKVBvsUTFUoGJt4vnlCRMmYM0+n3+nFhvmYONrsHvtezA+a0EVKzp5EUHWbVPX3XKnf/Fv6V577IldqzqWhLs5l1lv8y2X67Vs57PO+fc9dz1y/Y0Xn/lXNEplKGAUb7/9dvycGTC3AIRgvJDPd+Przv0bTjfcm2SozChggcDOqgikBWR5bWwhpgQtuTiGVy0KWGOAg2qQia1KLeUqAwNz7bXX4pNb/H4dViU/GYO0XfRxmRNKVmn9bs3tSxsOIWLVpBsTjBtKbAR+PskFIz4AwKf+GEu84mqllVbq0KEDpyY+2Tni8MOh4wJ/XxquAXdcDNYLqrSg5GhxLdPYMNzV7BiwKqZcsMOYnJbgD8beVZyFi9JgLL5CNXToUIwldgbDhg3jN885nOIDOE1IeUA7SkkFFtqtl7EKZ5WaKiUioCgGqsrMYYSF2LqIY47ls4kgXJlIgQRLc0dBLIxXSWNgD6oiC4ggIBcAjW6a+rHDyS3ywFwUOSGY2Yl5ibGEnV9R5SiKL00L2KLlWIttgnbrtbgQ00YB24YKYUsrxLF2yxcWgcCW4KTMRQ013FxgAZBQ3tzAK4K2EVgYSJ7CS/DGN+yG8R4qd0XizjCxqFHSUNWYYa+OC3a+UxbGYPfAJiQuKa+aFFacmA7GAqtRYstPJMwfRYlMp3JQE2LCRRxzECs+dVRVCC1xVWkn9zUYr2xsGIxiW5qwzYxktqdAMmHk/hPPC+E+FGot3IVlffdggRRZAhTB4OHdUzDiYLnmmmtif6uG2Hpe2zVlY109b6HdehkLgholjplOJb8oCgbmTI9yUBNiihZzECs+dVRlOGOtAgmW9rPORV6xl1RX33bVteO/+wpb0LzS5AWbqbnatYOkcfK87rrrPvHEE/jBOFwRKYQrgmSU6nBgEZ9rh0xyaAEBVa4dlRIRIE2BqlpZKyhNAgYymRjDIheVlUlcVSvhOSp1USonWX464FysrijfcI9dhu2964ya6vJc/edvxfXRB4wc9q54g+rIkSNRYkayY8UD/z94C57dYAUFAxlU47UjgkAqp8nsqSOufWzwhuuXlFfg5TciEwRVKtDIlHBHAu+9e/bZZ3EthHG1BDUnkcASNBF4rVQhpkIsuTiGV/kIWGOAg2qQia1KreAeVQyIcpO3Fhi1aEKQYIdfLpHBqa2oHLjOGmeeeeb1dz7wxqgn6GKUYgXgFQbAARILBhLvq/jggw9wQclGbW7iq1FabKlGCZQ5qsAxU1IA8KpKMqvKgeGWKVrMIU12W2VDjLUKQXqoFtyjMrPFUebKKpdduee1t9xYUzUdt9IWdEF/2CXcrsPr1HGLjr1dUJ3fEr/gOSo6qbWDtWarQf/pFYGrmBy5FAJNDBwmE96Y7j4Ty784nVGKFUCgsACmI2Tatm378ssv43zHaRaYH0oDBIZLhMokMBwuVFOZpLEkTYGqKgc1YV3EMQc64ku/UD4gxOkhvOBcVHuUXpQl1rhTx2hiJBdGWJ3Ez37hw3v+1HCRhOHiwKPDOD/iCl2YhpfUGHdcRA9teugnLeotLCAENIXQK4LCYZGLXqigJcj6xV37Y9sCJhP6ihWQywJilAjBED711FO49mB6ULOx4HBBN7EAJ217q9JjLKvAVEjVQZyigEn2YvXrR4FiisaGKJKKrYvhjLUK1LetuD0qk1BJi7VbLJpA4LVVi8EPWzImMllidQNwpTtK/nSDXrYrjItIvHFbXWIsObYkn1KySyTQFFlMCwpFiSOCAFwWB9VCLtkJilR/gT0qZoTbmbIrDb9B5leEmzFYkDRuguN+Gw6ipaVuDiOO76/iVgwebsOCgHc6PProo1tuuWWhIaTgb7h0e9Sge7RgJcolEDBZDby2ajHISUuYanC4QXHf2QPEOPFejOPksEusGjXq6fYduyzXb9WK6eOfeeW9Lku3+3HiFOyQN1h3/dKyeY+Pem2zTTeswDmO36fho48tttgCN+cGDx6MQQ0a9ZquZdqt12IRBAIv7FwCe1AFRxYBa4xFLM0yZScoUi04F9nY4ij9LPRDmC0pLyvHr598+eWXOE9BljvuuOOWm29VXjnzmWc+OvPva2+wwZBll+1x6623lORq7rjhP2+M+XHIhkMqSpsfd9ShW33+ZV1VzS6779KkSdMmTZrgZBVPFyyObH8VmgWPixp5dEN75NQuBV5btdjp+HjMC0xCHI5xMKuprcHP2ABMmTIFbzwG3+0acu3+/vc/lJe3euq/z7UqmXXsX/5y8fnn73ngoXs6gap/nHfhp59/mamZhzdX33PPvXyyhPte/FreYYcdFifJNGxJTphe/hQhZlrNQlHiiCAAl8VBtZBLdoIi1YLnqIhRGNYyGtY5ldIloFcEVMWUi97gHBU09/iFP7ZhCFFVbGmmBUJaucNhy4vOPZfD7jes8hNO/Iurllb4E+tsx44dEYUdKUpMaDXN3FhS1payEzAKBFSVBvkk2JI0BaqqphVoXcQxBzriU1NVhdASV5W226PaaUchWLiwKqOtxhgh82XmdfOXjPzrwxheSISB2rBIs1V0aY011sBbc/D0EAYVkpISpsXa44QtJ2aSr9ISCmG1bkERnOqSOIEtwS94NxwrSOsIPCxBlUZbiiBgva5hnLq4B/uxY3SF+3Ax/yib9BUrIJcFVLYcWLC1brTRRjjZwUMCcFkvsS2pEOtYjlWwfGFLKIRBlkvAGgMcVBmiQFuVseA5Kla6W+9+EWA1KAOvrVqMJlF1FicbzkVnN7OHVTYkLBAzIY4FUxA3V0eMGLHVVltp3yVy0ITsbMVWY6Y4lkajzSqwWJfFgUghl+wERao/31xE6lizWNechzhTwS9vuPlY4JxCdgQKC3B9qSrgLy4xmm6PKqMwLdYe6MyXSb5KK1UIS9OCIjjVJXECW4Lv5qIYqGPhmJ988snE8NIS0Dy3ng9EghVkIJkYQjdq+bBkmqvq01CsAPzCAjSijHPDdefWW2+NF3Wuuuqq+vSRgbZks7AQKHNpUpl2clQqSmS6RGZDMIpJNfJJFoc0xdoqwxlrFRgrBYCU60WnmM1uueUWVpFtL5ISrWJ/6j6VwCt7gsH8yQ1AFffk8BtxONNxLeQn+k8WXqIF3B7VrVWzVNXM23zTTc655PKB/VfCrknrIqApQmuKBCsoF8hOB6Wdjv4pbxulWAEECrunUvHclB8bKjtNP04UIRk54+Y4fmgU7z6OxaUGXfDxkfPf/nbuwcf85dO3X11//fVwfkRNAPglC6YWtsgqycIEakJM0SQoDkIstlWGM9YqkK8oADcXxQbGTq82VzZopd59+61SXYofoMMHgdgX+plTYLu2mUFB7RGj5OJa5RC69vx/7jPG+tYdwYwKs0Ks+wZBNltRkh2+29GZb5585OWPQJv445S2bVqWIjF8iOFv4OXbcUdfPDCHh6zwnkdgp+BlbemNtSW147KlPfAur0xmduchG4AweMfD/3rQdttsudkjT7y01WbroF3JCoAmzJxZrU/Y9EIuRsUcEJiYNFVVCC1xlWqwh3tUZF1TUzt56rQLL7ykWfWszXffaeWevd0OEHu/RbT4bNyKcMB/OjU/4Vymdjp+ke/hOy7FF3vw/mrwe/XbqX+L99cdvPKah1z88FOv3HDaAWXlDfry9ttv4wmrpJX0BkpyZd26N8t2WrbPhG+/IOV/zz1RsnnbtydtutcBZ0wZ9zi+1pceuoRZ689uOLAYxRZNyq+85V7kmVj8J3ZY49qOgi74UXE2bRpiykUv56LfvFE0+DiD+mpFAIGIKilthT3dZ59+uvwKK7iWMpm3Xrqhd6/OP0ydN2/K97uc+Qd8ukE7S5ypbr/99n6vmNiRUtAELCB8M7MW9wFLczOz5e0QWzPpS7ejyGYnj32ywd7fqENHNcqyCkyg5MUULeYgRPzUcMZaBfIVBVDwPiqehMAX4MGAtNpmM0EZeG3VYqfjI7E5JCuIwBvJFF/ARfn1CtB7+eVRMqXlenVHZh3blufaLOc4+N8s2JGusMIK+M0jfXoMZ9CELCUlmMRteET0l0JuvHkQMZL10OYmkXp3vqHAVSSqkEt2giLVBnshpRIEyL5IgFvjyXgWnN/zbQgrWknGZLrGjh3L42JMqLf4zZSbar3x14bSR/Fn6kV+FzSf5nBYxgx0v2TrjlITPpzw4j9emvz55P2f28/Zo70FBxguvNuqgTIHDK+U9k+x1k2fPutPJ8+78x68i6588Fqt7qn/YIsbQZGtpIHsElApOIo/Rx/qjy/hmtBUe/vmt9+94/2qafNWO2C11fZetayybKm+S213/bafPf75Jw9/2iAMg+Q3C/xEx3NnPPeHVw8aMGDAZ599huc5MPhzbrl9zgWX5KZNa/qXEyp32La0a5eSli2bX35p8yv/BZEiU3bquhu2fvqRTJMmP8cKadCfBai4UeTmbINoCexB1fKJRRCwHBrjgRM5IfgZw8Cvnvvq7ZveQX4DDhzQf7f+GEJ/1eGcK2zecJ7ZljKZUaeMggGPqn7++ecYRYxuk333qtxr9xJ8uwOvZ3/hpRm77FX92usVG23Y7IxTSvutNHnA4LJVV3YaSMIdrd3u2sNstl3bTIV7CZPydLT8Yo2FMLhyCVhjgIMqQxRoqzIWnIvQ+gUXrsSeQ3rin8sVj3b43en3734/+qzR08ZMq2xdue9T+yJD53PH2frzG1gOe+tQ9hAnaHiYgxg3ywnK11279QtumN337jBgZWXtPn/fVc0GhOqvaPllRtGtL7faWc5ndbldWf42SqdVO+1yzy4u0i+K5FgGVZx24nEQMeNdIu5nuBCXza97caMYdA+dokV2dlPVoMdaCSQoHDS52ApWlh876vvDWGPu3eTzscrKAY3qulAJsF1U+/Xrx4c56EJpRZSeApknBHmlQbvaIlAUyaqKrCasizjmQER86Qf5kCAFVUX7+T5fdOn6NFG6PFyBP65gT1RaYDGZsMiIbmCN0yKjU82f/eL1LHjHxDrrrINRITMWCcJRRTholimOWpElpskiUDzK0ixTdoIi1YJ7VK0IpbuoAKYjxN1u0o3nolKt14Fk/UEyk/noo4/wHTmtgnpeYQTy4ut+4WYX3lNwj2p7wlVQqGNaQSTEgcwOXq5fN3DuOIa/7rBkoxQr4Lj5dSpAI2NhlAiAw+6g68YR/8PLpzc4EV0OeTUQGOuYni8pciwTHC2KgoWCdFEEWIFiihZzLJ86QThjrQIJluZGUY1RRbqBPaiKLCCCgFzUdCX+T6Yh2sXPoLjVShpBULUuF54nF7eD58iZXG2NezxOUUETFAlkLUeBYgbAEgphq1+IY+2WLywCgS3BKbhHVRhIi3zBSsbta3eKWH9QW+SNQBDPhNT16NHDIT8LF0cbS4Lmz/fcDXcm7qDIfZo7vUGFezOHEoLfuXG9awXRFRhtVQSGqJotLcEDq6hio0SJxUaRHFgsh1i0GFhCIWz1C3Gs3fKFRSCwJTgF5yJ8i2vRONU34A5h9bVFh/Ahcvv27fHgOU5WtSIWnfySovRLjKIfMcyOn2Ed4KCIN8nhPhxG8Wdo7pdqouD1IhLSoVEgNcvAa6sWO0Efn4weZqR7FCNphUzxBQqlIYKAcostb731ln7T2XotjhsKvIX0Y5osAlacOo1xiUNQpFrwuIjGgl1QUFWvBEQQkEtq7rjIuZg/RIlMEFSpkGqUpgUBHxcYiNWdgaAJkoNwy1G7YgbAEgphq1+IY+2WLywCgS3B+QXmIlrFdaLfsvD0FP66yWlLVQEsJqeIMXChyt7iV0h5veEaM3tyi+OGAi/FLY2WmCaLQPEoS7NM2QmKVH+Bueg7n9+tuofF3XkjlmD7kl0uC1xAPsQCb67fi7DnJ5xwAkHQBMlBuOXYHES2wBIKYatfiGPtli8sAoEtwXFzUQzUsdDCbssCENDoIp+YBCtoReDF0HF3mkw/XHTg0OgXNUoaHk7EyxfhcVWXoYNUUyvWi+f2MNuMpcGWQXHuXYHdK1pwqYrvMOP5mvyOHbHSJ8AvZZSVuq8ro0Xol5U5fdGImZ4wAcJtkjCKRjss4gTYVm0+VoGxUgAoeO+Gcii1UFTVGIggYDk0ukHTPg0gf3bjzXS6t6fsssFyh1/36kYruh9NxY3smtrcuYdstNlpDw7o0pTP7YOKh1Hpvfr0/Z+Z0PvKc49u18Z96xENYcD48T0eEkYLxH47wKt2Miftss6wU+8+cY/N3v/kI36vA1FY8jTfYtWscT/O7N6pA37sG67KivIaRPotGYK4YcHuJA25jmAjwzHYpaQEIIhNAdsJyXSh5CIjqhYHVbpEsFUZ3ShqA6E6LTDKTraqohFIiwRUxZSLmm67JuLqcBMiaZ1RLDlfSypbdCjLflOTO3W7tfsf+Z9vx0+YM3PWIVuvvf4fr169xY+rbnf2w+dsfs7o6hdvP2fK9Mndl1mlbesW33w79qq///HJr8s26TDhlld/+NOJJx1z8D6rdCi98plPJr5+3+Wv1D1xxZ/cr/HgqdY5c1YsmfbKV9PW7tUGjX446rr9rnn3kF7ffNdt/z+sXzn8hFue+ufu2544csVpL2z595F7btAbh+/pHzw0+JDrP3rxwXV7dbjg6c9GXvsP/FLPbeec+PqMXLvJ73UYcuT0T0Z/Pea7a/922OgpnVetfveB96cdd+Kpxx+Ct+a7FcJVYddMKkZuXAkEXFu0SEFVKqBaf71IEsMuv/xyfAvwrrvu2nXXXbm1YqNjMAgLvXA3hx1rjV+XuM/p74mn6PFwCXddLW7S4W5r3da77TukX2d8C6Nj6xYTpteOfuezH1+4YcDqq8ydV43Ppmprqr/43xPLr7XZUcec8NH7Tz31vzvO77rSsYcctO1OO7z82bi27Trnmrb+6psx7keBMaPctuRuGs2cOvWLN57Cujjy2MOwKvY44dJmHZb9+JAj8UV1kEqzdbc/906Hlk3O6DkM1Vb9ttlulVtB3vfY89bt1W7QWWdhhZz/532yldmdD/1jTdXcb995etnVNjns+L++/9wzI5677vLu/U84dP8dd9yuRzs8Bs2up/R0kZjc2Q2EkBAW7VKOOOKIY445BkMIF483RRqjggi2ajFbcWW2FC1l60qrS+eVliXfAyGTJfZK97zwFfAk/5q4Sx940dtXrtvreKyOH6bNTaRWPmN7v42fdOmDDEQX4Lr04vptH1U8Jj3PX2/ACxoiLnzgFVh3/HCs5/fAZlpXUzVjbk2TFs107ATv9Qe3xEj/ONONKJdzr7z73CvdukI1+UJWRadJEyZkyprcfWVLGOm6/B9numb8kkQib7+eU6uFXLITFKkmcxEMdAALBhKto4q5yCqTk4TyWAiA7aW2tnqb1QfgeOH2rrnshif+xX3O6NfLQgjON0TKAnEIulZW0aRtRTIGMaG4pW2HDiBwpRVnLj6vG0X2kBORmCW6R6Dmg6rsBPIKWAKNpaXlMOLlCq7EfrUcJ4Fu03ZVP5aKFZDLAheQD7HAmwuOR9AEyUG45dgcRLbAEgphq1+IY+2WLywCgS3BcVcaWDjVAGCy085aSLMWkLHQLkyAkhuBVbNkq2Ox5RBLCoCYgO2qdVu1RoZYL8NRwihMoJylIEJsoQJDgOOeyqiGxInVZCFQla1QKnbBjqX+7Ib1hS7RAGJt2wst9Xvggq4BNxe59hVJi6rWCxfYbj/rjmY42cQk9kS/TZtAB7ndGWMiaS2NwT6BJJbbiZpkuERsVUYfXt9Ha5eoQCEFElJjZRSQGkBgtFWLA326AoI1Bq4Fnos4gcRJW0kdPkavxUUuzv7cWJZUlWQqvv726y6de5TjIQx/oY2TI+1AbMcWCCNdL4LrHMRhk8E1iGt/gUR+8+Tk7MbOG7vqOebyOoAXkvj5h1MT78WdFpwFVW217T4P3HvTbXfetdvuu1VgHP1xIj8G9atRlkCZfPLEMdsBvjBcg9tmdXW4E4bn7ZO5hXxEJrAl1FClcmBXQwQqJUi+7ACxRUa1EvBR1aqji1UFBnyRlQYJ0mcOcSbuejGwqiU1ZtRdZ14a/djFl/9n+pyqJ0Y8lL/EbD577ix8m/fs887dc+89SvzMYZRVY05S85fC2CLcio4XXMbhLX/4GiLH8tbb7th00w2fHz1qu233rKx0dwUQglLJE9gSBFQtTWQ2Ry8xSwkGTHhji4zUYUpSs0ZiuMSJ1WQhUJWtMDZ2sTk3F5W62qAPZX6QnAFezDvsy1YftG73e+49+eJrq6tmff7Zp9Vlld3atWnW0d3DrKmudtQSTtf6pGHDqy9wpawmjDJsfna7SLewCjKGED+6gJ+CXrpD22W6N6/Ntv36uzGVTd0hWTTFEthSHAGRYZGRWGWgENhVJShEhte2ZbENtGrixJpFXFRIjosY5HffffeTTz7RaOMdFXiSk788gg/KBw4cCC0MIbbtppUtdttj382HDnnjpRfatm6LUaxs0nzSuLHY1x5x+BG1NbWvvvziuPHfa3+IQAzhLrvsgoftL7rsnzWVzf/78MPffT8R20iTupqKynI09Pzzz/PFGBxdhDAcb83s1qPb+O/GDdto24022ej8C2+oxZs2/McXdhX8P8fJ9SLW3SqrrIJvNWB1YCAvuOCCBx98EF84gh1VlFitANjCQMBjLCuutNoNV1z63Q+Tu3TqXFNSVp7JvjDqmbdef+vYo47Ecxhrr+Peq88QlFzF+It7sU3bNF9p2NafffjBXy/5d11FRZfqecss2wPkioqK1157bfz48dtuuy2GnKOIV/PhPcTPbPxMdU1d9dzazTcZNGDVnpnqZC/q80n2mUw7KFUVYAiqXIKqNcau2AI+jUVcVpN4vpZYU/qxi2r1e1TU+YE4DkiTJk3CU/Fz587FK2N0H1Xj0bNXb4xqv5VxIw2TM4s30CAWv+G2yuqrYKRKykrxc24laaeR/r0mTfCUL2701WRqy8vdp0bQ53jjPUPAzz33HKZ+t27dsBs46KCD8IsZLrGSzDkXnr/8Cmtin54tw/ZR/+YWZUVgS5dV/TZUvxOGnYu8eYP7GyjItUBk6TA8ji1iiRMQOXZRPzxHxWhffPHFZ5xxxuTJkwFOPfVUdQMuqriJ6RfvgtnZubgKpqz/DxZglFTwHjfesLn/ndftoB3fL5z3+GYMRg7vAceX1mDBWNLLTLCb9XTqUCRpgm3Z0rflmMqEXgrKq2oRJsnqi0LUHGNlJ19G0OiSQpAJ+fRK05IpFbsom8xF28Zxxx2HuYiJeNJJJ0mIKqQFpeVYnSAENHYGwwrsL0bcCg5oGDbMSLzL7d57791pp538sLlVAEBxlWyXpURSjYE3UFCVIFCQVw3JAlCILBfJcWwRS6wpcuyifoMrDQ61ziT9DtPNFQGokCNdqNBCOVuKTGNAq8P1pleRFAFpKDGE11xzDX5mGq1Tii7xxQwCSZYRrcvCECWJqjBBISa8QSz5ygFVtkg7+TKqIXFiNVmkacmUil1sLjm7YQUkAUnAQrstSRNZVSkUcvkGXOHmYH4dBlHO45+6OPjgg/FW8Y033hgbFixIyTKJZbHVwEhBlQBcRMsb3F+rE9utpQhZLvLjhopY4gREjl3UTy7g7JjRgRJG2lnSQq8sqVVrtEwk4Q+SyZESI8lxDFphQyDjPAtHR3wBEe884f4ATJJTm6DLljHNhtNrSxsbM2MLYmUUiAVlsRyLSZCFQFXrTXUl14tqRgEa/8D1U6v5+eev3N1ZUJEFI4c08GJ4nO/gUgQzsgj5/7Or2HpZHAPpPgjBTguvt8jUuU+Kk5OclCHARocEsGAU7777brzTHSSe4wQbaUrw/zOTG0WsKa4XAHY/sMjLNQuOXY8iU4oK5AQuVPFhCF5ZXOKfZXGfTZgrDWnaKBgxIzGE//rXvw499FBdeLAt5sNARtlS+YhmleUF0FKICUIQyxA1hyrTkBRcMhKrChCryUKgKsmMjV2wY3GjqOaLANHEcdF+sRaL4bRV4tpsprbE/cPlhnti13MsLYhCFRceuHWHOwBTp07FF6BEYJRibTUwBiGochEtb3B/rU5st5YiZLnIjxsqYokTEDl2UT/lU2I6MOwEKIVjEJODKIVQp6wuV1qTK81lK/C7Jpmy2kwVCEwuYEoHe1EMJG6oPv7443xfJiw82WGIAm1VRrYblBIPQCEF0qymAmUUkAsgMNqqxYE+XQHBGgNXeL2oDLBmuXJhIUAkAOPlYqKqWnWS5cJtOeC62tyNV/67aa76psv/tcU+e+BmuggCbEgdox3lDjvsgLu7+JUFYAwkSiwiE9iSuTH/wC5xApUSlKxcsQUuyQIjVmS6ZASNLnFiNVmkacmUil2ULXi9iAAu5KFEVaWMgYUceW0VX+utzdWVZ0v+dMJJ/Tu2HzZ8qz27dK6bM89yGGgtxFy5uPBo1aoVzlQ5hHSJbKuBUUnKHjcU5BwwpSCaVYjJAT8mFLHQZQnCsYtppF8vcitAKUA2q8ACgZ1VaxTTXVXkMtWlufGzZp9w7kXb77RDDT6ayrlnL4JWZLFqwNiv4tMr7FfxAzY4zUGXgkBbVbtSs95AWVXLsQokxBaJWyC12GgVLGaILASqWm+qK30uMgyrCQsxSmJrES3gpFa5u8HnGaVNSrfcffu5tdlyPGHlLxgDTVslVn/4EQeGEPMSgwovCUF6gTHwpqYXGKUQ2FUlIC0mw2uNFttAqyYOgapWKnZRIf160UrYln4KxuYAWXxDI1tblavNlrqnw90wLtCC3elmm23G23I8wVmg8N8qOX2Pyt5iBnASsIQxBmLGKyiI5ZZRWVfyysOPdum24v/eeGWPQw+oy7qPDwOmLNK07eKrBzhfxXTUCY71KlbGwGLt0heg15ZyScdarDFVOTDaqsXUlIVAVetNdRXco4KN9c5VTxVia7H2GMMSk2vct592OGaPA06/6N9V1dUleBoyf95LhSBKCgKYjsOGDXvllVfWXHNNkBVOgi2tVGBnW9Jk1RpjV2yRfhGX1YxbSbVQzWoKxy4qpF9paNWQhCoAJGSnhV7ahQlQkmyZMGI3WlOd67nKat9+P6lLC7yHv/5TQzFjQUpRGRg3AfDUCH4zU9PRKefTI5lqMNpMrDJDqKlSsQGTZGqKLKNaCVyo2jRUVWDAF1lpkCB9ZhXnln7vhu1BC4taIrYWuqzFYooonAAHs/POvuDEE/+07Qbr3zbqpTp//6ZIlFwClMW1I55GaNOmjfRJsCWZJAR2a5SCNdrmrL2RZNCsgsWF1MQhUNVKxS6quVHU2HLM6WBJC4NJsxZx1KRVgJEhEnQfGuZyR/75xGnz5tz25LOZsprSKv/lqfyMKSRIKXqxHWDBY3N4oMQ+jaD0bLvK1npNPm6m2kWxQebgxBYZ1YqVskZieKFPTqwmC4GqbIWxsYtq7riodaQ26GMkSnCIJU0LaQoXn3arTEsJnlPFCxnc94PdeOJjJ56jsl1pxoJqFzqkYV+677774mk5jCjFGWVL2KUc2BVCoFI5ky87QGyRUa0EfFSZLQmqKjDgi6w0SJA+c2BpY9OvNMCgoqUuGpz/nBjbJCcCM15QcZzj4Dm5+++/f7vttuOF44Iq/Jb4BfeoHHBtHeiz3UC4dXBF2GEgn3ZtOJbmBtFPbBpRasuSZiwoDvmMxTkO3u6GIdQNObUoBeYT26lgs6WlEBNeaZIpBeUGELhQpVENiROryUKgKkSAKRW72GL62Q3YWJQEqcxAedCYyinkcqvb34jz6n5AfUPaK9qGAhy3i+mIR3K+/vrr7t27w0uCLZWbNQKza/KyIZWWLOOCkgM+NYuriRMnUMRFzYJzkW47lsCQsxZx1IxWEFwkBy43iNESaLIhiUuKFisIfNttt51yyimcjiAwVgpUpl0ldeIqLMpZCpaspgMjWwm81qg0xCmiT5clMLxIbunXi+yPmiSQOr1BT1hle8RqVS5YGixYa269JTsigUIdkKwEsVPFb9OpUSgoSarJxZBYwdqBYwURbFaBka0of3qtUWmIE6vJQqAq1IBRFsktfY+qxgSoohJAS8wp5GI28jrgTzCtAmy2KiygcFhwUMSPSf34449t27bFbhkWLFbBVi2mCC0StMbYFVvUUBGX1bQNxSGyEKiqVgSsi5puFH/Jpf7WTYMstD3aTbIBI19p2bIldqq77747+payleRpv+2/v/QoNjitm8+qTh1RHBE7d+6MMx0dGuej8lt0p4/i4tyozdlN/ogYrdhkn8E0UMEIYT+LfSYsHC2FYqeKD43feOMNfHOPHx1Har99Q/pnGlyLWGVYtA6IrYUua7EYXlu1GB743PcZHaW+CdhrcCZcO++qa2+4/4G7HnviOXz3+/Krr/3DgfuXZUqq66qeeeapIUM3yWK48G3l/DkzFPBb0quttppalGYAVI0zpyVWCOyqElAwkLWuGM/XEmtKP3ZRLX0uwoeAZEaQuOhKDBq0cbVotxXsEn2K7sN/vJ9q/Lhxzzw1urp27h4773r7PSPuufvOgWut8+mnnw7fbMs99tr19lvvxv1YhmOC4utdSy+9NGfqokvz16SUPooa80U7kE7Wj6Gfi24Y6/Am2bKyPfbYA68TxjeZcY8b386YOXNG3xVXGrrxes8++Ux1804zqucMWKX3dbfdduYpJ+Ej4t123f7Lb75dplsXDCRGbplllsHo4nkcPK1qP+L4NQ3CT841fRQ5eIt2CPOpelU/EXG19/IrryzfZ3m8AvIf//gHnqm57777SubVHXrkfrfeMnL4Rus89/yrTTt0bJLLde+50vMjD8mcclJJdm7bZi0mzJrXrWreORdc9MXnn2666ab4CgA+3MA3kHGm+v/znmrBJzbsQGo4Y8CxkT0/VO6vVai383LOf5aBWTh06JAbb7wRL2LFl4fBwZlLSWXp5Zdde/LJZ5SVzPv7Wef+7dxzSsqabLXZJo8+9uiAgYNffu2lF58bdfzfti6rmXvG6X9FCJ78xwPjf/3rX++44w7tVNE0W2e7xLasz6chshyrYHUaRiTdhDHmx0bLsTjQpysgWGPg4tHIHQVtcqhyoRG4EAjsgQiqiiV2+9T8AjRvXtVuu+2Gz5jwka+7tY1XbpZmWjZvd+45Z+CtpXNr59xw2YWjX3/9iSdH4fOsd//3ysxpk7qssAbea4s3XFVncniDAL68gcHDR1Q8u0Er6CFbUDLMwZZyBcByiC0htsAro0CREMuxmCGyEKhqvamu9DtwWBFcGA8MgHgAqtAidVVtwyRbFzCUfJkUGDZeHuCQRh8e/s/5t+WUwpdr0qP3it0xQ92T4O5nMMubtNwDu033krIKfFkAWtiFYhSRCfaoY8aM6dKlCyxUZ84oUVXyrpX8YrOlrRATXirkQ5O/kkXdKpMvoxoSJ1aTRZqWTKnYBTsWd1y08d5YX8CFCuUkIQt5CkeVfNoRVchFgkpGJUnjLNW/aFteXCdKqry8TLtNZIYBUW44M8Jv2HTt2hWBalfKtMhOcXrVEIAaCphW0/Ily9jAJaMaSvpoMlSIWpSmJVMqdjH85/usnyvItdpg5+0MTNd2NcZBlxRFO0o8Z/zVV1/x7AZVKtBrOy9lKbgM8kshJvzSzHPdXxrVSuBC1aahqgIDvshKgwTpqzkyFZ4+F0HSwiZRwkIVWahCuzABOQ1d3uNMycERiv7qPxlV5gpSw6jEC6OUCUhDyT0qjDvvvDMOkLz0VM9ht51XK7DHmoWYJNtYWGSkTuC1RjUkDizCVspqiiApRsWx6eeoiNcCXWC2FIPAzqo1KsS9MxzPg7t6/cEx+WjK6xtmfYtWqjjGLMRBEc+prrXWWhjIQpnYVizHipMTM2MLomQUsLKB0VYttq1LMyCwaks11KC3si5ygM0Hcym/MSxyeSeI7uH0B6+yGzx4cLy1LpYmlxjR9PuofqUnhVJ145C2F6KdNIst2W9BWMuId/sxLkJqIhYBMzZaiwgwYhTx1ThurbTLG1StArHKVCa8khJTxiIukmNCEQtdliAcu6j/881F3Pp25xz+JdXcqyIDrHGudGbzE0vsVPEpFbq6CDV/Yko/T3j6KC7ytQBBnINgrqBXbiT9PxxsscYX1UqnFN6MM3PmTHx0/POsviWklfSzGySH9c6FmOnCEoDUqjUqRMZE1zt0DwBey7S4iIs0kQFwN+7ll1/GodG6Ysxk4rI4k94gSkYBSwiMtmoxQ2QhUNV6U13pd+AYhq17viAgsGqNEskb/d/8VYN7Pjy/A7RMixFgqzG2FnQSJzj4Ig6bY59JsCW9cWk5VpbM2AK7jAJWNjDaqsWBPl0BwRoDl5uL2NHxkot7PFiaN2+O7wjqLom82ivSwrYVjioVaCdZTLigzLnsHkX1T9xkvY05WabFUKOUZAnYrlpn0/icZPr06ThAsirlgCwFApVsSKXsAGooNrIt5UyCNRLDLk6sJguBqmyasbGLbbnjYn7d1oOmTZu6NZ7ff5LKamC04QEOqgh069QPoys4nqymNQSKY+VdArTLJTsByuHDh5MjV0yOCbQUYsouGoEaDewB32ZiA22UOLFmERcV3Chi5ZLnAVace38w3Rh8AONtcGeLHIVTikZGBS5U3ZWGYwD6Rt1pTrJ7Va6JywvRC1chmsgkYGPv06fPt99+ixuqNoQ0kb12fdOsomRDKmUHCGLpkixjA76MoNGV2ke6pC9NS6ZU7GJsOBfxI69l/lX9GD587K49AFVUMpilGou9KS6cz2CNuNXl3iOO51Edyk+4IoIBR23JTsD19c477+CSQ9tiTPYNuc0I75LHRyP4XCTgSNYzXRFbZCziYnhMKGKhyxKEYxf1G5zd+KHOfPfdt+usP+TDDz5uWpm87ZmrBgExoIrsrFqjdQH7jRIbpv+HwfNzkckFzEAKv1SMRzQwMIjkzhiERC6/pdMCtQkTJtjtz9LUims0m3n24dvfHjP3wB03nVTdpFePpeH1BCi6p7NsDmqukNEHBs76NUaH5VgceOkKCNYYuKLPF3OZrl17dF9u2fKmlW6usCP+ggCR6Dnjud7VtqpWnWTrAvazDqPg/gVSAVPiAGB+/OaLz77//WF7bj55VqYDfn8Ynynm82GgVcNnllJDODC8KqmM86AR15yx09GXjX76vg7de+186EVXnLZL2464aZCZPun7lh26uBTNToIKjFUpWbYiO4DNh9hyYjVZCFS1UrGLLYZX/aW52kxJ+bySpcpy1XXut4jcs2pWkWELV0LHBuJGgJ2L1mUxZuF7T143YKsj77rz1oo2HbfY79S7zj+8skVrrGLcXy9xExNHcafMlY5WOnVyP0tdfCktK7v8gn9ecMuINQZvsMPQFRF85uE7/eGvFy2z0uDJE75rsVRXPPlqR7G42i/rDUcRsw+HiNKyEnzmPi9XN6+2tmmZex07TnN+epdCBb/fCo3R+siWlZ16xj/2PvnKrbba9rjNlvs8m/nq/Rdb9+zftfMyL73+zhordMy06tosORtLgvEFVTfA/uPlSC8xoPGW7Zt9P2k6uvfDD5M69801KS/pteq6Lcqyd5+/T+d+g5qYiVhIZAmxh6OIE9Rbbry+W+eOF551zmeTJ15x6b/w7e1gDv3U1DkhOS8bTM50YRDLK8rnzZmN2fP9D9Prlq5957l7dj5hvZufffvgzdY7YGjvK598h2KMx2bRvn175oyy0FaSq6u57OY7e/Tf8Okren/85bSt18dBt+TtDz7NZJrUVOGZnkZklp7vL2BtcHaDDuMEYu/9Dth9rxpsyG7+oS9+k0TVDWa+bwJMOahao3UBQ8+f0AC4XWFj7t1k62qu+s+VnVYc1mbaq7e+/O0W/XDxk82Ut95vozWffequvY69HD/47DNPDkWQxUPGzz77LH7YhQ/1MAdbglNaWtalzwZ1s6dPzTU9cLMVK8pKj73w9pbNK3K5OTOmTMTvymFhiIcpVdrFERAfIDDaqsWpUgGBVVuqoZR7N/744lax9kjcnBHPoaVLEryhwCqvL4lJRikXdHjK4AAWtNSYezfZ0qVW2GD21B8nzs60nfa/Tysqt/zD2Yj+5osPu/da4fXnhmNjw74T3+Bgi3Ah1e+//x7tAmBRJjZVePEL8rnKZi0zJdOmTa2ZNafdUp0w3cFp0aY9Z6LPken/2u7doNv4VRT8WliPHj1sN4ithf2zFovdajKHFmAoJ6tEf9zW0oAWVPMK2coWbTo3z86aNXPuvOoWbZbCptF1meVw8rV022ZshEyUWHD+OXv2bF4voipNYtekX3w1i0PqqHcmwoD0nMWWCdH9CWLpobGIy9KI52uJNaUfu6gWHhdhRWew4Fl62+oixn40sc7QUGOUXfYlJcj134+OFd/PckynlPULPj6cUucVUghwF9J4fiGdX8qeMoroTCNX7sInjemBA6PbFfrJ2DghDLjO/ouvcQwwfq8KquhIcSZbbgyncTn+MqyUUVy8iWC9ciJyH9WoqZhkxD1jI9PDd8Qb9f0blw9+Vzk5eDdSfEmjpY/iYtw2IY1DD4ZwodaE2wRy+KnV+a90/OYgju6p36JyIlhqazP+t1lrPvy4bMU+C5XOkhKUPopJPxdXkgsyAX0OyAcPjLvBy2Zeu/z1jx/8ePiFmy610lLuJDO/zyRIqv5g+dRTT+23337+8OlU4MIO2Z284LuSmUzVo0/MPveCmtfeKGnVsv2U8eort+DFuB2rpUUH3CgmPfeAyuoDXLCwSpq1kKxwStHIqAKucB4Gmqw6HTTux2POlDlvXvfme3e+33Hljitu37ffrv0mfzmlei4uat1bkEDx3ORmIfDS/ZYub+ZuOSHzJAffh9qJE6vuvHf2X07NtmlTuf/ebZ5/OltRPnX41hOzTdwcz0vlW8bfbNlaa7V55fl6HdjMQvEgf/qtkRh2n4XzM5BMlrIQqEoySuVgXYx1oyhpAfqsS7gxnELhaF4uC0LN/GnnzIkz/3vuC9++9G3bZdtucOr6657gXm2DL67WVtV9/sTnM8fPdMPnRxpqHE5M2alfT5382eRVdl8FX6jDt7GcK5ebOmyz2jffKl97UNO/ndZ+7lQXh2ec/XVF6yceCjcrk9zkAYNZC5P0VhqLuArFxiGyxJpFXNRPn4ta3QRUAQawFkrQLkyAkmRlABqWvJebPj//SYxi4mGOTx779MV/vNiqe6st/71F07ZNEYiLAV4PYL9a0rSk79Z9YLRNsIoxHvPSt7N+mFldU33MMceAgCiUTQ8/eO5Nt1U9+pj7MOSEYys2GopvW+VqanBik6mtqZs0ySdWL4itwe8GSrD7Zc7Uz+ef/FUOqNfn751wyUisKkCsJguBqiQzNnbBjsXdgeO6QEV50AIXDyoA9JIMTAsAFoUTe5srSBYz0fQ7LgS5acTznHy79cySbJ+tVuiyRmccAm/a+Oaug7queejATqu4jynwA+T4oMUtZenzB95SfLfRL3jCmDmgVrH9Nk122dEpjBs/+5wLpm2xXUnXzk2POLTpHw+b3Lt/+VoD3bD5O3mc3Ki4BvAi1u22Zm8hogzh4UIjSlQDrzUSWw4DExX/RxYCVeEEZmzsokL0+SLNPpLBsYos5HJNCROQk+ZCQi6neFFzWKGYqi06thh25tCNztpw9o+z37rp7YcOebh199brHL92t0HdXr/qf9+88E1pWalVUlt4CeuAAwZAn7OQpTuj8dtiSaeOLf55YcvLLsE4zbv5tqnrb5IbN77lXbfQa1eT8uF1iPRt5jQqNnChShESVAWI1WQhUJVkxsYu2LE0uBtOU1wimMYYBHYbS7JC6EofQO+rZ5Lkj44Y0SZtm6x9zOB1j1+nanbVOze/+/jxT5Q3Ld/souFL9V8KuwoeDiGQHBf9GQpHDk+lTpw4UZ9vJLlhu87Pqordd63cZ0+05vj5S8Z84wndKUfdr/c12ssQSVlZqclLoKqNTXUVnItWQhsUN1WIajtlNqoGUahal8P+gOii8iIiCDSI8ns5uGAsa1K2+oEDsHdFeF2NfxIyEcIfKiYlpXA3lffhGK7Ss32B2ewzJh8mcWwO5McW2Gn0Gg3WCV0UFFaVFjWKqrVIUwTpxy7G/txz0a9mdN7vC112ySxnN5hTgFVFr3A4TLpU6gAxS9FUxbeLR44cid/ExedTsReWeLGC0hEttsAlo4D41kuj5VgceOkKCNYYuIqdo4JKNjcKYABrUdskBEmTHLjcoLkdFIbPLVIAsEyL6RJZLmuHEXtF7GC5LwXZ7WzxUzo1NXSJbMOlCS8XeGFUmTe7v7Rbi4zUscp0oaRRDYkTq8lCoKqVil3wYnF7VPyRuje6Ki22tDTaSbZ2WWS0TCbhLPgfCy7a/ZwEFJ8KtEjNVi3GmIHDAYNd+sAczh9++IFfLZa+DZe+BSSgJIhd1gIsmoAlBEZbtZghshCoar2prvS5iDANOzAjYwvVaRcmYFSKy08/nkH4SenooJHvKvmmhQGQADnEcnHysSojycwZO1U+gMNMbD7gS1MKig2YJFNTZBmpE3itUQ2JU0SfLktgeJHc0o+LDJMQq0yafZAltWqNlgmc7EkdciPn/yZnQLTYWGLSimBJuXWE8yd/we4aqsthFDlTJWJbkaaAXVMxM7ZI1gKpxUarYDFDZCFQ1XpTXennqNpkGM8q4tlJGC2BdtuSomJXMgv9LtTpmM8XpZkSVWAuMh8GIippN4fnQOownhhIPq5AlyXH2dJiS+UjcmCBnalK34ZbIzG8UmBgwKeXLktgOLyxiwrpc9GqA1MlFZApgg2k0bpcln66cCxd6d57qv1rMgy2oVjfCoZN+KGr5U9z+lXWu3dv8UOyzTWPLUeBeWf9epAFQDSBVC+NlmNx4KUrIFhj4HLHRa1HARmLW9h2zKFdIqL5kxH3Uk3MEpzbOLt7zCW5z0eas+XH1WJrJJMW2R3g4dW5ky2Dj95IR2SrQKwykA3sqhIUIsNr27LYBlo1cWLNIi4quD0qVi4OHqjzlA8AaxYLAUp5dTZBC1xYFE7sba4gWcx6cX+mAn23pv30Y1uWabGknGg+GQC2q9ZVdXdh/L0YyOITf/zgBt6+CRzkQwWnaBZxJCtnbIFLjQIrZ4bAJSOxqgCxmiwEqpLM2NgFOxa3R8VAokQlHnNa5CUZTFqcgI9SVQqwkxy40AwGD5cYJe71/f4Ahhg/+SzTYkm5xkzTiLJNqMqZzg0Elxl4GE6B5LCKku2qCiDBgEmyslKIGmWs7OTLqIakUERfmpZMqdjFFgteabBhCglTRSlSAhwS2BKN5AQuV/Uz0G2m2AFgNea/c0M+Y4MoSdFr22I+tDAKJffSeGAZ+jwlxibMq0arDDVHbrhIMGCSrKYVRBp1Aq81EiNKHAZKx+rTZQkML5KbG8V4YZgVijkLYWEf/KzHusYqxrSELTmGLYRgkRD3+5xu4ie7GfaoCP9X7UofRXZpka9fvyrduQ3/YRW7f272LJaBrM3iZatleFnDiiuu+KsepPkmX/AOnB1IDWcMLC1ojGSF0Iudrx881NzQleCHGPGOUz+Klmmxp9YPs3URyxJUGchH/SUiMizxYhViZmyBgowCVjYw2qrFDJGFQFXrTXUVm4s2m0WK/SkOxsXPwvrxWaRtQCw86C1q/SVHL/3sBrs+LciV4w8LAEpZ2A3ahQnISXHhfMNfzCUjiKr7ymQDzThK7VJWbdEepFdPdskmypajDOlVleJsnaV1xRZ4RWZswJcRNLqYBnCsJos0LZlSsYuybhTFtgCYC3miwSgLgbVYrBDRfBJuDNEnyuBWmTuVbKhpq8ICap0W2W2VuDRXhsb47XBeaYmslKQmYHVkBAhi6SpEDvhxbBFLrCly7GIav8gelU27EgfJ+sqiRugzBo/v7lnU2kuW3s8+ismuJfmzuFeGNl7sBhZ3W7+g/s86im5V4iLD71DVZ+7rVV1UgBMR4nhLIzQ5nItKfEnTcXfgsDAtAWVpLcTWEkcFXlsFzq/K/F7UuevPmIo0CpeVsu3KTmBLNoc9asBJbSgwKiSwq0pgm0t1WZolFNGPNUWOXdRM/3zRtgfM1QEJAArlx8MRaWcIvcQki5l35YeQJFNapsWgUEqyBGxXrduqcGoIjShBExZTscqBLtoDvsiwx3wZ1ZA4sZos0rRkSsUu5pN+jkqfkmCVopIuwinkQhJ5qfyW4S/qAk1bFRYIxGUnCEqc3WDRChI5n0bKJmUV1BZAEGsVirgsrbiaROIEiriomX5cRLe52IZ/OoYmRg2l++FFdzccVxnuSTVl+dObCBTwaRE+KMYPF+PZYrgWX0NBuz9zNf24iN5yces9vxBbCz3WYjG8tgoMTXdtkV8YjpqlxVFxK9aiWAJbUgrHxRkzZgAXb4iaDFEpY6pFRuVQiB8TiliCLqgVgTg2/T6qskHPgVmmAjJFUKDI1lXffH7boCVoRbFSsyIxlsXqyIiP+/FCMblkl7gFosU5pFqsMVU5MNqqxcxBFgJVrTfVlb5HZdhiLLFt+IG0T08tvub4KTz6X78ZLb7GfgnlX2gUfVfdOOa/bbH4+o7B+w2PH9ebG0VsoegnAa2wYJFFXq0OWkRWlVG0k2xdXtRRHECjaDp/wxohZMIOd437pdtSJUAQCyJrr+QKTDgqW5pTyx8RZa+pqYU4Hv7HzpYEcLiIg7ffluLbHT4cZ2N45BIY3jwx+YtwhqAeeNU0XGpFHAZaNVkIVFU4G1JpY90oSlpAxuIWCsUcNRC78MQGVgX+T85zPLQ0H1v37H9f3WTYukoDAIOEawbLBPYfj+RmThr/1idjNljXfXWbBNECwOqzz7+w8YZDnnvyiY0230IE364raHn5+efW23gTGr/55IPmXXp3aNlEHAGSYxHpkBkTilhiTZFjF/XTz1Hhw7bAhTxaVMoYWBBSxOUEJYx56C44vM3GuJ3snOEbbVVbNwVbvsvbTwUAUPG4vns40T/+nXSppKT10t0+/+obSOPCBRHu/2TSMBtXwU+p4vV9rv1MZvgmw2Z8+fLE5stjs9CjjsB+Nidzq3PPXkwND3pdfeYxqx1x5Q6De1X4BpA15dEKG3IlUvIbqLpCI3JxPWQi8pnZKZs4BKqCIBy7GJ5+78Zl5xeSAKkFQCFa6IVFVbUHF8mBC9VkIcN8pgE7bHiwyr/9sTo7/tX2ax8w+ZsP19hi/0EtvsLLNQ84/er2Yx658MaH1t58jxcfuY38nbfaoKSkdOD6h+y4xszrRrzQYqle03/4fMVOrT+ZMGPZVYd+8daoHYeu9sDod/c94Zzrzz9RWTXvudYey5bsnst1a1s6dhrWU3JngH1BufzyvWtydQfvsN71D7601sp9+lVXf//Jm8us7Kb7p2OnLLtUc2wOpWXleDvr259P6tay9u2JuT9uv+4dj73Ucune077/dMXOrT/5YcZyAzf57NXH3d6Y53L1m5cbGOYPQS6yKAcRYAEH1djF2JSzGwUn8ovuj8uDaviDih82lqYRt8OFG69Mrql0rznFbPhfXe6KbNPrzzykpPSYb78d07d7jzmZ2xCi7k359rEZkyacetGkXsv3QzCGcM/9Dzn3nHNqJ33y6Cd1Y8Z816NHtxsu+Av5vi3M+LL3n7ipxXrH5B66yObQ3LvxZk2s+xtGvo6QgzdftWXrdsuuvHI1vglbMzFb3umVx2+6f9Qb22675Ze1K+Ry/+1W6Y7Pl91wz9nTJi3Xd1WXwA8zdj/wiPPOOdt3E07Tv8UAw+MikkaXsOMC4N5GPS+w0l2eSsxiGG0Vr0yoxR4Msw07xtJciXuRLHaoruSVAEWcGE9cs5m2rXHDBXTnYSOgd+vW/auJk5p6NmLVRKsOHX2qeGV25p4HHm7TLNujc/s5syfA2L171ynTkgt/tsKyRYvmNbOdnQu/FD5LVbeVQCwzbeZM7G8rMxk82Npy9vRMSYuO3ZcbtFZ2qdZNq+e68Dm1mTaVubJO/O0H9/DCXfc/jHdFLtOxzexcrrLh4Txpy6y0wMIeqV/wCscuxobnqBg/vGDkvPPOQ+f333//a6+9lkcLe8ywusB2Vfr1SGXXduxyQ4IO+OdS8U0b90CcmVIecyfrtoz6rSOTad8yu9Pxl1zzt6Mhu/bG27345AOOYNbFeiv1yJa2XKtXm/HTax696ZwbHnxpy13+UFnZ7titlwNt+72Pue/Gi3zjUi1fZt2dlv7hmFbd+nKPtP0Gq5Q0adWjNYRd0zWZzBVnHYPYnbceMnvm9PETxy2NF3s0bTtt1sRmZbluK6yGNz7suDre61nRr135nLqStVfsni1vOaBnm8lzco/dfMGND47ees/Dm2JfncUhIrmiUsJ2zbj2zGqkyxKAQUBs7PKh/tel6WYd8+9f//rXySefPHfu3BtuuIGnhWzbliSzpD3GsASuZGTcukTWyT9wLA2bS12uRS43HeFfvfaAv5Xt+jBxmnvEG5cHfzjlfLy5yG0Jvm/IkGD0B99ofK6597/Xl5bgtfE4Jp111f3n/cddV7ip5kPIz+VmI/al979jnjDe8+xb7vTIL3M98+ATLzjs5ItogdrcGpcJw/EnW/Xjo29PuP4/lx9w0MEtSnMvfTiGTJT/ue+5G0rcj3UUukSxXWaULASqwiscuxjLrZDYnc0DYTput91211xzDX7jV9+Il1BCXdg/eM4GL+PL1pTOK8+0zOLEMfmWiNXXYKARjha8XHfcyePHd+CCBXYsSS5Y7/mtFT8FDyN+ogcc/uKJzkUTsv+DWMr+MG4sDKhIgeI2ivtbR/Mtou1cebtJ330+efKk3IF/wLbk3veR332436LHkcL/RJBasU0vWpxcaaBJ/KIvfikdmycbWGONNa688kpgDG3//v032GAD2tltm4S1WAxOUIWhVbOmz99zV23dPFwX4J16h+69L2hBP22UsICapkV2W5VROVhvoIDW2y/dsThTXsV64DbBNm3acqVho0IHRYhzkAvAemmXJU61iIux9XfD8VrYddd1L1qz65RYFgCGCaRWrVFM7Pjwbbfddt6xtKQ8U1KVzZTWYQeFE1CviZLAxhKjLOSiXV5bJWb/Y7uUCbgTAq04k94gFkbbSuy1FqtgMTmyEKhqvamuZI9KH7YpAA4kI2mxeSw0xnBhCyzFe6Ox285VuFPP0owzpm2YC91KEGj7Erh+S9XkdkawNbGKfnJ0VY0B14XsdtXQGLrcXsftdjirrbcQBrmQi3Z5bZXY5m+9Nk+LLYc49loLsGgClhAYbdVihshCoKr1prrKcC7D/QmmHYGSoAUlLIGLHLksiNWkkyoCKYazFZKpn+oSIY6SS+FUsO0qipxUV9wFZWL5VJCgXNYSpMQqCWolNZNATWTZ1TossaD4oAUhCiRQSR2p0R7r2LYUGwB2U0ZW4xIEqREwJE6YsVZQWGlLzbqECdRcbLeNpjYngkQszRohzqwIUMpLLClUZXGHRU1cAU9whSwCcgnIRRBUQfP7ULcTlUuxBP6A6YgxwR+mXSiZIPDAzaqMjuH307GCXDZEuDg/9saWIlKeHHZKCgJUaGQ1oCFWFgFrDDDbSi0ZbkWCWOuyuIiaXFbcYhICtaCayklVlrExIcXJcQ6BhdVUI5RlFyhkVKpuKuoEgIA+Rmq7D1yKZzjbI5lMWBLghch3ZM4q95YNd8/b30bNO/3JKiq4y4KvbwPgZzNdiFtK8NScj86TzV+42ZwaNU63UkCQBVVhgFQXjamBlk8dCXoXxOvnHixepL5BNE6jmm4YnjBt0ySwXWtX66mC4quhRDr/R+3mDUliUqM91rH5KDYAQZ6sxiWipEZgG7WajJUlIMtr7SAzeUUBkJBqt0YJMjaIUtXSrJFNyxK0a6Okj9aTi0WaFkvptz4074/RbkvFvMINSbz7293c0vyCEd8pzswuLWn2xpsfPPjYyMpsXfdO3ffab1/EwOdfo+k+nEUUD/eLJdsFF0V/uNJNKPYybk+DoTc7Ae4OGuwITMjv8P/7GkjuvmE1cK8QbFWspm1tyYqzLpAlkoBkqmVzdXPfe+fN73/4sf1SS3fp3vPDDz9u36bVqqusChVG4SMKfF5QWVl2xeX/vOaG+x95+rGubVqcc8aJGw3fbOSjjzWtwKcT1fitMP8JT30rTCJR8Ic7Jpwkl/9Do5sZeYufJ+4zMctX8gk/mmPsrIvxPcUZP5LGMRyfFwDDiH2E+3kBdx8e/9wnIKWlzdBmTTWOhrgmx930lCeH8knV/2UmrBfC1luIY+316h6lumiMXdZicaCpasBhNS7BF1NAIhYE3kLVwG4ViAsRAnsjq5YmHAM0LWOAbVbu5ht5AHSgBGaVxx8rJA5pNhaY1cCFIwOOeAPWWOexh+/+85+O22bnPZdfaeU1Vl9j1qwZL7/04uQpU0rLKnBLvGbO7H4rLvfSy6+s0K93G/wAeKaq7/LLXHXL/d9NnNina6dcphZf/cdnP0wADTFDVG2jrHJiOKafbXWZWvdZtH+Wpy6DYy9+MNsRc1l89ggh/2Yj12tfy68QF+2xShfkF6wWnEJffPHFH3300QknnNCnTx+Yq6tr8FHU2HHf7bLrTrls25Ej7m7VuuaoY45cfrm1jj7qUDzi4H8A28Uzc6Yd94KEuFOB3QmZDIGtYIw9vb5QuzIhJO5prGOTV2wAqCOjZG0TgTJlGUKXwgFiQXmlSZrsAKk6heyWnNqcCEzVtqumaWQTolkvsaRQlaXBbRtaIfEtHk4aMwY7+0AOVRixIWIBWYqw4+CAL0LgK7vAtPtYfHLhPyHJltfWVg1ee93NN/3gqisuP+mMcxCOz59nTJsy+ccfsqVNcMibO3t636plB6y66n1Pj5ozZ17TJhXfjBnftUu3zviRaDdvSj76+KMfJ08t878bhXC7KBMkhi/WrLTSShUVePQJd65qvxs/9stvx5SVlZdns7OmTR/50IgfJ00tLYUX0ylbU13tnqPwUxMJ4+wXPxOHJxyQG6ruAGfmvG2R3QT5iCOOeP7557t1777TjjufctKfu3bFjyE/tuuee93/4MMrr7p8r+UG/vGPh1bn5pRkym04sF8/9bZGVgOa1bGuQri+vQgxxAZa8SI4UnKGVB3bhCVYHMdSP+DQKHKqN9WoECkQBOSgGkeRENBUjYFVkFc5wOJOULHQJNDTL+JZsOmmm+6zzz577bWXNQpjJvCI5FXdM1E4FYSxoqzi/nvvuuOOO6/9z3922XXvTTYd/sDd91/xz4u333E3+HW4wACuNnjtNp27/PP883t16TKzqvzRh0c2Ly/LumePyvv1X0UNFQc4VcQhDt3DD988NOqJFQau23LpTu2bNz3v1FOefuSpe596el5lRdOSkvuuve7AfXbv2XMZqU2bNu3VV1/Fy+I7dOiAxxzwI+NypYJHHnkEP0a26x67HHLY4esPdk+x19ZUl5e1uvuWGzfZbLOlnxl8+61X1eRml2UqS8rccyNaP2BqbVO5kdWAZnWsqxBmW6klQ2ygFS+Ci6jJZcUtJqFIo4GCqgKxWuBSVSBojvbAGFTBCSysphot2RKEBWxKDU5QyUDJWYuSFvzCNF6fjpOxoUOHzpw5c9SoUTho4PlGHAn5XJGYkqbFXTD5YwuOTjvstCv+4XKtTdv2n3/xJZn41S+8/A1fKMbpIxorxYlspm6f3fYoL3PHNHzXBvPJXXpBCKeaODvF42vu+ST3dBc2a4qgyk1cG7o/1/YxODfOlMyYN7ds3hwcA+fW1syrrplRPa+qNFdbUjYHzbsHbt0XBtjTFi1aDBs2DJ2CJn4d/b///e9nn33WpEmTjTbaqGPHjug1m0YIAJ5QWmWVVbbccst51fNwa6kGT0hg/uORLhxzKzvtsP3uW26zM+42uY65c2O+wtyljHCUbJFYVef2BHqJUYosu+PlmbGg+OAEIT4uyYGYJWjQYSl7rGPbEi0A1JFRsraJQJmyDKFL4QCxoLzSJE12gFSdQnZLTm1OBKZq21XTNLIJ0ayXWFKoyhLetglI4GG+YR5eccUV119/PY4YmIFXXXXVYYcdNm7cuFNOOYVbJ7ZLBGImMDwWwWrB5g41uDCxXFf9o8T8bVqXNK7T8D9+qhZTxx9IQXYU/HEAx8VQ3LZCLAvacIEMdo/3+IXHfndPhe+bw6R2kxlRWNAFrjtMJFTRF5zirrXWWmuvvTYuC/HLxjfeeOOgQYPwbk51c8011wQT/cIxHzrs1MSJPx5++OHdunU788wzmzdvjuNgaRZPk/tk0HNk1nATocURzGKNhTDpxQVtrJF3MNUVq9lWYkxLXAbiVtZiBIopEKtZGr0BWVWBVJFYR7QgsJFVSxOOQdCuCEHryTNTsHJDlJsWbKDYEDEbsXlhGT9+PI6QqD7zzDMg8KgIDrZOhBNQQWo0onRbqt8QyfQEP19QcM64+egQj7TSAdM/qevvPfppLBcBSq9W3wV31PETLzk84o87OrnbMo6JD078RuCyckFsXmIOwIVssTi3f3c8fhIX4Nlnn8XRcquttgIGB6kCYBEZr/C4++67YYEIjRRxH436BXZ6XTMNMS2BsTiZ3kIca5c4QaorVovJqYHFxa2sxYiSmkAgFSdgowJvcZE4kOGxPdApVLV24RgE+iIErYdHRbkBtCFim+OhABbYMTkhh6MB5www7QKMpRSNKFFlaQE5DBcWTRaGkCayALypLs4wpOyS5hMFLg3U8N0Cl427q+lnLGpYrKBN2NrxYDx6jfs0H3744TbbbNO5c+dgPYCMWJRYKBtLyRU0Sn5gLE6mtxDH2iVOkOqK1WJyamBxcStrMaKkJhBIxQnYqMBbXCQOZHhsD3QKVa1dOAaBvghB6ynXimJwk1I1FYhDEFQZErhiHRBoRJZSUGzgEiGOauDKzwSE+5mBuegHHn9w2YnCVzlP47ZclNnFsMpdEuYefh93yJAho0ePfvvtt3GtiP0UFZi/1FK7Iw4AZRVLQCO9IogsO8lMkqtCHLhiTL5KhqjKEKtGV6xj27LhFlNHFslCzWIQpEbAEDaqcNKsMSBTU2oKtCE0qjlxZLdkCcoLIIJELM0aSZYF1QBLSvqwzOeoaDNQGHVZlShBULUcuWi0pXVZDI6tEssiIJosBMn8xozCVPfnvi5z/IcPFD3DdkQiSkxqtKDKUwOeuwLjK0k4QcBNLEzOTTbZBCWY8JIP8UABdlqs3WIGisaqJVhsvdZeCEvcBqYarUJMjr2BCKoBh9W4tMwgJNAMvIWqgT0Qsc0FriCwkVVLE45B0K4IyoEWd1Tk1oNtS5sRSbSgZJWbIMNUWg4IEhFArDiBvlIBQU3YQMYGLhHiqAYuXezxDBUZ5+cGvvlajRZxoumnDTxcrCCbtgnLCxfsWG8QgHHDDTfERyB33nknDpXLLrss7mNBDS6U4GAJRFClFO2SjWnseEC2NCUZcJghvcIAdlG7MjIxltYIXEhftACAb/NkNS6tMpugjo2lJRZUi0pbatYlTMBWGqNvOUGUqjYra0RbzIoApbzEVlyWBT4qIhIbWWopowXCjEI1XqzLYjBtlVgWAdFkIXCfLULBnYzyjqor3fmpP2NFiQUVLA40bKtQ1TaBKFZxp3T33Xd/8cUX33nnnS222IKCHAwQRJOmRGQBsEshgrWTT4u1F8JWH9jS5IrVbCsxVmAAAnErazGixBQIpFgNvIWqgT2WKkQI7I2sWppwDGw3A2x7t/gfB4/Xx89iwdziSnEzEXPNrYM8cNDNT2912Wj1ucqCLzgG4mYyPurAYzr333//yiuv3K9fP+wIf6Lsgifye8SveA38ZqciJltyVHQTz//mMZ4jwGHM/wpjVWm2HJ+740TCzdHkqLigw8iZxinHu8p4KnC33XYbOXIkfm8VD+vgZBUWyIKDgySPvQvayu/8/ydrYP53ULUBYcsD5oK1A8CSdmACbqDwEliOLDDahVKwWAUSYpeUi7sghQUi7hNPJItndZA+Zh7mZXVdk/JcOb4CiU8zHCV//MwfJRmohmwmdNGiUpnwAV18yIEnk26//fY99tgD93KSNPIHSZDJVyvUscogqBqQZVdWsAQcuEizdmWrwMBCHanRG+sU0ZQgOAxUW1ZcGF6pEdhGpUZaIChvrGZdwgRqLrYH+kEVfFkkApBqJFk0VAOsKKZBnQW7VoQEF2WGqnAqkJFMVOPFuiwG01aJZREQTRYBuCrrsk1zJf8+94KtN920TWUz/MpqzZw55/z97zvttFOzpk15Pc2UbJQ06YqrhewQgeYKK6zQvXt3vDUPreBKEmR7pW4bsjhV0xIsJpkWay+EJW4DU41WISbH3kAE1YDDalxaZhASaAbeQtXAHojY5gJXENjIqqUJxyBoVwTlQMtv9gRV/cSTOribecyRR/758EOnjh9bPWfWfjvvdMyZp6+7yfrXv/M6vy4l8k8BdhVjNuILIjvuuOPNN9+85557tmnTBodH3laFyzJ/Sou/x/6W1sBvdSri5NmfeuJwVJqdV1PTtmXrsy++7KA995gw4Ysrb7lzwIZDJs2clSsr5wnqohpRzLHkZMM/kNSqVSs8LoeHV3Gmigfi9JwgT1fIXFRN/67za18Dbipyy7BAvZKLXlSDxUbBFVcpFbhojMsiNOsiVniaC3dLk6U6W1ddXjKzNFvSrvX1I+6fWzeveUXzabPnNGlSXo43FfMzDc8NBFGlsuypFnkDMqYlDoA4O8VsxBepdthhh7Zt2waHRBticdyQvAJxu9ZVCCsqBgyxgUEa1mVxLBUEqmqbsAoWixzIBhx5raaMBMVDipPj2MCS2q44MUBzqUalumC3bRhmz6+gzkMBXDomsFXRxJGFOiqVolWgN3ZRjU2Qoyi6XBWf4PuP+EHwn/DjnLDW/Xx8RUkFrhxr8Q0Q98RbrXssvH6xbcGqhsigN+5CEMVAlLg4BBnnpS1btsSnjnfccccuu+zSunVre6bKzx6pb5Vt07Zda1dWrr9+J0iFQph8laSpCkAdqdG1QJpSC/JkNS7BZxqpjUqNNGZCI6OIGWvzVKANsYGpdmtkqtJRkoGIpYkTA0TJSGzbksXdtpFDgE2itBbH84vsqAkL0KgqgLBcNMZlIGgJ1hXoBC4cebiJY6PHLc1cba6ytqodfmOstOmcOXNraue1atpi6pxZ+GyhFO+V81/AUIZsUfoCyiS2FHIxDfAxDDg2Yh7ecsstum5EhkxSggJBDkE1oMEri4A1BphqqSXDrUgQa10WF1GTy4pbTEKgFlRTOanKMjYmpDg5ziGwsJpqhLLsAoWMSnXhT1AhwbnOslCVLQVMGuOyCM261GIsDhc6zxJegAp8lzebeebxR8444eQzTv97tlmTN998a69DDm7RpFVdLb607DgMUT6wWGXZKWirFiuKRmrSiBKzce+9977ttttwTxUvB8BEDfiNrAY0m5J1FcI24QAzxAZa8SI40GE1Vcc2YQkWBw1JPOAE9lRvqrGR+nFsYGE11WibsARhAdsLNxU5ceEmsG67jQLHC6MoDa9EBJiWdUlfgOGoxrTYJeVCLhJYQhDXilV1uXWHDH1q9HMH7nfQWhsNP+ovp0+aMb0Wx050mQ/BNZyNiFLaQZJ0yUgaq3LZxCwTd3G23nrrp556CndxSLYNKZyaqlLNMq2mOgujOKnYRgErSdkRbtVoXyBNSVEnqEpcDYHANGgRn42qSpo1MoqEWE2BNoRGNSeO7JbMVMUJolS1NGtEILMiQCkvsW1Llt/qHVR00PXRFXW5JqUV340Z/9bb79901103XXvpCQfvd/L5l5aV4RNH9wCO4yzOBcOAc1GsfdxB7dGjBz9vPPDAA1GF0Z+o/v4gzuIcgF+J9m9zKnInxCHAtyRm19Y1a99h3Q2Hzqqt2mrXvbbZuWx29Yym1fj1Wxz9ks88Ft94aReIh+Nw+YovOqKthx9+GF90xGzEVLTZLr40fldewtfAgt1BxUaj7YYAJTY1YgJuebSz8+JoowxWCsNhtAqKJZBLynGUXAgxBzu8R6ekRctWNdVVuDSsbN7KvRwY789xL7lpsFhBp9DwjJ3euAtBFAOpq5xVhQXTb7311rvnnnvwNY7VVluNN1TjDznUkG03SElJBhzYGW7tzEElXaoyhPrWFesU0ZQadYKqxKEpgtQIGKK+Bwq2KhyrWZcwgZqL7bZRpZcaJRFLs0ZEMSsClPIS27ZkWbAH3xAWLBSVdAzADziBggi0SyGuBjqWaV3Abst2Z378OU2uF/cIKnYbWC3ugwxA/PMfaSgfKxhkFVcLRQVMaMaySARPjV9++eUgr7rqqpyHPrtk72BDCmEmQG8hjrUrYRuYaoyjrMXiIFzVgMNqXIIvpoBELAi8haqB3SoQFyIE9kZWLU04BmhaxgDbrNxRkXUBVlHSkmqXSyAQsVEBR/oCMbmIS2QBkOMmYOHinfljJDrrPvzP4IcecQGHx8F5BzXPzdN88zAqDTVhLcQBLWBaLzFGBTsJTL+DDjoIH2/gPc64ocpjIwhYQECphgph23ohjrVL0AamGuMoa7E4CFc14LAal+CLKSARCwJvoWpgtwrEhQiBvZFVSxOOAZqWMcA2qwW7VsRWwgUSABRaYsskw/yHn/4GsdvE/aHRf1vDd+bn7wuaxVTEZ554DceIESPwimc8nor56dNZyLWadDYajEL2iPi74RdeAwv2ET8mN+c3BhiAw6zBTq2yf4GrUKeL0KyLWCLpLr+5u+3b7zUw87Brco/Y4KXGmI8OYWfldlcIx8QAMxBENWgo1RJHBZZARM2hUdxQxctUH3300W233Xa+USQEajBaiwYFdostRw0FgJyAaauFcKDDqiXDwmpcFiEHsoGgvFZTxlRZeVOlAmNQRWxgYTXVaMmWICxgU1qYoyLGWBJLMmCHmaveLMXV5A6M+B//5Y+ZP2dHbKP4yv9bb731xRdf4HtVmjwCjc8KITyucnTQBBZgLHYv03jB35k/8xpYsKnI5DDGP3OWC9cctkITyGOhOzr6o6E7avgjo6M0ZJqgxQk5VfAJB15Ajrup+OUfHZzpWqD1XIhcyL44e/a79sKsgYWZigvTzi8Rw60w2W0kmyRPTHHrxj3wpqR+qe0V7eKzDfzu1Wuvvfbcc8/h5XF4+TrfwaHcfgf/T9bAgn2uaFcKN18cTwB4VCGwdvLFocuKiEBgFQq5qAYvGwVQVANXPiv7CSM13VERV4b4bB2/h+PnI6WsIPVtwvTSooYoKBfttkqcb9flzGxhoRTOHvEKnP322w8/SYIf0sOzOOKoLZHpkhqAyJaTim0UAwMLE1N69KbmABftgYKqQZ5K0jYRKIOj8Fg8FrRkea0ICKk6heyWLEG2QlkRVLU0a2QTsqAaYElJH5aF+VyRulShqKRjwLRUMiooFRXTYpcsAoqSJQE8kU45m+YHGv62k/eSr3Cm56quq2Dgj7viwgkkDmLw4oYnMGkq8YEEOGDyyAu7C/NbmFF2v92hKgBCWN14443xtrgjjzwSVYijCYaLDEGL2S4t1l4IK08bmGq0CjE59gYiqAYcVuPSMoOQQDPwFqoG9kDENhe4gsBGVi1NOAZBuyIoB1oW5gQ11pLorwu4Y2L9vrhQ7mSgxDlt3Vdff11bPW+ZXss2rWxWjXdkuK9G5vA7qjNnzcK0ata0iVdxExg3ZPFLVTNnzmjdui2+heF/kA5OtAhPfauYb1ifmMa4m4qXGuOzDbyGA6epmqKF0vrd/htbAwv2ET/3026D8jv7oCq7BcIMQTVerMtiMG2VWBYB0WSxIL/VO5s7BJqDJDZ3/9lGQgEDCyYGlkTTg9pcXVlJyfTJEy+74vKDDz+qQ7v2B//x8B4rrHzykYeW5Oa++spLdz/46JFHHb1cjx6IcgvjAXJ1TSorL/vXRVW12SOPOgYv78ARsNT9AjmeQw8bxWkqPth4+umnv/vuu65du/JDf2RoD79IzzdQX9Bi7YVwfYxHliZXrEaXJVuswAAEHCtrMaLEFAikWA28haqBPZYqRAjsjaxamnAMbDcDbHu3YJ8r+q00/ERRGx5BUGVjgYvGuCxCsy41EYvXu/KffOanXr0HUdii8Q9bObdtHIXwe6awP/HEE71798bNTJyI4hQR89bf38nW1Fa1bN3q5FNPv+iSS6+46sq99t/vsAP2KcnmHr7/3kuuvOmW+x9o17zpBx+8edjBh0ybOe+eB0ce/6fjN9lo04MPPBAP3x151FHnnX/2Xvvsf+vNN/BXInEoxXTFmCGn0aNH42v+AwcOxNxDdeedd37++efxrX92jRxgZS9AQiGXpVmsqBiQFpBttRCOpWxW9Fpxi61XOrah4kZ4Y7VGhohGEDQaVNWQolLbVVQMrIK8Vm3Bbttgy8DCeAKU0CUmYDO0i2ldal6A4ajGtNgl5fm48lklV2xgu8xd8g74CYqpWFFRjkbPP//8J598El+0x3to8HY2cHgb081VnJbW1JQ3yV1x2T9fe/3r62688vhjj3vrzRfXXnONO2++6aa7RnZdbe32LVvU1czt3bvX6Bdfv/Lfl2w4ZP2nXv1fr45LZWqqszn8IHGTtQetefV/bnvnw0/W6N8XauhoSbl7PhbLsGHDPvnkk0MPPRS/XXn11Vf36dPnjTfewM9X4tIRuwOepiLheK0ynC7ftWSjLITJV0maqgBa+daldklAafVtuMXgMJBGVuPSqlGWfBtrFYgVJbKasyLwpuoUsluyBNkEZUVQ1dKskU3IgmqAJSV9WNy1InkWkBFYQEMAF4bYUuRUtYAp/QAUoVmXmmB4uiu/j8C08/MuKZOTVFzi4ZtTTZuNGDHyP9ddi99mwxzAjyvjwRf8kin6OG/ePHzcN2C1AbV1tf4N4rl5tbWTp8yYO6+meZOyCRMmrbraWsv36ddzme4fjx9Xg9/CyZZUVra5/947ei+33FMPPbDnlpuc+Y9LN99ow7nV2bJcZsaE8S2aN2+LL+8j49rqupLykSMeGjf2W0x4tIWjIt4Hhy/449h44okn4ned8WwqWm/WrBm6BgJKLLazdr2lumQE02IbGGDSArKtFsKBDquWDAurcVmEHMgGgvJaTRlTZeVNlQqMQRWxgYXVVKMlW4KwgE1pYe6gMh6bCIAtVbVAmExU48W6LAbTVollERBNFgJuvC5N1JmsPyoCYwMvKSupqq7CU6BHHHk4FCZPnow3QV1yySX/+Mc/1l9/fZyy4gfAcSVZVl6aK8NPYpQccxRepFr14YfvV8+du+Za6w3bbJtc7byz/3bqUUf96cH779tz552++nZM9569l+vZA03detONs6szX48Zu1yPrjMnf3/3vQ//8/LLe3VsX1ddVVZaUlVStsVWW+KYiZfrnHXWWTgj/fOf//z3v/8dx0D86gZOlfELqtg74EfjMGY4Mgf9sisw3zHXPS4io2px3p9CkytWo8vqWKzAAAQcK2sxosQUCKRYDbyFqoE9lipECOyNrFqacAxsNwNse7dgJ6hx37CtoG3OcgKmQjv54ijLQIfhMFoFxRLIJeU4qoHLTz4fywNKclShxW25uJeJm5/+MwNs7jgvPfjgg4844gjnyeXwQmGn74Iwa/FSY/fRQnl5xSqr9MdNF/QZV5llJWWZ8mZXXXvd519+ce3112+79VY9Bqzums1lm7VqV4LfNi4re/6Zp2fOmnPz3Q/Oq67Bcbi0DDql2P9BOOt/TuP0009H67hQZLt4+AYA35zCBxuYinDxHBVGLOogq7K4VPObdSGsEALSrNGuYdk5ZI3UVBT4DFRbVlwYXinbfGysVbD6wrGadQkTqLnYbhuN8wdfBIlYmjWSLAuqAZYU06COG3g6WKfPMqgiGgCZQUmCRAQCPqrxAjKNyMQGwhi7RJiPC1L80RgvjW0DYu4f/uMnf/m5yu6j1KeFTANxjPEChG5e0I7vHuMFi5nSSqTRc5me++/b09X9M+VoobwMbyR3u7kNhg7D9SZmWmV5GeYVmgYHiaEJkmFk074Vp4Bbqfidxm7dur333nt4QpWz1DUarRwYuTa4KkCgheQAo2oXhliL9K1rgTSlxqyCKo22BIFtsWnx2aiqpFkjo0hgLL3WDq8NIVnNsaoSdkuOq1ZNIpZmjSTLgmqAbVv0wrIwJ6gUikubrm3MMsGJl5gsTuySRQBkYlkSkEw2P3lQsOo+gHd+Z4XN/0XdmfILsVt9iTVhOb6hocZVrJ9MBQEWcFBicbMOB8+yhMZqIEJByQLww31cNz777LN9+/bljGVqorEqKWsvhBVSSCpVLSZb/UBT1YDDalyqRQskYkGqoAjyCsgVgEKEwN7IqqUJxwA5yBhgpkfvgp2g+g0sOYIBQwglhIgJqEs7WxKHLhptyXBYrIJiCeSSchylhuhi6eZg0liSOWZQvSHvg8UKsmoTTtQaTEWXMA5rVCPZWiQiHYgAW6mgUUrhSLjccst9+eWX+KiDt1I5PyVImqqxIFu0doUQqF3ZmZjSoz3WKaIpKXAYqLasuDC8UrP52FirYPWFYzXrEiZQc7HdNhrnD74IErE0ayRZFlQDLCmmQZ2FOSoynnK2ZAbWa3HQPF2WEGNYbFShtkQTmfMlP+HcigDGP847fpThLGYeSoRpzLdaiBYEKiXygy4EZGniSIjZiLtHN910Ex7BadGiBar28ChmccGgdUUVajdWY4jVsdgKWhxwrKzFNo0gxKpZGu0BWVWBIFzVQoTA3siqpQnHIMhfhCCrBXvwDSqxkBSXWMCk/Vmmm56cgCgbzsRfOH27YoHxoSJupeJ1G/fddx8+7eT9m184xd+bX5xrYMGmIjPh0Zbl4sxtYbRtbsrQA3e7xh8anayH/haOO1gucQsS5oERL2jED1FNmzYNP7bBGzxLXK6/J7SI1oCbig032QbCcpGGKi0osecWZkxqNdXVoA1TCRSMJ0kylRAbMdPwgRxOU+ECdEc//+PfMHhNJA8DPpPAgdH1gouaQ5VYIHbJIlCIHNhVFYjbggurFyeleAYAn/5/9tlnuIuDqcifGS8UaO2FsLKNAUNsIDi2WgjHUkGgqraJImrWJfFUY6AsMkHxkOLkODawsJpqVFYWWBxE0eVu2/AiJD4FogUlqFjstQrnIUrLAUEiAggUxyp4yaQAgcgq0BK7pJzqQkoIdA3lcu7nvf2cwxUnp2MyEb20O0H1dXC4WEFQ1JDNJO5CEMVAhqR2h0YQKBWHa5zcQ7CZDB67ueqqq/BJo+ahzYFJUsQKxpgpqVS7siDEqtEe69i2FBsA6sgoWdtEoExZ26jCAWJBeaVJmuwAbMJa2Eqq3RpTmxNBIpZmjWxaFlQDLCnmRp0FOyoyEhsuNheWsGjTIQiqDAlcNMZlEZp1qYlUcSTmeu67CyaSdTR3dPR0TEFzu8YdPvML1TyX1PquxS5ZBCAjTEBLYFdVwJIDBVwx4nKxf//+eOMGD4wiF1r/IkgqaEj2AJAWkG21EA50WLVkWFiNyyLkQDYQlNdqypgqK2+qVGAMqogNLKymGi3ZEoQFbEoLfK2ILUDxSyZI+lk/MfIfHrh0+Qmho7j/8y95W2I7hf0J8sQbN/Ac3BprrAEcz8AlcxR+z2pB18ACTEVuBHhOmkdbt137w+OCNvmz8bnhYs6xRfxJ9iL+AlF2eBPmz5ZZoxviGsZbNl544QV8dQPPpiLVRkf/Tvw1rYHGTkVsE7iLgPdY/+9//+PWgB225uSS3ONky01moT9NxS2cUvduG3wvf8lfsJLxueIqq6zy6quvbrfddhgFPqe65Gf+e4YLtAbm/xG/P5a4qyveRYA6d9Uo1ZJwDMhXqRALFBXTYpcsAoqSJQE+Q2C3OJL/H4dEHRXd6aq35plgaGFQoWoRuw20GCFJIr45KgQEa6SLl/i9evX6+OOP8QUuPqcOF4/kxQVTxW0TxCpjtZhcRDPQCapWXCIxUJQFotFYqBrYrUJqoAhBYCOrliYcA7QiY4BtVo06KuJQgq/tudezOM0S/IdlyT9T4saK0i9uJeBUFH/wtI0/OHI9uBIEu7LqHUsAQm44MHbo0AHf25oxYwZ+vRhVzs8lILvfU1hka2D+UxFnc/Oq5r3w3DMff/hxTV22/dJdN9pwSJfOS+Oaxc1Lf5q6ZG7HzAqlA/jHB97cURAHeX8XFa/E8JPTEZa8hTsI5Ma5h9eH430feE3jopqKmOO4c1Xqv2sS9B5NLJnrJMjzt1Qt9rlisinU5cpLSjcdvtXjTz757kefjnz08QpsyzW17uiYv1wEEyuFVe6w7eZCbC3BGoSLFqtAS+ySznxc/rtITAZSmGqabv6k1M09bOPY4LBQ0wrCq4ZsJhKkkTRiuLAesCb4RSoa3YmEqHlNNkSpoFFy2TQSgxxKXhwOHToUvwM3YcIEXLFLgUxVEV4I12fhcnT/Z+ZOPn6vXf/5wLN0LbfGsCFLlVz/+KhdD7/kzsuPqef7swYEMGEco7FPs320TGJmJbuShILFIChbAoawIYWTZo0BmZpSU6ANoVHNiSO7JUtQXgARJGJp1kiyLKgGWFLSh8VdK/phcYc4ArpRouq3pLraTAmmbGnV7Bk1lXOr68pL62pK8CoO/HAofrTQ/yCMO8gk202spk0q0FdDIBCDEKQRu0SYj8s3xgI9SfTzTaLu/7lDJbNi00oDQA3RyOZIzsu4v97uGqjFN4NLMzf8/agjT798jmf0G7rjXkM7nXTG5dseed4D//ozWnJjwGTya9v2QrJB07Djbg2u1fHWjzfffHP48OFIA1LMWZkzN5unxRIHzc2lbO2BOw678cmPhh9y7uNX/cU1Mfnz1VddAwDbDSjH7rj26NrV3xxxBSy52ppsadm9l51wyX1TRz1zbSVeK+leIVlwCfJnNS4RrwwJqMiOWHXGyhKQ5bV2kFN1CtktWYJskbIiqGpp1sgmZEE1wJKSPizuBFU8AowEhpnjAa/e2lmK75pnKjDlyjBYuRL8mCjeJYhvxZbV+a/Rmp0/dCBNNSgQWwszUAkXcRDI2MAlnTiqgQtafkH/0MNEhH+cqf5glSfW74lgYdMEDGJz1mLt2CmVldYetfOG/773hVU33O2VUXfgBXK1kz9eo6/buHNVVQh87LrTzrplzNPP39TUH4dxZHEuRHrgcH6lCdCIkkAvnqIFmmTa3AphhvjSvf0xW/XNZ299hdaHbzgIwzmvNlfZpvNKK/V697u3IYulafMWn4y4fYMh73345iu9NvrDSw9eMWXcV+99MMWfwLjxAsdoNoA2fziUJEIspgsl7ZKIlWNBS5YXQHbK2iowCY3Rt5wgSlUA0ayRTcsStGujmB4t7gRVdQLublliJWGy4fxx6pTJ3347ZuKPdRMnTsrVza2rbHLniPvm1tYce/DhNdU1vJFj99OSVR7WwoZUWpfFiiWTLhEERJOlAUD/0Ef3z8tw+3Fz0R8S3eg4h/uTXxW2OWIShC1wUThlwF5p9sRPPh4DpQEbb1FRl5tbXVPeps/O2w1459oXsdcCbfIP33w9dsrLj16/+Y4nfT3t+2fO2H6vc5/4at7s9/65325Xjx338ZOtSmqxj8Po2kyIsW7R6KBBg6655hr8fjjfQCWaQJCntStnHNDQTHnlcpvusMkLV4648Kyzh6+35kpdWtxxyd/uffJt0LgXnj1j+kqb7D/6vksyMz7r0a3fTf89vUP71mVl0/1eCnPZ9UiaAQhcrMYlosQUCKRYDbyFqoE9lipECOyNrFqacAxsNwNse+dOULHQFAO3+ZaUNi3PNG3T9raRo0DDK7FxYoQN+ciDDsEf9zFXeTKfg3BVEUVsLWwxKIvQrCvQSXfld8D+COgPjEkvfZvYu7iH4+BEdLKrVjLSF4hdsjiA7zTV5sqbddpgnZWffP+bZ+64/rtDd+vRtvytx67/xw0vwV9T6y5K8U7U6ZN/3HCLA07c47699zq0bV35lttuc9pBB73z5v+uufqOVqVZsPBCAI5G3DRmCGbgUkstNXbsWLyplaesEIedZBtSCPtkcTaTwf71r1c8uNUO9x13/Cn9urZs23n5v5992vD1+zzy30/cTfJstlnrNrPeGj1s0Covv/v5MefedOD6Ha97em6TygoeCNwZav5gDs14sQnAy2pcMjCVHGgGHHmtpoypsvKmSgXGoIrYwMJqqtGSLUFYwKY0/zuoZCPY7SyREOYhKv4Tf7i44aCqnYHUl2iA7T2/A1okeeJdNjh7OOXqh4Zudt1RJ521TLuKTGmLw//8l502Xf66Rz/lXUqspbKykumZzMl/O6vn8gNXP/TKR8/dvGubXivs+vc9N1q5tqa6pDR9OLBusd1j7uEldJiK33//vX4Brvh8KNQ1N47uiFS3ytBtR72zozvgYn8xb9IzN5+NW0SV5e4q9Nybnjw3H19bW4PRP/DM2w88051Ru1PqtPuuefrvfxdmDaScoEoG44HN1Z6G1NbU4ME37JsxFPBiIZnAG9xOk8DqAIssu4B1WRxE0SWCgGiyiAlgF2RBMk4DXd/wumGXV/2ilKQpC0jCFshe4r5IkRu8zX5vbH8gCbi4/vOut2BdlZe7t1HtduL1u+H+CGZA59W+n5284m3snGqQsXmXlpX7deT0pAkXMFcp36mx+uqrjxw5ct1114URCwJtMuTLYnVkFEBD7jKVEninTnnz7Xf/Q5+1f1x18EBw3J0B3wQwjpMoqZasQamkgaDdJNCvQIulaUGaXoMVEpPVnECqSBwoWhDYyKqlCccgaFeEoPX5P22D4WAMNim8LHSrrba69dZbcSvPbT3+zYXwihMDeeVSBgLWZbFiyaRLBAHRZEkAM/fnoMmZqKO6f9hb+MO7g3G4bY5YHFUF1Ci3F+6k4HWf2ZWU9F1tvQ0mdV1txWWdxd2HxHR1x2ONBwFEZPGEZJ1bDA5u2+DnNLDmX3nlFbyaEcdJNAGOXerzMeNiCcSW5mcZ5mXlbvv/ETMNE88lA0Z+6AUQa3EsmyaehDDQllatuGzgLVQN7HF6hQiBvZFVSxOOge1mgJkhQ9xRkUhAHaDFjUp+AVM/xAk7FxgBQCGI1eC1rrxY/V+GBwp0xy6qwTsfl8+KyYDKwx+CXCvua8QeubqzUNMKygjAhd5EMG/E3yBKFj+ZsgecfPWBpySzBfPQNqQVRTGrTBrtahcEfmVxm222wc8K4HuMqQri12eSn1EUtLLWAowDOzSpgKrSaKSm1BRIC6txySZQ2kZZZaDKWFAuxgargl4axQSADspUuzWmNieCRCzNGtmELEG7NgoueiGeftuGDJS2eWKUdrEc2OMqpQIXjXFZhGZdxApPdyEZOJwvDxxGl7wZ3/HHDsLdnqhfAkHH9RGyp1rkLUB2bYhjFQrZSU71chRZgoDDI0oscYiMtkXSCpUMsYFBrHVZnCoYEFiNS8amkgPZgCOv1ZQxVVbeVKnAGFQRG1hYTTVasiUIC9iU0u8TiCHAYE50GX/FAOd1+Oy0FvdRF28nGqwx90xEHZ40ozEej+KpcAZCAb/EiNgvvvgCL2jkbCweaL3KJwG41MSBogRvP0+uBhc0Kyv+O/4pa2ABTlAxSFzYHseS2wcxvKyCICBsLUHGDIfRKpATu6QzH1f9iZY/KUFK/tHT5MTUVV2D/lIxOW+xgvCpIZsJMmRVpaJgYf604AFPXsgxpKaqZvLnk6eNmb7s0J6lle5M1coy1mqqITJZVRQuE3ChmKogPgBxIstZhxck+zoE6+bNrf3409p3P6h6+JHqZ54v32Kzltddid9VRjeUCXGi4+0WJzTY85esylP5g4MQVOOSLpT0Jmq+KkzAWBmTHHxdyqhZO6o2B8aSkGq3xtTmRJCIpVkjm5ZFiVHBRikruNxRkTEWkBFYRKMdwbTInlqlVOCSfgCK0KyLWLHprvzwY84hUT/z8l/I8DW3ueF/YDHzitIXyHvq15UsDngRN6/dpZZb5s2cN+6N8ePfGIfp98O7E1Dt0KdDZavKqd9MbbtsG2BwqBDfd4HdGoW9sPvWKAj4EciHH374uOOOY/KUqs8WyM+o5C4REqypqX7+hZpPP6t5+pmat96pHfMtDoOlA1Yr32DdsvXXa3L8MVWjnq/7bmzV/SPyIn7V5Ldmv9/QPQW05m/q4G+2pG7WrLK+K5QNWhOrBtt+PjxcUbTHZZi5r0uE3lSOXFZTxsaEFCfHOQSW1HbFiQGaSzUq1caeoCqgiFzQtyWkiqMPNiI3+zDlkJO7YZMckTzK40akm8wfP/F4ncmgmT/MnPL11G9f/HbMC2Omj51eVlnWbvl2Xdfs0mvjXoOPHowzUtLevf3dly58+YH9H8zVmkb9Fmwb5xp2x2ufKg/cpZVl+KLa4KMH9d+lP05KBwwY8Mgjj/B7/agqHBnmqqvrvhlT/ezomldfr3r6mbpx47OVlSVdOpWvu3bZOoObnn92ee9e5Ls1gxmLC87y8jYvPlP91Ki6GTPcmnIpuenmlmTVJRh/3NqDy9/3QnNzLrks26xp62efKGnebEHPlr3o70WyBhp72wZ07pW5OQaYYnLZqsUk0JJaBgqWY12BTrrL76HhwuEH25UHbiaigv+y2Hrdo7busWgs2PgcL78ICziP3zTBnPbNtHFvjPv+nR/GvzV++nfTm7Vv1nWtrkuvtFSvjZYddORaZU38iQY+Ca9xj/L6Ddtt2fhvlT1Wwb98Iwv297vXxo78w0jmgK+O4qcg+SPhVHF5+g/epx94yLzr/5Nt0xHzqWyN1Zqdfkr5BuuVae5hjlXX4ElGP8H8OsEq8Pd1S5Zfrmmf5f0UYyNJelwpyaz0NuKkXXy74z831s2dyxWFkgBegYTpVy+NtrRe4jg2lROQg+YaEyKFVHIsGFjiXkBHnBikepUD+PP5iB9U7qQZAxwvlgOvmATyyiW7gHVZrFgy6RJBQDRZxARARr70yG9mzoCdupuB9S5ylJI0ZQEB62viBxPfuO7NWd/PmjVhVkl5Sc/1e/Yc1rPLwM4tOrbAwZDk2hp3DolJjvnH7RoI4cD4D/OTxzGOlrP7RYOHGtuiGR+147haPafGE+AB35V4HeNbb73FjxndSSz+5XItr7u61XVXO0ZNTe0HH9V++NGsP51U+9Y7dT9McA/u91uxbJX+FTvvULbWmtn27fD5PrqED0CR5uwzz5577Q3ud+bc1zLcDgtqbh66vVYOPGSeJOzzg907s3U/Ti7tvax7qN2n5XN2+RHYKo22hFdMARsoHHgLVQO7wgUKEQJ7I6uWJhwDtC5jgJkYvQt2gorB4HhAQoByS2DJDF3GfvHblytQczPETa28zW9Y8+mC2/YyS/dbevOLN3PTzC9Tv5064b0J79zy7ncvfzdj/AzY2/Vu133t7l3X6tJx5Y4VzStcWzgA43eJs5nJn01+7arXq/EbqOYE0KfhOMn2T+TzcvsLTAB85lJWMm/GPJSYkM7vN3Qo6zISRljd9HBfB3bTAFeJZf1XKl2pb8WuO4mGCVP90is1770/7577q0c9Vzd2HCZw2ZprlA1cveru+8o33rDV7Tc6qYVakBUastvcQsn8/w1asKlo19OSv9KRoZ8Jbtv0O3W3jWJxmZe6Z75wkZV1e3Nn4Zzx/oKFaE4Bm3s227pr65adW/Ye3lsXhFWzqnCr5stRX73671enfj2ttroWk7PF0i367dJv3P/GjX9z/JaXbbH0SkvjyMkQSlFNDashWBx2DleUVrhbr/i9VGC8Bu6DDz7AXRy+c0g6jsvFnX8nvaMBCZevPQj/MocchEnoZTN1M2fWjf+hpGsXHDCdCI6KZsfE1ULxGOdbSv6m5BAwfq8WXgMLdq1IHQyJFliAZY+rqS4a45JSErQE6woI6S5kBYfLzf/vNmWAZArx3DRxeJpnJg0KCyiTwILDIP6DV1thebPypfovtVS/pThh4MLtU1xSYhJO+3Zak9ZNoIAbre6EMv9RHsWtMtRUtdMAZ7Y68nTs2BEv8Mej4ThHFUeBCod4A+yfvGPCbl1g7jVtVtKrZ9MTjnHPo2LJT1GHg1i3vpLFauZtDf4GBFbjkjGp5AZyDTOxLqtp7cCBrLyp9sAYVGM1EgKaqjGwCvLalP4fXCu6aZIs2PTQeWx+/tzPOOoJWjnOW18xk80avVpC0/p1wN1GcY/CQASnqR1W6NB++fa6Z+NmVP62aqA23yqzQok5iTcyTp06lVORbdl8Ahwo1/fOza8sbt5gy4VROpZfTy68HgrxYWd4XMplgdURtgnEZHkFFBiAQoTA3siqpQnHIEhYBOVGy4IdFTFOwQI5WChKEFRTXUoiAIGC9VqXmojF611uPvjF/kGAmybJP8wHHNS0qDlYrLLsLjrvssbiZBfC//xGyeYUjipHgsrCtNPIduFiFSUPj/iWzOeff96vXz8SbBoKtC4SCpUSt4RCOtZu+cIBwYpbTH4qWVKpHHljtcClqkDQHO2BMaiCE1hYTTVasiUIC9iUFuxaEVsDF0gASGjJBPkMcRD0B0N3LPSL/wMTNmg++JZnLpn9SMkKY4kFz4WPGDGCh98U0u+mX9UaWLCpyC2AHQT+dfQUcw5HHvyP3Qf/w8xMjo3+zy/UDaxA7gK0JlEl5uxyWLs7tz9JPghRICxz587V1SMJKH+hDv3e7E9aAwv2DCqb0qaDKgZeWwYBvbSTL44NtFlr67EKiiWQS8pxVAMXAriz8KXfbSTI2VHnTPDbLZlWEI1KzWaSaNLkyyCKgfSDHIvQCIKkqMCqxRRxuw+Q3R3fkrpcHU6pXem/1I/3FLdp0+app57adNNN8VVGfn3UKlhMNZV0qeqayGcbuJSwOAQ2NsBQUO/gYjUu6UJpm2AVpV1iQXmVNiygyQ5gc6CdhFS7NaY2J4JELM0a2bQsqAZYUsoKFnetyLoAqyhpie0ixByRBWKODSeOyeLELlkE4iboajAsUiRwp6Z4L0SDo6IVlKbiAm8Ru2VaLE0ZAexwys6R4wUhPm5BR9w/fLELjwrgEwp/ok0OH0klZkoSUXNK1QJLk53G2AWLmoi9ChcIOKzGJfhiCkjEgsBbqBrYrQJxIUJgb2TV0oRjgKZlDLDN6v/BHVRsRPnFb9JuF5W8UMPV8z7/l6uGJQxFqnIFNNitxWK5rNHiUBMTwL3OCZ/1OY8bTsxKfBbqPxHkeen6669/xRVXbLLJJjwkgmMFLZY4QaqLRuuioCwAwoGgrQYcVuMSIWIKWB3hwFuoGtgVLlCIENgbWbU04RigdRkDzMTo/X9wBxVbkxZ0HduzW/yW7a8ZrZOrxrn9IsAqythSxEVyEKKqABXiqrukxdNsOH7jmtG/XqYUGLd8fQD4WPCeIbxyyirAiCpLaycuUsaBRXSsfqpmQLDiFjM2lRzIBhx5Y7XApapAqlRgDKqIDSysphot2RKEBWxKC3OtyHhOZZTQJSZgM7SLaV1qXoDhqMa02CXl+bjyWUGWRze3ZSdTDHspGZ2TUlaQRvYFmFWU1uLN9Ts8uawOsOwUQZUE2i2ZgqLh4IfkUJS6zF3q7nFQd5nrFipbcdkBrHjMYTj5KkGjplJK1aE3VVNS1AmqEldDIEiNgCGxeCwo8VjNuoQJ1Fxst42mNieCRCzNGiHOrAhQykssKVRlWfhrRcrZEqJqQ0BGa3Htm8W6LAbFVollERBNlgTkZ16y8ebnoeO7ZzvdMZEbNvkKZ2rFq+SoaVUDS6qINVosERqT82PfC+w6eDh3+xAH3f+4UMS7GHFgfO+99/BxP6o4a7WCFkucINVFY+yyFosDTVUDDqtxCb6YAhKxIPAWqgZ2q0BciBDYG1m1NOEYoGkZA2yzWvijIlW4Y9CkZxUuAWFrYaxKhqOKjANa7BJhPq78wcfl4pLw/9wdkPxRxf+liC2ZhouIDmhyAWixadBoLbEI+wgmh8eSrSa8TDR5vJsTMknJ3bfx/ycRmIGKBVCjFM8rWYrjNKiblW9dNskYBwqqKgFaWI1LeNkWlAnIjxNmrNUXZqzNzbqECdRcbLeNpjYngkQszRohzqwIUMpLLClUZVn4o6JVl3QM0BKNcvnWGxTWZbFiyQ50LDPdlWzMOARqu8vPQyji/kf+yw1BuG2OGKVtTsZUu2VaLLI1WixZayTGMZDh7oCI/qCCezn52SQ+OmqnpexSFkh1JW0l603cBn1PDaynehRwrKzF4IopEEixGngLVQN7LFWIENgbWbU04RjYbgbY9m7B7qCqb9y2UQrQxSqwgLC1SCeIElkEG0Usi4CiZBETAAvWDjZk/J/fdL28f0zUne6ZRe1KUxawhC2I7dZisTSt0WLJWmMKRiLuDLvOfZUxV1JdXQ0OFnz4wbczAlNKQMoCqS4aY5e1WCy1AAQcVuMSUWIKBFKsBt5C1cAeSxUiBPZGVi1NOAa2mwG2vVuwO6jqm9u4/QIL/tJOEFRTXdIJQKBgvdalJmLxeheyQsWXjuZzTBL1NTc584caz8yToh6xFZb1+tbqceyiJbCrKpCqXMgLu7tYzGVrMrXuTzaLF6I+9thj/fv3hw6q9U/q5DMMpPLm8C9pAdlWC+FQyNctGQZW45KxqeRANuDIazVlTJWVN1UqMAZVxAYWVlONlmwJwgI2pQU7KmLGxwvkYKRoDOSVS80LWJfFiiWTLhEERJNFTAB3FZJfeErnav4I6bP2VynehEIpSVOWwFvEbpkWS9MaLU7VtARiV/qdCt4gTAs/VMSpKZ8KQEkpGyvxIq56/YZsq2NxQ1Z9LeBYWYsRIKZAvYpBgbdQNbAbgQQWIgT2RlYtTTgGaFvGADMtehfsWhGzmQskAIJSVQuEyUc1XqzLYjBtlVgWAdFkIUgmFipaHNVp6pDJyelTcka7BPWgKmZstxaLEcKqNVqcqmkJYXh+TjIQI4rZiFIhAlIWSHWF+nm2JVuc94d/A46VtRhhYgqEWr4eeAtVA3ssVYgQ2BtZtTThGNhuBpgZMsQ9Dk5kh5AMWlDaAIsRaDmqgmPVxGFDVLClbcIGUodMiYsQRzVwIcAvtqFUDJZfB9JLXyF0e3IDGYXJZS3AsiOMVRJot2Tp2qiAjCh6cZWIgUEVn2Fgsa1Ax4oHLraidtUoaFS2rliH3lRNSVEnqEpcDYEgNQKGxOKxoMRjNesSJlBzsd02mtqcCBKxNGuEOLMiQCkvsaRQlWXBTlAZyWCWbIOl7BYIiwNLsFiXxaDZKrEsAqLJkgbyUv5+an73ggYSOyyKYnrFq+pCQFMyRURsiMWpmpZAzNL98Lr/hbWVVlrptdde++ijj1ZccUWdmqa2Ln0AKyu71ZcxIKcGWnLAV9WKSyQGgRSrohWvBrRYqhAhsDeyamnCMUAaMgbYdmfhb9tAnZNbUzy1ysYCF41xWYRmXcQKT3fl9/H5BNyOivdQHeC5qDuseLu//xEIoprnyZNika8QObCrKkCFRlZBI5Ml5x6uFXHvFDoYFD2MWiQxuSywsrLTyGohLLIFlgy7Fbc4VhbZqhUyyh40x9hUo0LIURmQg2ocRUJAUzUGVkFe2/pv+aiI7RKL2zzrD4L5vnuj+5Tcb76sBbTi1bxQgx0ejTbQYralMibTUoQQqJEJI4YW3+inFyVBoCNxAnGsncbYZS0W21iLAw6rcYkQMQWsjnDgLVQN7AoXKEQI7I2sWppwDNC6jAFmYvQu2FeHEcMFEvHMpu6SVmK+uVR93lgnLj3g5A6Nsy5pCTcyH2SuT/PxTo33338f5a+3O43s9W+YtmBTkSuCk/DXM+p+HrpT0WRxkw+T0W/K/MJR3vNr+suPLpgxMM5LgTU5f009+T1XvwYWZipyEi75R8UkQx728Nl3NuN+RQnfhse3Ff1EREd4rbXk9yXeXJG80kYvcBMVHADMSdnjqN8tS+waWJjbNhhpDrYt0cPUKnseuAqtjiI06yKWSLorf9sm/1GFOyr6E1Nsw5id7qjInBFuN2saKR40ZF0k2LIQObCrKpDaViGvtfuO1F8pWJdNNbDbnC0mLSDbaiFsRYQtGUZW45L8VLKkUjnyWk0ZGxNSnBykBHJgSW1XnBhYBXmVAywLdlREABbGczuQ1hIIlKGbecjPXTW6v35xV5C8ckRVzMT56/mD4cCREN+QeuKJJ7755ptlllkGh0ccGGHUSP16evP/OtMFm4p2VS35I60M3Wmpn3r1+Sf7E/dZBoxi1hN+DQh7EGTO5PGtxSZNmsDCa8jfLxp/DQPYIMeFn4oNZH51FZyd4l9+Qv7q0mfCmG+cjageddRRNP5+PPyVjqabijo9E1BnrAXYLgqEkXyCoJrqkn4AAgXrtS41EYvXu3xWqLrF95F/EeItNPNhG3/2mu8FCVaZuJBFXq+vmgO0BHZVBRjTyGpAi1vhQdLSLGZbqSVpAdlWC+EianJZcYtJsMqwBNVUTqqyjI0JKU6OcwgsrKYaoSy7QCGjUnUf8WvwCJQiXdKKvVSHnRwC0iRrOYGCbYjYKtBiW6emlOfjsjdjzDRLGsXX3vEv+QKDW3FsWmkAqCGbSdwFm4ZlAqd2Rw1RKg4PmiZBZAI2JGbAYdP0CgPYRe3KyMRYWiNwIX3RAgC+zZPVuLTKbII6NpaWWFAtKm2pWZcwAVtpjL7lBFGq2qysEW0xKwKU8hJbcVl+yyeotsPuctH/c2vH9x6rRyeolglnsDivX+v5l62xluyALBlM//mIe2Vwcc0gCmeV9uouP8YcQctdYMy7bEomr+y2FZ7KNrINKqAkSFZBPh3JwmBx3v/73/mvATcVuXLjNUgLSsr4UUhGQthyYJSIAGLFASE1IxDUhA1kbOASIY5q4EIyfvtmo+7xmmSrxEkpKs6A60X/8KnbKHndpbbYNGPhdZ+d107fbu0VR7w+9ckPv9ikb8e5c+eVlZeVurd010CwzH3C7n7qd860Cbfd9cDAYVsNWKE7G8Rnfv43C/EpvHsDDTT9p4D+G/f4OBCfBJaUfvvhsztut/ebX/0Awh3PfLDr0BXxIBs+AUWSDWZ1Dr8dXIuVBRH3mT5vCfue8HPFBmTfmdrqTFlF9tit17j04Tfvfu79nYeseOwOa1z6wPt3PP3arhuu6rqWgSZut5aUlZXW1tQ4XXzvEXLu565Ky9zlaB3saLSiomLcByO69t+u78Z7vP/UbSXuB1wds6Y2V1FR/pfdhlxw9+jbnvtojyF9q2tqsWpcqjg85nNKxtgnr7HDxgGa4/hGkU1ZqfuADQS3btyGgYzMm3s8H3auAW1QqHLIfKeTgkZrYbupdmt0aUsaK8hvn7KoamnWiBZBlgXVAEuKuVFnYY6KgZDt6hKF83lytbqhShbeNuWzKX6U88w8IfUvtn73yDUmXXlm7qTbbryj44rrbLnuCnfdfHNV8x677bp100zmpWcfOuHIP7z55czDTpg8c4ftNxjYH5PpjReeHP36h8v2XWO7zYdgfLFxffvxmyNGvbH1Ljt9++ZzX0/LLN+p5dln/OntryduusORB+21wzbDVkKurz/76Fufflda3mzI5tv269kB2yvmyIyJY+5/6PEZc6vbde+z+3bD3Vcz/Ec02ZJ5jz54/6ffTFxjnY2GDOqfqcN0dX3yW7LrjM88U15eWj1n9qDhB16zTev1Vu2FLQCaE796+56HnmvXs992m6xz9203NOsxYMdN1vnsjVFPvPLJehtvs0a/nrOnjL3rrgdb9ui385Ybtu028Pbrrm2zXH9kiMmLFp596O63x8zafZ99WrVojoaw94AsZnU2U/3M4yPe//Tb5VYeuM0m67sk/PYNLxYmhxk4d9p399z9YHXLnnvuts1/H779mzmt9tpluybuN1qzrzzz8Bsfj6ls0nLoZtv26dEuWQPff3HvyCdmVtW27NZ3j+03rfBbeaOGz2WwRC+N+uow1h074VejK1AlxloA0LqIAZg0yhWvD+uyWLEMCXQsM9WVJI1jh0f5qv9ykVfE4UqXi0Fbtsr5wxzwQEu2rDIz9eMzTz7+22nlp/z7pqO2Gjp8g/UP3H3myP99MXyDTVdaZqnXP50+fOvt11617wNX/nWnI87adK+/3nP1yff+84TsFkO3O/bfD1x85BvPjDzh+POPOfb4A/549IB+q6y+7tA1V+r26Oj3e/Vda4vh67w78poNdzhk/X1PfvCav99x0XH9lz1o0FbHv/LQhQdvsfq1j31066jXD9+w/72X/23VFU844G9XHLvz+ifuNeSC20afdtnI0w4ffsRuWw198JUrR7x66DZr8dCUT9v9xcGvrEmT+/957gOfTn76/c075D5aqcfKX81rc+3IR4b1b7PV2v2eeW/sOrscgan40sirT7jgodP+tSym4vSxHx171HHLbrQbpuK0cW8feMhhK26xz+ZDBt9y5n77nHFT/413f+qOy16/58Lzbnksk6msxls+srN3GLzSA69+d+J5t/z1yINvOu+Ykk03WG3zI0aP+HdLd4WeP8TVTt958Mr3vv7tny6+/a+7DPrzXhv/+85nO/Yfssfu23342NUDtzx0k4NPv/+K0287/9C+yxyw0e4nPX37ObsPWfHO0d/cMur1wzbsd8dFp67e57j9Tvr3CfsN4++FYBvgZmC7HOBChMDeyKqlCccAOcgYYKZH73yOipx1CEBvy8vLGYmS81BVApED+y9VDfLBVOSRUQBriKaAGSXMfU9idiuuJDtzWnX31Ycff9D2rcsz66/a5+0xr/w4bWZ5RbeyMmxq2SbNWuEIetvNN+KA9OkLt6za75aS0rK+yy///tM3j606snmTMqzPg8694aoTdpszr7qyvLK83A1EZZNmzZpWLNdv0L4H7PXMqFv6r/xwt6VbwF4195vqTOaSm+5r8dfTjt5ujb1mVMHYol2XTHmTud+9esddo0ubtLrpH0fdfCHORZv27r3cgyMfPnCbtcqxkwRPeyBgv03g1K+mtrppk9K3X/jvN1WZrY7724GbDcQJ6OVXXdh37Z3n1CS/0IoMc7XuRLV69qyZNTX+VNYNvDtZzZbnMtW3PPJcJlN+3j8ubt+65fD9Tj7m+dFn3fpU69atxzx35wOvjV1v28P+dsIumZrcoX+/5JUHn7ztsctf/OiED646/IQrMWOxVF54w22j3/qu84CdTzl216bVtedf8Z/nH+/16aw5NbXZnqusu//+uz/37M0rrTKid6dmYM+bMwHP9V137yMdTz7lqG0G7D0L6yPTcukeufIqHmyd5K98mc9URO84677++usuXbpw+mLHhreMffnllyussAIsINC+5KwKTLn8zVF3DPTP2CBLbJooXJ+SI2XDzbR4/i7cbdu+cH8wkXF+hwc+nREtYhPHeiitqMxk5j7y+KM92m9/6B+PfeDV43NtVrr8wj+/MfLq86976JAz/ta1IvN6lcuuAsFlZeX599Bggtdl3OOjp5146OX3vbLD4X87ZMt+px5zhMsqi3PizOF7b/GfJz7e9Y9nnnLork/ffvFxZ19z712PHrPd6Yf+YetTrnxo5Q0O+9Ohm1152lGPvTfznD13KMd8y2Xd9avvFZPO5w9bdsbMeRttsd16y5z68EV//EunZqu3n37k0X8Gt9yvuU7degHfe9/Nq3WtuuC0PyHdcn8w85/GZupq5sLw16MPfmqvU/bZeZub/vX3/z183dm3PoUJNnXK1B4b7n3kdtdc9sDl2+9V+ec/bnPL+afc8v6YXf982UYr99zsikePv8In5Iq53z201qX337PnfssctdPgM0/647tTM+06N2lWWnvCUXtdcf87ux5+5r7DV/zLkYeBihVQmqk7eOdNbnv+yz2OPvOkg3d58pbzjj/vpqeeeunYPXGi7nqGFfirXlK+r2hnF3Byjj5jxv7773/22WfjqY45c+bstddeRxxxRJ8+fXhuoFWQbKduu+Q24DzE1iI+gXVZrFhLE0FAtHqLb50dQfP+1aHIg3c53IHQJwe/E2YUSgK2JbuvunsXmUyzf9z4yJ9n1PXr2iRXsuLzb75W0rR9c7xDP5P70yU37nbKrD4ruauvqx/836mffzR20qzWzZpsvMdxuT2Pm/LDmM/H/LDDYX8/7Z+3U3boLoe+vPrmXXv1AR93KWA84E+XDNvt1B7ectm9L18yc/K7H37Won3P1z4d/91nH4ydOm/GnOprH//o2kzmk48+mDl7xqb7npQ762oE4mB18hUjT74i89XnH/84ZcZZNzx5R/dObAXHZ3ghj9yPu/iWXU6ZucKKPXF5eMH9T544p7ZPrza58vLnv/yxatr3b33wRc/+A98a0LPH6jtkKyqQ1ZaHX5Q76PS33v6gZadeL7z39Ydvv55r1h72Dstu8OorLzfp0Bmi6+5xUm7Pk38Y8/E3E+b+9fK7//T3ce99Pq7PSsvmcuX/uv/Vf+OS+OvPx0+YctpVD/5nRAesJXdcxS/S6Ym86uq9Tr7iwntWG/flJ2Xterz47jt92nSeXFoxp6bk0vvePm/qxPc/+bL10j3fGfPjt599MG5a9ax5uVuf++JWtwbenzlr5sb7npE790b2NFOCXZgbRyywFFkKEQJ7I6uWJhwD5CNjgJkqveFRUfMQbi44BmI2rrbaajfccMPmm2/++uuvb7jhhg899NDgwYM1D8GkaLJ1s/KLlphlvM9WlyvBbcGaktLqbF2Z+wWpkqoSHL+qKzI1dSW5mvqnUt0JvTqSlntJz94r9nTf7MABoiku8RDgDxWZLj2X77yMuwWCKCh0WXb5zp7HzaP1Ut1W79AVe3Ynjn/ZbKt2HQeuuTS+2AQ+dwdLd1kW/6gHWmmz1qutMRA+4M69+nTKZSAOjKX3Cn19bvWp0t5j2d49IJB8ROGEYfdMV3TuuXynZZLvN/bss9Iyrl3smBynrMVSAwa2LSur+Gxubaf27du3aeVE8D2PshYrr74megvOCv0HMNGyJq1WXmOgi4WC7+xS3ZZH50Bq1qbTmmt05KUgfgAL7q49lu3SfVmnVofzJpcGUwJ0t2crWnZuUb3Txms++dL7+DpJZZO2W+xz0kXnnNzCPz9b2ar9gIHtmGHX5fp2rsPqdZlApPcKK3qQfBiTl/UNuEZ+rYubilyz6J5fa9iAczj/xPRjz9kz7Mywlh988MHjjz8eh8dVV1116tSpuLuNENJQ4mKyshKnZ8lCWVTgIk2WPCX5q4ZiWuyiGmUZr6gGLm4u2WzV7NlVU6ZlWrbK1uB77ogozZXgZ2Bqc2XlVbNmu3NV3wWWEqQ+jLSg9BMb64Czz80Nuvx2BqJbaMGMIoQFXoVQxH1ByzP8RxVu5TBtS8MK0x18qlEcTLXLthjryyQ3jBS6KXHQXGb53FzVZ+5pfq5ms+Xl7kjYZ/CO4ybu6JL0H94gM6fo+8uSIhZ78WQ9oJk8Qqj7dEQGCKKqVJOUMplOyw+856nX8bEHLFhqaqqz2D2563esyWzeTGF38k8a1oDL0C/QRD5UhgGAdpYKkZGEVLs1SpCBQZSqlmaNiIKaLKgG2LZFLywNjooMgA/d43mpFLkFNG/e/Morr2RLOFMVn3IcJBiDluD9uRd/9YB8qqrmHH34YVX+vl6mBFf+mIQY7Cx2y1g9g885B8PrN5T6XezPneqiaE/DtHBiGkesCg4iVs7CSTUqCuvf67vzAjTpG/Wlm8vajzRK6jdEclNRIwGMQcVgYMEhjpOK3tTZJZcFiGWVJddVbEldh0Vo1mWVlb8loB/4aArXhuXlTbGHblKBbmJX60faBeDQiDnotjb0C47kZk5++5O+gLKNLUVcDVNKiFIQoKOR1YCG9GGhkWWsZu3KNgaxCDg2thCOpYJAVW0TRdSsS+KpxkBZZILiIcXJcWxgYTXVqKwssDiIoqvBUREmWgkaU8ZTNG6mMTqLnIPLMj/X3Bzk//kSB203DbXbN3CRZ/G74O9roLFrIGUqNjbU8zDx4tm4QAqLnYw552ZjfklmnmZi3v7r/PsrWP+/zhX782f9fwDmwzZxRSceAAAAAElFTkSuQmCC\" />\n",
    "\n",
    "El calor que se transfiere por la película de condensado es debido a conducción, mientras que el que va de los gases a la interfase tiene una componente convectiva y otra de condensación ligada a la transferencia de masa,\n",
    "\n",
    "\n",
    "\n",
    "## Flux de calor a través de la película de condensado\n",
    "\n",
    "<p>&nbsp;</p>\n",
    "Para hallar el flux de calor a través de la película de líquido, usamos la expresión de nusselt modificada por Herranz et al.: \n",
    "\n",
    "$$ q_{iw}= \\left(\\frac{ρ_l(ρ_l-ρ_{gb})gh^{'}_{fg}k^{3}_{l}}{4\\mu_lz(T_i-T_w)}\\right)^{1/4}\\Psi(T_i-T_w) $$\n",
    "\n",
    "Donde $\\Psi$ corresponde al factor de corrección de Kutatelatze et al dado por:   $ \\Psi= Re^{0.004} $\n",
    "\n",
    "A partir de este flux calculamos el coeficiente de transferencia de calor en la película $h_{film}$\n"
   ]
  },
  {
   "cell_type": "code",
   "execution_count": 5,
   "metadata": {},
   "outputs": [
    {
     "name": "stdout",
     "output_type": "stream",
     "text": [
      "Flux de calor q_iw: 343.56 W/m²\n",
      "h_film: 6871.25 W/m²K\n"
     ]
    }
   ],
   "source": [
    "\n",
    "h_fgcorr= h_fg_prom*(1+(0.68*(cp_cond*(T_i-T_w)/h_fg_prom))) # Entalpía de vaporización corregida, Ecuacion 3 Herranz 1998\n",
    "psi=re_l**0.004 # Factor de corrección Kutateladze, Herranz \n",
    "\n",
    "#Calor transferido por la interfase, de la película a la superficie [W/m²]\n",
    "q_iw=((den_cond*(den_cond-den_gases)*g*h_fgcorr*(k_cond**3)/(4*visc_cond*Lc*(T_i-T_w)))**(1/4))*psi*(T_i-T_w)\n",
    "\n",
    "#Coeficiente de transferencia de película [W/m²K]\n",
    "h_film=q_iw/(T_i-T_w)\n",
    "\n",
    "print(\"Flux de calor q_iw:\", round(q_iw,2), \"W/m²\")\n",
    "print(\"h_film:\", round(h_film,2), \"W/m²K\")\n"
   ]
  },
  {
   "cell_type": "markdown",
   "metadata": {},
   "source": [
    "## Flux de calor de mezcla de gases\n",
    "\n",
    "Este modelo asume como despreciable el aporte de la radiación de los gases a la transferencia de calor, reduciéndola exclusivamente a componentes convectivas y de condensación:\n",
    "\n",
    "$$ q_{ib}= (h_{conv}+h_{cond})(T_b-T_i) $$\n",
    "\n",
    "Inicialmente, se halla el coeficiente h por conveccción. Luego se halla el de condensación, que requiere cálculo de difusividad entre las especies y del uso de la analogía de transferencia de calor/masa.\n",
    "\n",
    "\n",
    "### Coeficiente de transferencia de calor por convección\n",
    "\n",
    "<p style='text-align: justify;'>En el modelo propuesto por Herranz et al, para el cálculo del h convectivo se utiliza la correlación de Mc Adams para convección natural turbulenta, debido a que el modelo simula las condiciones de accidente en un reactor nuclear. En el caso del sistema de condensación de gases de pirólisis, se tienen condiciones de convección forzada en flujo interno, por lo que se modificará el modelo usando una correlación correspondiente a esas características para la geometría deseada. \n",
    "</p>\n",
    "\n",
    "Este modelo selecciona automáticamente la correlación dependiendo del número de Reynolds calculado:\n",
    "\n",
    "\n",
    "\n",
    "   Flujo interno laminar en desarrollo, región de entrada térmica con T de pared constante:\n",
    "   \n",
    " $\\hspace{1.5cm} Re\\leq 3000 \\hspace{3cm} \\overline{Nu_x}= 3.66+\\frac{0.065(D/L)RePr}{1+0.04[(D/L)RePr]^{2/3}}$\n",
    " \n",
    " Correlación de Gnielinski para flujo en desarrollo convección forzada flujo interno:\n",
    " \n",
    "$\\hspace{1cm}  3000 \\leq Re \\leq 10000\\hspace{2cm} \\overline{Nu_x}= \\frac{(f/8)(Re-1000)Pr}{1.07 + 12.7(f/8)^{0.5} (Pr^{2/3}-1)}  $ \n",
    "\n",
    "Correlación de Gnielinski para flujo turbulento convección forzada flujo interno (factor de fricción modificado mediante ecuación de Pethukov)\n",
    " \n",
    "$\\hspace{1cm}  10000 \\leq Re \\leq 5(10^6)\\hspace{2cm} \\overline{Nu_x}= \\frac{(f^*/8)(Re-1000)Pr}{1.07 + 12.7(f^*/8)^{0.5} (Pr^{2/3}-1)}  $ \n"
   ]
  },
  {
   "cell_type": "code",
   "execution_count": 6,
   "metadata": {},
   "outputs": [
    {
     "name": "stdout",
     "output_type": "stream",
     "text": [
      "h_conv: 3.58 W/m²K\n"
     ]
    }
   ],
   "source": [
    "if re_g <3000:\n",
    "    #factor de fricción para tubo liso en regimen de transición para convección forzada - cengel 8-74\n",
    "    f=(3.03*(10**-12)*(re_g**3))-(3.67*(10**-8)*(re_g**2))+(1.46*(10**-4)*re_g)-0.151 \n",
    "    \n",
    "    #Cengel 8-62 - Edwards 1979, Nusselt promedio para flujo en desarrollo en la entrada\n",
    "    h_conv= (3.66+((0.065*(d_ti/Z)*re_g*Pr_gas)/(1+0.04*(d_ti*re_g*Pr_gas/Z)**(2/3))))*k_gas/Lc\n",
    "         \n",
    "else:\n",
    "    \n",
    "    #Gnielinski, flujo en desarrollo convección forzada flujo interno(3000<Re<10000) - Cengel 8-71\n",
    "    f=(0.790*math.log(re_g)-1.64)**(-2) #Primera ecuación de Pethukov Cengel 8-65\n",
    "    h_conv=(f/8)*(re_g-1000)*Pr_gas/(1+12.7*((f/8)**0.5)*(Pr_gas**(2/3)-1))*(k_gas/Lc) \n",
    "    \n",
    "\n",
    "print(\"h_conv: {} W/m²K\".format(round(h_conv,2)))\n"
   ]
  },
  {
   "cell_type": "markdown",
   "metadata": {},
   "source": [
    "### Coeficiente de transferencia por difusión\n",
    "\n",
    "Inicialmente, se calcula el coeficiente de difusión del vapor en el gas no condensable, utilizando la teoría de Chapman-Enskog [2] para el cálculo de coeficientes binarios de difusión para el caso de sistemas a baja presión :\n",
    "\n",
    "$$ D_{a,b}= \\frac{0.00266T^{3/2}}{PM_{AB}^{1/2}\\sigma^2_{AB}\\Omega_D}$$\n",
    "\n",
    "Donde la integral de colisión omega se calcula con\n",
    "\n",
    "$$ \\Omega_D= \\frac{A}{(T^*)^B}+\\frac{C}{exp(DT^*)}+  \\frac{E}{exp(FT^*)}+ \\frac{G}{exp(HT^*)}\\\\ $$ Donde $$ T^*=\\kappa T/\\epsilon_{AB}$$\n",
    "\n",
    "Siendo A,B,C,D,E,F,G,H constantes. Con este coeficiente de difusión, se calcula el número de Schmidt. Posteriormente, aplicando la analogía de transferencia de calor y masa, se calcula el número de Sherwood.\n",
    "\n",
    "#### Efecto de succión\n",
    "\n",
    "En los sistemas de condensación, la absorción de vapor en la capa líquida crea un encogimiento de la capa límite que incrementa los fenómenos de transferencia. Este fenómeno se llama \"factor de succión\" y su importancia ha sido demostrada por varios autores en diferentes geometrías (Lienhard y Dhir, 1972; Aggarwal y Hollingsworth, 1973; Yeroshenko et al., 1984; Kays and Crawford,1993.)\n",
    "\n",
    "$$ \\Theta=\\frac{X_{nc}^{i}}{X_{nc}^{avg}}$$\n",
    "\n",
    "Donde $X_{nc}$ es la fracción molar de no condensables promedio y en la interfase para avg e i respectivamente. \n",
    "\n"
   ]
  },
  {
   "cell_type": "code",
   "execution_count": 7,
   "metadata": {},
   "outputs": [],
   "source": [
    "diff_params=difusion(comp, gases, P, T_g, Frac_n2, frac_comp, masa_total)\n",
    "D_global= diff_params[0]['Nitrogen']\n",
    "df= diff_params[1]\n",
    "\n",
    "\n",
    "M_red_vap = diff_params[2]\n"
   ]
  },
  {
   "cell_type": "code",
   "execution_count": 8,
   "metadata": {},
   "outputs": [
    {
     "name": "stdout",
     "output_type": "stream",
     "text": [
      "D_global: 6.951470766388556e-06 m²/s\n",
      "Sc: 1.335058\n",
      "Sh: 13.456150859480498\n",
      "Theta: 1.0\n",
      "Delta: 0.005791\n"
     ]
    }
   ],
   "source": [
    "R_gases=8.31442 # Constante universal de los gases J/K mol\n",
    "phi=(moles_cond/(moles_N2+moles_cond))/(moles_N2/(moles_N2+moles_cond))\n",
    "theta=(moles_N2/(moles_N2+moles_cond))/(moles_N2_bulk/(moles_cond_bulk+moles_N2_bulk))\n",
    "Sc=visc_gases/(den_gases*D_global)# Número de Schmidt\n",
    "\n",
    "\n",
    "if re_g<3000:\n",
    "  \n",
    "    #Cengel 14-78 - Analogía transferencia de masas: Sherwood es la misma expresión que Nusselt,\n",
    "        # cambiando Prandtl por schmidt\n",
    "        #factor de fricción para tubo liso en regimen de transición para convección forzada - cengel 8-74\n",
    "    f=(3.03*(10**-12)*(re_g**3))-(3.67*(10**-8)*(re_g**2))+(1.46*(10**-4)*re_g)-0.151 \n",
    "    \n",
    "        #Cengel 8-62 - Edwards 1979, Nusselt promedio para flujo en desarrollo en la entrada\n",
    "    Sh_0= (3.66+((0.065*(d_ti/Z)*re_g*Sc)/(1+0.04*(d_ti*re_g*Sc/Z)**(2/3))))\n",
    "       \n",
    "    \n",
    "else:\n",
    "     \n",
    "    #Gnielinski, flujo en desarrollo convección forzada flujo interno(3000<Re<10000) - Cengel 8-71\n",
    "    f=(0.790*math.log(re_g)-1.64)**(-2) #Primera ecuación de Pethukov Cengel 8-65\n",
    "    Sh_0=(f/8)*(re_g-1000)*Sc/(1+12.7*((f/8)**0.5)*(Sc**(2/3)-1))\n",
    "\n",
    "\n",
    "\n",
    "Sh=Sh_0*theta #Sherwood corregido por succión\n",
    "delta=Lc/Sh\n",
    "print(\"D_global:\", D_global, \"m²/s\")\n",
    "\n",
    "print(\"Sc:\", round(Sc,6))\n",
    "print(\"Sh:\", Sh)\n",
    "print(\"Theta:\", round(theta,2))\n",
    "print(\"Delta:\", round(delta,6))\n",
    "\n"
   ]
  },
  {
   "cell_type": "markdown",
   "metadata": {},
   "source": [
    "### Coeficiente de transferencia por condensación\n",
    "\n",
    "<p style='text-align: justify;'>Para el flux de calor por condensación, se usa el planteamiento hecho por Peterson et al (1992), apoyado en la ecuación de Clapeyron para expresar dependencias de presión y concentración en términos de temperatura. Así, el coeficiente de transferencia de calor puede escribirse en términos de un parámetro llamado conductividad de condensación,la conductividad térmica de la mezcla gaseosa y los números de Sherwood y Prandtl:\n",
    "</p>\n",
    "<p>&nbsp;</p>\n",
    "\n",
    "$$ q_{bi}=\\frac{Sh}{L}k_{eff}(T_b-T_i)=(h_{cond}+h_{conv})(T_b-T_i)\\\\ k_{eff}=k_{cond}+\\left(\\frac{Pr}{Sc}\\right)^{1/3}k_g \\\\ k_{cond}= \\left(\\frac{CM_vh^{2}_{fg} D_{a,b}}{R_vT_iT_b}\\right)\\Phi\\\\h_{cond}=\\frac{Sh_o}{L}k_{cond}$$\n",
    "\n",
    "\n",
    "<p>&nbsp;</p>\n",
    "Donde $\\Phi$ es la relación entre las fracciones molares promedio del vapor y los no condensables en la capa límite."
   ]
  },
  {
   "cell_type": "code",
   "execution_count": 9,
   "metadata": {},
   "outputs": [
    {
     "name": "stdout",
     "output_type": "stream",
     "text": [
      "cond_cond: 0.0035960978231039265\n",
      "Keff: 0.02456861446524384\n",
      "Flux de calor q_bi1: 533.74 W/m²\n",
      "Flux de calor q_bi: 527.98 W/m²\n",
      "h_condensación: 0.62102 W/m²K\n"
     ]
    }
   ],
   "source": [
    "cond_cond=((conc_b*(M_red_vap/1000)*(h_fgcorr**2)*D_global)/(R_gases*T_i*T_g))*phi #[W/mK] Herranz Concentración en kg/m³\n",
    "\n",
    "k_eff=cond_cond+((Pr_gas/Sc)**(1/3))*k_gas\n",
    "q_bi1=Sh*k_eff*(T_g-T_i)/Lc\n",
    "h_cond=Sh*cond_cond/Lc\n",
    "q_bi2=(h_cond+h_conv)*(T_g-T_i)\n",
    "\n",
    "diff=q_bi2-q_iw\n",
    "\n",
    "print(\"cond_cond:\", cond_cond)\n",
    "print(\"Keff:\", k_eff)\n",
    "print(\"Flux de calor q_bi1:\", round(q_bi1,2), \"W/m²\")\n",
    "print(\"Flux de calor q_bi:\", round(q_bi2,2), \"W/m²\")\n",
    "print(\"h_condensación:\", round(h_cond,5), \"W/m²K\")\n"
   ]
  },
  {
   "cell_type": "markdown",
   "metadata": {},
   "source": [
    "### Cierre del balance\n",
    "\n",
    "Finalmente, se itera $T_i$ hasta que los flux de calor sean iguales. En ese valor de los calores se calcula $h_{total}$, de acuerdo a la siguiente ecuación:\n",
    "\n",
    "$$ q_{bw}= h_{T}(T_b-T_i)= \\left(\\frac{h_{film}(h_{conv}+h_{cond})}{h_{film}+h_{conv}+h_{cond}}\\right)(T_b-T_i)$$\n",
    "\n"
   ]
  },
  {
   "cell_type": "code",
   "execution_count": 10,
   "metadata": {
    "scrolled": true
   },
   "outputs": [
    {
     "name": "stdout",
     "output_type": "stream",
     "text": [
      "q_bi: 527.98 W/m²\n",
      "q_iw: 343.56 W/m²\n",
      "h_film: 6871.25 W/m²\n",
      "h_conv: 3.58 W/m²K\n",
      "h_cond: 0.62 W/m²K\n",
      "Diff: 184.41 W/m²K\n",
      "\n",
      "\n",
      "h_total: 4.19 W/m²K\n"
     ]
    }
   ],
   "source": [
    "h_tot=(h_film*(h_conv+h_cond))/(h_film+h_conv+h_cond)\n",
    "\n",
    "\n",
    "print(\"q_bi: {} W/m²\".format(round(q_bi2,2)),\n",
    "      \"q_iw: {} W/m²\".format(round(q_iw,2)),\n",
    "      \"h_film: {} W/m²\".format(round(h_film,2)),\n",
    "      \"h_conv: {} W/m²K\".format(round(h_conv,2)),\n",
    "      \"h_cond: {} W/m²K\".format(round(h_cond,2)),\n",
    "      \"Diff: {} W/m²K\".format(round(diff,2)),\n",
    "      \"\\n\",\n",
    "      \"h_total: {} W/m²K\".format(round(h_tot,2)),\n",
    "      sep='\\n')\n"
   ]
  },
  {
   "cell_type": "markdown",
   "metadata": {},
   "source": [
    "\n",
    "### Cálculo del área de transferencia de calor&nbsp;\n",
    "\n",
    "\n",
    "Finalmente, para el cálculo del área requerida para la transferencia de calor, se aplica la ecuación para el caso específico de temperatura de pared constante en un tubo, que será un parámetro de diseño:\n",
    "\n",
    "$$Q_{req} = hA_s \\Delta T_{lm}$$\n",
    "\n",
    "donde $T_{lm}$ es la temperatura media logarítmica:\n",
    "\n",
    "$$\\Delta T_{lm}= \\frac{T_{ent}-T_{sal}}{ln\\left( \\frac{T_w-T_{sal}}{T_w-T_{ent}}\\right)}$$\n",
    "\n",
    "\n",
    "Dado que tomamos la temperatura de salida como condición de diseño, tenemos finalmente el área requerida:\n",
    "\n",
    "\n",
    "$$  A_s =\\frac{Q_{req}}{h\\Delta T_{lm}}$$\n"
   ]
  },
  {
   "cell_type": "code",
   "execution_count": 11,
   "metadata": {},
   "outputs": [
    {
     "name": "stdout",
     "output_type": "stream",
     "text": [
      "Área requerida para el intercambiador: 2.5746 m²\n"
     ]
    }
   ],
   "source": [
    "AREA2=Q_req/(h_tot*((T_g-T_sal)/np.log((T_g-T_sal)/(T_sal-T_w)))) #8-30 Cengel\n",
    "\n",
    "print(\"Área requerida para el intercambiador:\", round(AREA2,4), \"m²\")"
   ]
  },
  {
   "cell_type": "code",
   "execution_count": 12,
   "metadata": {
    "scrolled": false
   },
   "outputs": [
    {
     "name": "stdout",
     "output_type": "stream",
     "text": [
      "Área interna del tubo de 2.5  m : 0.612 m²\n",
      "Área de placas [m] : 2.0096 m²\n",
      "Área de tubo + placa [m] : 2.6216 m²\n"
     ]
    }
   ],
   "source": [
    "a_tubo = math.pi*d_ti*Z\n",
    "\n",
    "a_placas = d_ti*Z*2+ 0.075*Z*2*2+ 0.067*Z*2*2+ 0.04*Z*2\n",
    "\n",
    "print(\"Área interna del tubo de\",Z,\" m :\", round(a_tubo,4),  \"m²\")\n",
    "\n",
    "print(\"Área de placas [m] :\", round(a_placas,4), \"m²\")\n",
    "\n",
    "print(\"Área de tubo + placa [m] :\", round( a_tubo+ a_placas ,4), \"m²\")\n",
    "\n",
    "\n"
   ]
  },
  {
   "cell_type": "markdown",
   "metadata": {},
   "source": [
    "Condensador @ 80 °C = 3.86 W/m2K long 2  m    Gotas = 81  W/m2K A_req = 1.55 m2   21 veces\n"
   ]
  },
  {
   "cell_type": "markdown",
   "metadata": {},
   "source": [
    "Condensador @ 0 °C = 4.19  W/m2K long 2.5 m     Gotas = 103 W/m2K A_req = 2.57      25 veces"
   ]
  },
  {
   "cell_type": "markdown",
   "metadata": {},
   "source": [
    "### Referencias&nbsp;\n",
    "\n",
    "[1]<a href=\"https://www.sciencedirect.com/science/article/pii/S0029549398001642\"> <i> Herranz et al. 1998 -A diffusion layer model for steam condensation within the AP600 containment, Nuclear engineering and design </i></a> \n",
    "\n"
   ]
  }
 ],
 "metadata": {
  "kernelspec": {
   "display_name": "Python 3",
   "language": "python",
   "name": "python3"
  },
  "language_info": {
   "codemirror_mode": {
    "name": "ipython",
    "version": 3
   },
   "file_extension": ".py",
   "mimetype": "text/x-python",
   "name": "python",
   "nbconvert_exporter": "python",
   "pygments_lexer": "ipython3",
   "version": "3.7.3"
  }
 },
 "nbformat": 4,
 "nbformat_minor": 2
}
