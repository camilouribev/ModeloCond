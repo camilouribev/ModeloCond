{
 "cells": [
  {
   "cell_type": "markdown",
   "metadata": {},
   "source": [
    "\n",
    "\n",
    "### Condensador en U### \n",
    "\n",
    "$$\\frac{P_1}{\\rho g }+\\frac{V_1^{2}}{2 g}+\\frac{W}{\\rho g}+Z_1 = h_f +h_{acc}+ \\frac{P_2}{\\rho g }+\\frac{V_2^{2}}{2 g}+ Z_2  $$\n",
    "\n",
    "$$\\frac{V_1^{2}-V_2^{2}}{2 g}+(Z_1-Z_2)+\\frac{W}{\\rho g}+\\frac{P_1-P_2}{\\rho g }=h_{acc}+ h_f$$\n",
    "\n",
    "$$\\frac{P_1-P_2}{\\rho g }= h_{acc}+ h_f$$\n",
    "\n",
    "$$ h_{f}= f \\frac{L V^2}{D2 g} = \\frac{64 L V^2}{Re D 2 g}= \\frac {64(3.9)(1.01)^2}{(2053)(0.05)(2)(9.81)}= 0.126 m $$\n",
    "\n",
    "$$ h_{acc}=0.9+4(1.5)= 6.9 m$$\n",
    "\n",
    "$$ P_1-P_2 = (6.9+0.126)(\\rho g) = 7.02 (0.69)(9.81)= 47.5 Pa$$"
   ]
  },
  {
   "cell_type": "code",
   "execution_count": 11,
   "metadata": {},
   "outputs": [
    {
     "data": {
      "text/plain": [
       "6.9"
      ]
     },
     "execution_count": 11,
     "metadata": {},
     "output_type": "execute_result"
    }
   ],
   "source": [
    "0.9+4*1.5"
   ]
  },
  {
   "cell_type": "code",
   "execution_count": 1,
   "metadata": {},
   "outputs": [
    {
     "data": {
      "text/plain": [
       "0.1264239548002401"
      ]
     },
     "execution_count": 1,
     "metadata": {},
     "output_type": "execute_result"
    }
   ],
   "source": [
    "(64*3.9*(1.01**2))/(2053*2*9.81*0.05)"
   ]
  },
  {
   "cell_type": "code",
   "execution_count": 10,
   "metadata": {},
   "outputs": [
    {
     "data": {
      "text/plain": [
       "47.51767799999999"
      ]
     },
     "execution_count": 10,
     "metadata": {},
     "output_type": "execute_result"
    }
   ],
   "source": [
    "7.02*0.69*9.81"
   ]
  },
  {
   "cell_type": "markdown",
   "metadata": {},
   "source": [
    "### Condensador aleteado### \n",
    "\n",
    "$$\\frac{P_1}{\\rho g }+\\frac{V_1^{2}}{2 g}+\\frac{W}{\\rho g}+Z_1 = h_f +h_{acc}+ \\frac{P_2}{\\rho g }+\\frac{V_2^{2}}{2 g}+ Z_2  $$\n",
    "\n",
    "$$\\frac{V_1^{2}-V_2^{2}}{2 g}+(Z_1-Z_2)+\\frac{W}{\\rho g}+\\frac{P_1-P_2}{\\rho g }=h_{acc}+ h_f$$\n",
    "\n",
    "$$\\frac{P_1-P_2}{\\rho g }= h_{acc}+ h_f$$\n",
    "\n",
    "$$ h_{f}= f \\frac{L V^2}{D2 g} = \\frac{64 L V^2}{Re D 2 g}= \\frac {64(2)(0.27)^2}{(821)(0.10)(2)(9.81)}= 5.7(10^{-5}) m $$\n",
    "\n",
    "$$ h_{acc}= 0 m$$\n",
    "\n",
    "$$ P_1-P_2 = ((5.7)10^{-5}+0)(\\rho g) = 0  (0.69)(9.81)= 0.00039  Pa$$"
   ]
  },
  {
   "cell_type": "markdown",
   "metadata": {},
   "source": [
    "### Caida de presión por tiro de chimenea\n",
    "\n",
    "\n",
    "$$dp = g (ρ_o - ρ_r) h   $$    \n",
    "\n",
    "$d_p$ : pressure (Pa, N/m2)\n",
    "\n",
    "$g$ : acceleration of gravity - 9.81 (m/s²)\n",
    "\n",
    "Tenemos 2 tramos: uno que baja y el otro que sube.\n",
    "\n",
    "\n",
    "\n",
    "\n"
   ]
  },
  {
   "cell_type": "code",
   "execution_count": 22,
   "metadata": {},
   "outputs": [
    {
     "name": "stdout",
     "output_type": "stream",
     "text": [
      "Primer tramo: 8.5656 Pa\n",
      "Segundo tramo: 5.4236 Pa\n",
      "Total: 3.142 pa\n"
     ]
    }
   ],
   "source": [
    "from thermo.chemical import Mixture, Chemical\n",
    "\n",
    "Frac_n2=0.73 #fracción másica de nitrógeno en los gases de pirólisis\n",
    "frac_comp=(1-Frac_n2)/7\n",
    "frac_non=1/7\n",
    "P=101325 # Presión de operación en pascales\n",
    "\n",
    "\n",
    "comp = {'Nitrogen': Frac_n2,\n",
    "        'leucoglucosan': frac_comp,\n",
    "        'furfural': frac_comp,\n",
    "        'Phenol': frac_comp,\n",
    "        'guaiacol': frac_comp,\n",
    "        'eugenol': frac_comp,\n",
    "        'o-cresol': frac_comp,\n",
    "        'Syringol':frac_comp}\n",
    "\n",
    "gases1 = Mixture(ws=comp, T=(550+273.15+350+273.15)/2, P=P)\n",
    "gases2 = Mixture(ws=comp,T=(350+273.15+150+273.15)/2, P=P)\n",
    "\n",
    "den_aire = 1.22 # kg/m3\n",
    "\n",
    "rho1 = gases1.rhog\n",
    "rho2 = gases2.rhog\n",
    "\n",
    "#Tramo 1\n",
    "\n",
    "dp_1 = 9.81*1.4*(1.22-rho1)\n",
    "dp_2 = 9.81*1.4*(1.22-rho2)\n",
    "\n",
    "dp_tiro = dp_1 - dp_2 \n",
    "\n",
    "\n",
    "print(\"Primer tramo: {} Pa\".format(round(dp_1,4)),\n",
    "      \"Segundo tramo: {} Pa\".format(round(dp_2,4)),\n",
    "      \"Total: {} Pa\".format(round(dp_tiro,4)),\n",
    "      sep='\\n')\n",
    "\n"
   ]
  }
 ],
 "metadata": {
  "kernelspec": {
   "display_name": "Python 3",
   "language": "python",
   "name": "python3"
  },
  "language_info": {
   "codemirror_mode": {
    "name": "ipython",
    "version": 3
   },
   "file_extension": ".py",
   "mimetype": "text/x-python",
   "name": "python",
   "nbconvert_exporter": "python",
   "pygments_lexer": "ipython3",
   "version": "3.7.3"
  }
 },
 "nbformat": 4,
 "nbformat_minor": 2
}
