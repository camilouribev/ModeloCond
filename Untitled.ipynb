{
 "cells": [
  {
   "cell_type": "markdown",
   "metadata": {},
   "source": [
    "### Coeficiente de transferencia por difusión\n",
    "\n",
    "Inicialmente, se calcula el coeficiente de difusión del vapor en el gas no condensable, utilizando la correlación de Wilke y Lee para coeficientes binarios,tomando la difusión de vapor de agua en nitrógeno como aproximación, debido a la inexistencia de un coeficiente de difusión para el bioaceite.\n",
    "\n",
    "$$ D_{a,b}= \\frac{[3.03-(0.98/M_{a,b}^{1/2})]10^{-3}T^{3/2}}{PM_{a,b}^{1/2}\\sigma^2\\Omega_D}$$\n",
    "\n",
    "Donde la integral de colisión omega se calcula con\n",
    "\n",
    "$$ \\Omega_D= \\frac{A}{(T^*)^B}+\\frac{C}{exp(DT^*)}+  \\frac{E}{exp(FT^*)}+ \\frac{G}{exp(HT^*)}\\\\ $$ Donde $$ T^*=\\kappa T/\\epsilon_{AB}$$\n",
    "\n",
    "Siendo A,B,C,D,E,F,G,H constantes. Con este coeficiente de difusión, se calcula el número de Schmidt. Posteriormente, aplicando la analogía de transferencia de calor y masa, se calcula el número de Sherwood.\n",
    "\n",
    "#### Efecto de succión\n",
    "\n",
    "En los sistemas de condensación, la absorción de vapor en la capa líquida crea un encogimiento de la capa límite que incrementa los fenómenos de transferencia. Este fenómeno se llama \"factor de succión\" y su importancia ha sido demostrada por varios autores en diferentes geometrías (Lienhard y Dhir, 1972; Aggarwal y Hollingsworth, 1973; Yeroshenko et al., 1984; Kays and Crawford,1993.)\n",
    "\n",
    "$$ \\Theta=\\frac{X_{nc}^{i}}{X_{nc}^{avg}}$$\n",
    "\n",
    "Donde $X_{nc}$ es la fracción molar de no condensables promedio y en la interfase para avg e i respectivamente. \n",
    "\n"
   ]
  },
  {
   "cell_type": "code",
   "execution_count": 2,
   "metadata": {},
   "outputs": [
    {
     "ename": "NameError",
     "evalue": "name 'P' is not defined",
     "output_type": "error",
     "traceback": [
      "\u001b[0;31m---------------------------------------------------------------------------\u001b[0m",
      "\u001b[0;31mNameError\u001b[0m                                 Traceback (most recent call last)",
      "\u001b[0;32m<ipython-input-2-4b647e0d5006>\u001b[0m in \u001b[0;36m<module>\u001b[0;34m\u001b[0m\n\u001b[1;32m      8\u001b[0m \u001b[0;34m\u001b[0m\u001b[0m\n\u001b[1;32m      9\u001b[0m \u001b[0;34m\u001b[0m\u001b[0m\n\u001b[0;32m---> 10\u001b[0;31m \u001b[0mP_bar\u001b[0m\u001b[0;34m=\u001b[0m\u001b[0mP\u001b[0m\u001b[0;34m*\u001b[0m\u001b[0;36m1e-5\u001b[0m\u001b[0;34m\u001b[0m\u001b[0;34m\u001b[0m\u001b[0m\n\u001b[0m\u001b[1;32m     11\u001b[0m \u001b[0mT_ast\u001b[0m\u001b[0;34m=\u001b[0m\u001b[0mT_g\u001b[0m\u001b[0;34m/\u001b[0m\u001b[0mepsilon_N2agua\u001b[0m\u001b[0;34m\u001b[0m\u001b[0;34m\u001b[0m\u001b[0m\n\u001b[1;32m     12\u001b[0m \u001b[0;34m\u001b[0m\u001b[0m\n",
      "\u001b[0;31mNameError\u001b[0m: name 'P' is not defined"
     ]
    }
   ],
   "source": [
    "sigma_N2=3.798 # cm/mol- Ecuación 11-4.2 Properties of gases and liquids Reid\n",
    "sigma_agua=2.641 # cm/mol\n",
    "sigma_comb=(sigma_N2+sigma_agua)/2\n",
    "R_gases=8.31442 # Constante universal de los gases J/K mol\n",
    "epsilon_N2=71.4\n",
    "epsilon_agua=809.1 \n",
    "epsilon_N2agua=(epsilon_N2*epsilon_agua)**1/2\n",
    "\n",
    "\n",
    "P_bar=P*1e-5\n",
    "T_ast=T_g/epsilon_N2agua\n",
    "\n",
    "M_a=28 #[g/mol] peso molecular de N2 \n",
    "M_b=18 #peso molecular de Agua\n",
    "\n",
    "M_ab=(2/((1/M_a)+(1/M_b))) # Masa reducida de la fase vapor [g/mol]\n",
    "A=1.06036\n",
    "B=0.15610\n",
    "C=0.19300\n",
    "D=0.47635\n",
    "E=1.03587\n",
    "F=1.52996\n",
    "G=1.76474\n",
    "H=3.89411\n",
    "\n",
    "\n",
    "omega_d=(A/(T_ast**B))+(C/math.exp(D*T_ast))+(E/math.exp(F*T_ast))+(G/math.exp(H*T_ast)) #Integral de colisión\n",
    "D_ab=(3.03-(0.98/M_ab**(1/2)))*(10**-3)*(T_g**(3/2))/(P_bar*M_ab**(1/2)*sigma_comb**2*omega_d)*0.0001#Coeficiente de difusión en m²/s"
   ]
  }
 ],
 "metadata": {
  "kernelspec": {
   "display_name": "Python 3",
   "language": "python",
   "name": "python3"
  },
  "language_info": {
   "codemirror_mode": {
    "name": "ipython",
    "version": 3
   },
   "file_extension": ".py",
   "mimetype": "text/x-python",
   "name": "python",
   "nbconvert_exporter": "python",
   "pygments_lexer": "ipython3",
   "version": "3.7.3"
  }
 },
 "nbformat": 4,
 "nbformat_minor": 2
}
