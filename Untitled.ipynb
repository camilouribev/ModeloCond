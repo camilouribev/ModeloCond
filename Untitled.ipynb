{
 "cells": [
  {
   "cell_type": "code",
   "execution_count": 48,
   "metadata": {},
   "outputs": [],
   "source": [
    "from thermo.chemical import Mixture, Chemical\n",
    "import statistics\n",
    "import numpy as np\n",
    "import math\n",
    "from IPython.display import Image\n",
    "\n",
    "T_w=273.15+80 # Temperatura de pared en [K]\n",
    "T_g=273.15+450 # Temperatura de los gases [K]\n",
    "T_i=273.15+100 # Temperatura estimada de la interfase en [K]\n",
    "T_propiedades= T_w+(0.25*(T_i-T_w))\n",
    "P=101325 # Presión de operación en pascales\n",
    "kappa=1.78e-3# Coeficiente de transferencia de masa m/s\n",
    "\n",
    "v_fluid=0.05 # velocidad de la película líquida [m/s]\n",
    "\n",
    "Frac_n2=0.5 #fracción másica de nitrógeno en los gases de pirólisis\n",
    "frac_comp=(1-Frac_n2)/7\n",
    "frac_non=1/7"
   ]
  },
  {
   "cell_type": "code",
   "execution_count": 84,
   "metadata": {},
   "outputs": [
    {
     "data": {
      "text/plain": [
       "481029.7086970275"
      ]
     },
     "execution_count": 84,
     "metadata": {},
     "output_type": "execute_result"
    }
   ],
   "source": [
    "comp = {'Nitrogen': Frac_n2,\n",
    "        'leucoglucosan': frac_comp,\n",
    "        'furfural': frac_comp,\n",
    "        'Phenol': frac_comp,\n",
    "        'guaiacol': frac_comp,\n",
    "        'eugenol': frac_comp,\n",
    "        'o-cresol': frac_comp,\n",
    "         'Syringol':frac_comp}\n",
    "\n",
    "compcond = {'leucoglucosan': frac_non,\n",
    "            'furfural': frac_non,\n",
    "            'Phenol': frac_non,\n",
    "            'guaiacol': frac_non,\n",
    "            'eugenol': frac_non,\n",
    "            'o-cresol': frac_non,\n",
    "            'Syringol': frac_non}\n",
    "\n",
    "gases = Mixture(ws=comp, T=T_g, P=P)\n",
    "condensado= Mixture(ws=compcond, T=T_propiedades, P=P)\n",
    "\n",
    "den_gases= gases.rhog# densidad de la mezcla gaseosa [Kg/m³]\n",
    "den_cond= statistics.mean([x for x in condensado.rholms if x is not None]) # densidad de la mezcla líquida [kg/m³]\n",
    "k_gas= (gases.kl+gases.kg)/2 #conductividad térmica [W/m K]\n",
    "k_cond= condensado.kl \n",
    "visc_gases= statistics.mean([x for x in gases.mugs if x is not None])  # Viscosidad [kg/ms]\n",
    "visc_cond= statistics.mean([x for x in condensado.muls if x is not None])\n",
    "cp_gases=gases.Cpg # Capacidad calorífica [J/kg/K]\n",
    "cp_cond=condensado.Cpl\n",
    "\n",
    "Pr_gas=statistics.mean([x for x in gases.Prgs if x is not None]) # Número de Prandtl\n",
    "Pr_cond=statistics.mean([x for x in condensado.Prls if x is not None])\n",
    "\n",
    "h_fg_prom=statistics.mean([x for x in condensado.Hvaps if x is not None]) # Hvaps es entalpía de evaporación en [J/kg]\n",
    "\n",
    "con=gases.rhogm# concentración de vapor condensable en la mezcla de gases mol/m³\n",
    "\n",
    "\n",
    "h_fg_prom"
   ]
  },
  {
   "cell_type": "code",
   "execution_count": 3,
   "metadata": {},
   "outputs": [
    {
     "ename": "TypeError",
     "evalue": "type NoneType doesn't define __round__ method",
     "output_type": "error",
     "traceback": [
      "\u001b[0;31m---------------------------------------------------------------------------\u001b[0m",
      "\u001b[0;31mTypeError\u001b[0m                                 Traceback (most recent call last)",
      "\u001b[0;32m<ipython-input-3-178036c8261e>\u001b[0m in \u001b[0;36m<module>\u001b[0;34m\u001b[0m\n\u001b[1;32m      2\u001b[0m       \u001b[0;34m\"Conductividad térmica del gas: {} W/mK\"\u001b[0m\u001b[0;34m.\u001b[0m\u001b[0mformat\u001b[0m\u001b[0;34m(\u001b[0m\u001b[0mround\u001b[0m\u001b[0;34m(\u001b[0m\u001b[0mk_gas\u001b[0m\u001b[0;34m,\u001b[0m\u001b[0;36m4\u001b[0m\u001b[0;34m)\u001b[0m\u001b[0;34m)\u001b[0m\u001b[0;34m,\u001b[0m\u001b[0;34m\u001b[0m\u001b[0;34m\u001b[0m\u001b[0m\n\u001b[1;32m      3\u001b[0m       \u001b[0;34m\"Calor específico gases: {} J/KgK\"\u001b[0m\u001b[0;34m.\u001b[0m\u001b[0mformat\u001b[0m\u001b[0;34m(\u001b[0m\u001b[0mround\u001b[0m\u001b[0;34m(\u001b[0m\u001b[0mcp_gases\u001b[0m\u001b[0;34m,\u001b[0m\u001b[0;36m4\u001b[0m\u001b[0;34m)\u001b[0m\u001b[0;34m)\u001b[0m\u001b[0;34m,\u001b[0m\u001b[0;34m\u001b[0m\u001b[0;34m\u001b[0m\u001b[0m\n\u001b[0;32m----> 4\u001b[0;31m       \u001b[0;34m\"Prandtl mezcla gaseosa: {} \"\u001b[0m\u001b[0;34m.\u001b[0m\u001b[0mformat\u001b[0m\u001b[0;34m(\u001b[0m\u001b[0mround\u001b[0m\u001b[0;34m(\u001b[0m\u001b[0mPr_gas\u001b[0m\u001b[0;34m,\u001b[0m\u001b[0;36m2\u001b[0m\u001b[0;34m)\u001b[0m\u001b[0;34m)\u001b[0m\u001b[0;34m,\u001b[0m\u001b[0;34m\u001b[0m\u001b[0;34m\u001b[0m\u001b[0m\n\u001b[0m\u001b[1;32m      5\u001b[0m       \u001b[0;34m\"Concentración:{} mol/m³\"\u001b[0m\u001b[0;34m.\u001b[0m\u001b[0mformat\u001b[0m\u001b[0;34m(\u001b[0m\u001b[0mround\u001b[0m\u001b[0;34m(\u001b[0m\u001b[0mcon\u001b[0m\u001b[0;34m,\u001b[0m\u001b[0;36m2\u001b[0m\u001b[0;34m)\u001b[0m\u001b[0;34m)\u001b[0m\u001b[0;34m,\u001b[0m\u001b[0;34m\u001b[0m\u001b[0;34m\u001b[0m\u001b[0m\n\u001b[1;32m      6\u001b[0m       sep='\\n')\n",
      "\u001b[0;31mTypeError\u001b[0m: type NoneType doesn't define __round__ method"
     ]
    }
   ],
   "source": [
    "print(\"Densidad gas: {} kg/m³\".format(round(den_gases,4)),\n",
    "      \"Conductividad térmica del gas: {} W/mK\".format(round(k_gas,4)),\n",
    "      \"Calor específico gases: {} J/KgK\".format(round(cp_gases,4)),\n",
    "      \"Prandtl mezcla gaseosa: {} \".format(round(Pr_gas,2)),\n",
    "      \"Concentración:{} mol/m³\".format(round(con,2)),\n",
    "      sep='\\n')"
   ]
  },
  {
   "cell_type": "code",
   "execution_count": null,
   "metadata": {},
   "outputs": [],
   "source": [
    "\n"
   ]
  }
 ],
 "metadata": {
  "kernelspec": {
   "display_name": "Python 3",
   "language": "python",
   "name": "python3"
  },
  "language_info": {
   "codemirror_mode": {
    "name": "ipython",
    "version": 3
   },
   "file_extension": ".py",
   "mimetype": "text/x-python",
   "name": "python",
   "nbconvert_exporter": "python",
   "pygments_lexer": "ipython3",
   "version": "3.7.3"
  }
 },
 "nbformat": 4,
 "nbformat_minor": 2
}
