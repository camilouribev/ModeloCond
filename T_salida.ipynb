{
 "cells": [
  {
   "cell_type": "markdown",
   "metadata": {},
   "source": [
    "### Cálculo de la temperatura de salida de los gases respecto a Z\n",
    "\n",
    "\n",
    "$$A_{w}h_T(T_g-T_w)=\\dot{m}_{gases}C_p(T_g-T_{sal})+\\dot{m}_{cond}h_{fg}$$\n",
    "\n",
    "$$A_{w}h_T(T_g-T_w)=\\dot{m}_{gases}C_p\\frac{dT}{dx}+\\dot{m}_{cond}h_{fg}$$\n",
    "\n",
    "Asumiendo que el área corresponde a la supeficie de un tubo cuyo eje  está en dirección $x$, tenemos:\n",
    "\n",
    "$$dT=\\frac{2\\pi rx h_T(T_g-T_w)dx}{\\dot{m}_{gases}C_p}-\\frac{\\dot{m}_{cond}h_{fg}dx}{\\dot{m}_{gases}C_p}$$\n",
    "\n",
    "$$\\int_{T_g}^{T_{sal}}dT=\\frac{2\\pi r h_T(T_g-T_w)}{\\dot{m}_{gases}C_p}\\int_{0}^{Z}xdx-\\frac{\\dot{m}_{cond}h_{fg}}{\\dot{m}_{gases}C_p}\\int_{0}^{Z}dx$$\n",
    "\n",
    "\n",
    "\n",
    "$$T_g-T_{sal}=\\frac {\\pi rZ^{2} h_T(T_g-T_w)-\\dot{m}_{cond}h_{fg}Z}{\\dot{m}_{gases}C_p}$$\n",
    "\n",
    "\n",
    "$$T_{sal}=T_g-\\left(\\frac{\\pi rZ h_T(T_g-T_w)-\\dot{m}_{cond}h_{fg}}{\\dot{m}_{gases}C_p}\\right)Z $$\n",
    "\n",
    "\n",
    "Con esta temperatura de salida del condensador podemos hallar la temperatura media logarítmica, y obtener el área en la ecuación global de transferencia.\n",
    "$$ A=\\frac{Q_{req}}{U\\Delta T}= \\frac{Q_{req}}{U\\left(\\frac{(T_g-T_{aent})-(T_{sal}-T_{asal})}{ln(T_g-T_{aent})-ln(T_{sal}-T_{asal})}\\right) }$$\n"
   ]
  },
  {
   "cell_type": "markdown",
   "metadata": {},
   "source": [
    "$$ A=\\frac{Q_{req}}{U\\Delta T}= \\frac{Q_{req}}{U\\left(\\frac{(T_g-T_{aent})-(T_{sal}-T_{asal})}{ln(T_g-T_{aent})-ln(T_{sal}-T_{asal})}\\right) }$$"
   ]
  },
  {
   "cell_type": "code",
   "execution_count": 1,
   "metadata": {},
   "outputs": [
    {
     "ename": "NameError",
     "evalue": "name 'T_g' is not defined",
     "output_type": "error",
     "traceback": [
      "\u001b[0;31m---------------------------------------------------------------------------\u001b[0m",
      "\u001b[0;31mNameError\u001b[0m                                 Traceback (most recent call last)",
      "\u001b[0;32m<ipython-input-1-6818e7d70b96>\u001b[0m in \u001b[0;36m<module>\u001b[0;34m\u001b[0m\n\u001b[1;32m      3\u001b[0m \u001b[0;34m\u001b[0m\u001b[0m\n\u001b[1;32m      4\u001b[0m \u001b[0;34m\u001b[0m\u001b[0m\n\u001b[0;32m----> 5\u001b[0;31m \u001b[0mT_sal\u001b[0m\u001b[0;34m=\u001b[0m\u001b[0mT_g\u001b[0m \u001b[0;34m-\u001b[0m\u001b[0;34m(\u001b[0m\u001b[0;34m(\u001b[0m\u001b[0;34m(\u001b[0m\u001b[0mmath\u001b[0m\u001b[0;34m.\u001b[0m\u001b[0mpi\u001b[0m\u001b[0;34m*\u001b[0m\u001b[0;34m(\u001b[0m\u001b[0md_ti\u001b[0m\u001b[0;34m/\u001b[0m\u001b[0;36m2\u001b[0m\u001b[0;34m)\u001b[0m\u001b[0;34m*\u001b[0m\u001b[0mZ\u001b[0m\u001b[0;34m*\u001b[0m\u001b[0mh_tot\u001b[0m\u001b[0;34m*\u001b[0m\u001b[0;34m(\u001b[0m\u001b[0mT_g\u001b[0m\u001b[0;34m-\u001b[0m\u001b[0mT_w\u001b[0m\u001b[0;34m)\u001b[0m\u001b[0;34m-\u001b[0m\u001b[0mqvap_biomasa\u001b[0m\u001b[0;34m)\u001b[0m\u001b[0;34m/\u001b[0m\u001b[0;34m(\u001b[0m\u001b[0;34m(\u001b[0m\u001b[0mmas_N2\u001b[0m\u001b[0;34m*\u001b[0m\u001b[0mCp_N2\u001b[0m\u001b[0;34m)\u001b[0m\u001b[0;34m+\u001b[0m\u001b[0;34m(\u001b[0m\u001b[0mm_biomasa\u001b[0m\u001b[0;34m*\u001b[0m\u001b[0mcp_cond\u001b[0m\u001b[0;34m)\u001b[0m\u001b[0;34m)\u001b[0m\u001b[0;34m)\u001b[0m\u001b[0;34m*\u001b[0m\u001b[0mZ\u001b[0m\u001b[0;34m)\u001b[0m\u001b[0;34m\u001b[0m\u001b[0;34m\u001b[0m\u001b[0m\n\u001b[0m\u001b[1;32m      6\u001b[0m \u001b[0;34m\u001b[0m\u001b[0m\n\u001b[1;32m      7\u001b[0m \u001b[0mLMTD\u001b[0m\u001b[0;34m=\u001b[0m \u001b[0;34m(\u001b[0m\u001b[0;34m(\u001b[0m\u001b[0mT_g\u001b[0m\u001b[0;34m-\u001b[0m\u001b[0mT_ent_oil\u001b[0m\u001b[0;34m)\u001b[0m\u001b[0;34m-\u001b[0m\u001b[0;34m(\u001b[0m\u001b[0mT_sal\u001b[0m\u001b[0;34m-\u001b[0m\u001b[0;36m273.15\u001b[0m\u001b[0;34m+\u001b[0m\u001b[0;36m80\u001b[0m\u001b[0;34m)\u001b[0m\u001b[0;34m)\u001b[0m\u001b[0;34m/\u001b[0m \u001b[0;34m(\u001b[0m\u001b[0mnp\u001b[0m\u001b[0;34m.\u001b[0m\u001b[0mlog\u001b[0m\u001b[0;34m(\u001b[0m\u001b[0mT_g\u001b[0m\u001b[0;34m-\u001b[0m\u001b[0mT_ent_oil\u001b[0m\u001b[0;34m)\u001b[0m\u001b[0;34m-\u001b[0m\u001b[0mnp\u001b[0m\u001b[0;34m.\u001b[0m\u001b[0mlog\u001b[0m\u001b[0;34m(\u001b[0m\u001b[0mT_sal\u001b[0m\u001b[0;34m-\u001b[0m\u001b[0;36m273\u001b[0m\u001b[0;34m-\u001b[0m\u001b[0;36m15\u001b[0m\u001b[0;34m+\u001b[0m\u001b[0;36m80\u001b[0m\u001b[0;34m)\u001b[0m\u001b[0;34m)\u001b[0m\u001b[0;34m\u001b[0m\u001b[0;34m\u001b[0m\u001b[0m\n",
      "\u001b[0;31mNameError\u001b[0m: name 'T_g' is not defined"
     ]
    }
   ],
   "source": [
    "#Temperatura salida de los gases\n",
    "#<623 pero >353\n",
    "\n",
    "\n",
    "T_sal=T_g -(((math.pi*(d_ti/2)*Z*h_tot*(T_g-T_w)-qvap_biomasa)/((mas_N2*Cp_N2)+(m_biomasa*cp_cond)))*Z)\n",
    "\n",
    "LMTD= ((T_g-T_ent_oil)-(T_sal-273.15+80))/ (np.log(T_g-T_ent_oil)-np.log(T_sal-273-15+80)) \n",
    "\n",
    "AREA=Q_req/U*LMTD\n",
    "\n",
    "print(\"T_sal: {} K\".format(round(T_sal,6)),\n",
    "      \"LMTD: {} K\".format(round(LMTD,2)),\n",
    "      \"U: {} W/m²K\".format(round(U,2)),\n",
    "      \"ÁREA CONDENSADOR: {} m²\".format(round(AREA,2)),\n",
    "     sep='\\n')"
   ]
  }
 ],
 "metadata": {
  "kernelspec": {
   "display_name": "Python 3",
   "language": "python",
   "name": "python3"
  },
  "language_info": {
   "codemirror_mode": {
    "name": "ipython",
    "version": 3
   },
   "file_extension": ".py",
   "mimetype": "text/x-python",
   "name": "python",
   "nbconvert_exporter": "python",
   "pygments_lexer": "ipython3",
   "version": "3.7.3"
  }
 },
 "nbformat": 4,
 "nbformat_minor": 2
}
